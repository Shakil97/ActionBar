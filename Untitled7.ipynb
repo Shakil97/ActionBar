{
  "nbformat": 4,
  "nbformat_minor": 0,
  "metadata": {
    "colab": {
      "name": "Untitled7.ipynb",
      "provenance": [],
      "collapsed_sections": [],
      "authorship_tag": "ABX9TyP/wd01Eh+de7j/vw8SPV80",
      "include_colab_link": true
    },
    "kernelspec": {
      "name": "python3",
      "display_name": "Python 3"
    }
  },
  "cells": [
    {
      "cell_type": "markdown",
      "metadata": {
        "id": "view-in-github",
        "colab_type": "text"
      },
      "source": [
        "<a href=\"https://colab.research.google.com/github/Shakil97/ActionBar/blob/master/Untitled7.ipynb\" target=\"_parent\"><img src=\"https://colab.research.google.com/assets/colab-badge.svg\" alt=\"Open In Colab\"/></a>"
      ]
    },
    {
      "cell_type": "code",
      "metadata": {
        "colab": {
          "base_uri": "https://localhost:8080/"
        },
        "id": "F4l0kJAfG8gL",
        "outputId": "690109aa-938a-4d41-8ec7-c55be94613c8"
      },
      "source": [
        "!pip install --upgrade gspread"
      ],
      "execution_count": null,
      "outputs": [
        {
          "output_type": "stream",
          "text": [
            "Collecting gspread\n",
            "  Downloading https://files.pythonhosted.org/packages/9c/ba/bc8de4f5077bd34bc873bdd67a89cb29c4f181abba8a836d2c6a0a142365/gspread-3.6.0-py3-none-any.whl\n",
            "Requirement already satisfied, skipping upgrade: google-auth>=1.12.0 in /usr/local/lib/python3.6/dist-packages (from gspread) (1.17.2)\n",
            "Requirement already satisfied, skipping upgrade: google-auth-oauthlib>=0.4.1 in /usr/local/lib/python3.6/dist-packages (from gspread) (0.4.2)\n",
            "Requirement already satisfied, skipping upgrade: requests>=2.2.1 in /usr/local/lib/python3.6/dist-packages (from gspread) (2.23.0)\n",
            "Requirement already satisfied, skipping upgrade: rsa<5,>=3.1.4; python_version >= \"3\" in /usr/local/lib/python3.6/dist-packages (from google-auth>=1.12.0->gspread) (4.6)\n",
            "Requirement already satisfied, skipping upgrade: pyasn1-modules>=0.2.1 in /usr/local/lib/python3.6/dist-packages (from google-auth>=1.12.0->gspread) (0.2.8)\n",
            "Requirement already satisfied, skipping upgrade: cachetools<5.0,>=2.0.0 in /usr/local/lib/python3.6/dist-packages (from google-auth>=1.12.0->gspread) (4.2.0)\n",
            "Requirement already satisfied, skipping upgrade: setuptools>=40.3.0 in /usr/local/lib/python3.6/dist-packages (from google-auth>=1.12.0->gspread) (51.3.3)\n",
            "Requirement already satisfied, skipping upgrade: six>=1.9.0 in /usr/local/lib/python3.6/dist-packages (from google-auth>=1.12.0->gspread) (1.15.0)\n",
            "Requirement already satisfied, skipping upgrade: requests-oauthlib>=0.7.0 in /usr/local/lib/python3.6/dist-packages (from google-auth-oauthlib>=0.4.1->gspread) (1.3.0)\n",
            "Requirement already satisfied, skipping upgrade: chardet<4,>=3.0.2 in /usr/local/lib/python3.6/dist-packages (from requests>=2.2.1->gspread) (3.0.4)\n",
            "Requirement already satisfied, skipping upgrade: idna<3,>=2.5 in /usr/local/lib/python3.6/dist-packages (from requests>=2.2.1->gspread) (2.10)\n",
            "Requirement already satisfied, skipping upgrade: urllib3!=1.25.0,!=1.25.1,<1.26,>=1.21.1 in /usr/local/lib/python3.6/dist-packages (from requests>=2.2.1->gspread) (1.24.3)\n",
            "Requirement already satisfied, skipping upgrade: certifi>=2017.4.17 in /usr/local/lib/python3.6/dist-packages (from requests>=2.2.1->gspread) (2020.12.5)\n",
            "Requirement already satisfied, skipping upgrade: pyasn1>=0.1.3 in /usr/local/lib/python3.6/dist-packages (from rsa<5,>=3.1.4; python_version >= \"3\"->google-auth>=1.12.0->gspread) (0.4.8)\n",
            "Requirement already satisfied, skipping upgrade: oauthlib>=3.0.0 in /usr/local/lib/python3.6/dist-packages (from requests-oauthlib>=0.7.0->google-auth-oauthlib>=0.4.1->gspread) (3.1.0)\n",
            "Installing collected packages: gspread\n",
            "  Found existing installation: gspread 3.0.1\n",
            "    Uninstalling gspread-3.0.1:\n",
            "      Successfully uninstalled gspread-3.0.1\n",
            "Successfully installed gspread-3.6.0\n"
          ],
          "name": "stdout"
        }
      ]
    },
    {
      "cell_type": "code",
      "metadata": {
        "colab": {
          "base_uri": "https://localhost:8080/"
        },
        "id": "QpQEonboIw7v",
        "outputId": "508ba481-b0bc-47c9-8655-5d814453472e"
      },
      "source": [
        "!pip install bert-for-tf2\r\n",
        "!pip install sentencepiece"
      ],
      "execution_count": null,
      "outputs": [
        {
          "output_type": "stream",
          "text": [
            "Collecting bert-for-tf2\n",
            "\u001b[?25l  Downloading https://files.pythonhosted.org/packages/a5/a1/acb891630749c56901e770a34d6bac8a509a367dd74a05daf7306952e910/bert-for-tf2-0.14.9.tar.gz (41kB)\n",
            "\r\u001b[K     |████████                        | 10kB 15.3MB/s eta 0:00:01\r\u001b[K     |████████████████                | 20kB 10.2MB/s eta 0:00:01\r\u001b[K     |███████████████████████▉        | 30kB 8.5MB/s eta 0:00:01\r\u001b[K     |███████████████████████████████▉| 40kB 7.4MB/s eta 0:00:01\r\u001b[K     |████████████████████████████████| 51kB 4.0MB/s \n",
            "\u001b[?25hCollecting py-params>=0.9.6\n",
            "  Downloading https://files.pythonhosted.org/packages/75/2c/2256f28ef35946682ce703e69de914773c3f62048f4de6966d4e2dc1930a/py-params-0.10.1.tar.gz\n",
            "Collecting params-flow>=0.8.0\n",
            "  Downloading https://files.pythonhosted.org/packages/a9/95/ff49f5ebd501f142a6f0aaf42bcfd1c192dc54909d1d9eb84ab031d46056/params-flow-0.8.2.tar.gz\n",
            "Requirement already satisfied: numpy in /usr/local/lib/python3.6/dist-packages (from params-flow>=0.8.0->bert-for-tf2) (1.19.5)\n",
            "Requirement already satisfied: tqdm in /usr/local/lib/python3.6/dist-packages (from params-flow>=0.8.0->bert-for-tf2) (4.41.1)\n",
            "Building wheels for collected packages: bert-for-tf2, py-params, params-flow\n",
            "  Building wheel for bert-for-tf2 (setup.py) ... \u001b[?25l\u001b[?25hdone\n",
            "  Created wheel for bert-for-tf2: filename=bert_for_tf2-0.14.9-cp36-none-any.whl size=30534 sha256=61099fd4574cc621d854b91bb8cf33793d6bfb5ffdf230a68c19b28925565856\n",
            "  Stored in directory: /root/.cache/pip/wheels/a1/04/ee/347bd9f5b821b637c76411d280271a857aece00358896a230f\n",
            "  Building wheel for py-params (setup.py) ... \u001b[?25l\u001b[?25hdone\n",
            "  Created wheel for py-params: filename=py_params-0.10.1-cp36-none-any.whl size=7849 sha256=5d16c9d536739640f934457cb7cf9fb20feeeb495b56f80f72153cd2338cec60\n",
            "  Stored in directory: /root/.cache/pip/wheels/fd/13/cf/731530f5760266e69a40217ea27fa0d39a2d2a67230a73e2bc\n",
            "  Building wheel for params-flow (setup.py) ... \u001b[?25l\u001b[?25hdone\n",
            "  Created wheel for params-flow: filename=params_flow-0.8.2-cp36-none-any.whl size=19474 sha256=5203ede20e85dd26d4e4939a8be2bef4f0f81de0fa4bd3885137ace9d7c63b62\n",
            "  Stored in directory: /root/.cache/pip/wheels/08/c8/7f/81c86b9ff2b86e2c477e3914175be03e679e596067dc630c06\n",
            "Successfully built bert-for-tf2 py-params params-flow\n",
            "Installing collected packages: py-params, params-flow, bert-for-tf2\n",
            "Successfully installed bert-for-tf2-0.14.9 params-flow-0.8.2 py-params-0.10.1\n",
            "Collecting sentencepiece\n",
            "\u001b[?25l  Downloading https://files.pythonhosted.org/packages/14/67/e42bd1181472c95c8cda79305df848264f2a7f62740995a46945d9797b67/sentencepiece-0.1.95-cp36-cp36m-manylinux2014_x86_64.whl (1.2MB)\n",
            "\u001b[K     |████████████████████████████████| 1.2MB 5.8MB/s \n",
            "\u001b[?25hInstalling collected packages: sentencepiece\n",
            "Successfully installed sentencepiece-0.1.95\n"
          ],
          "name": "stdout"
        }
      ]
    },
    {
      "cell_type": "code",
      "metadata": {
        "id": "sgRnw29Froyg"
      },
      "source": [
        "i = []\r\n",
        "while True:\r\n",
        "  i.append(i)\r\n"
      ],
      "execution_count": null,
      "outputs": []
    },
    {
      "cell_type": "code",
      "metadata": {
        "colab": {
          "resources": {
            "http://localhost:8080/nbextensions/google.colab/files.js": {
              "data": "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",
              "ok": true,
              "headers": [
                [
                  "content-type",
                  "application/javascript"
                ]
              ],
              "status": 200,
              "status_text": ""
            }
          },
          "base_uri": "https://localhost:8080/",
          "height": 89
        },
        "id": "74Xe1HrRrkli",
        "outputId": "58a33872-7a0b-4873-973e-96c8e3aaf1e1"
      },
      "source": [
        "from google.colab import files\r\n",
        "files.upload()"
      ],
      "execution_count": null,
      "outputs": [
        {
          "output_type": "display_data",
          "data": {
            "text/html": [
              "\n",
              "     <input type=\"file\" id=\"files-d7b844e3-16b8-4b69-8ff4-9c3febc2d218\" name=\"files[]\" multiple disabled\n",
              "        style=\"border:none\" />\n",
              "     <output id=\"result-d7b844e3-16b8-4b69-8ff4-9c3febc2d218\">\n",
              "      Upload widget is only available when the cell has been executed in the\n",
              "      current browser session. Please rerun this cell to enable.\n",
              "      </output>\n",
              "      <script src=\"/nbextensions/google.colab/files.js\"></script> "
            ],
            "text/plain": [
              "<IPython.core.display.HTML object>"
            ]
          },
          "metadata": {
            "tags": []
          }
        },
        {
          "output_type": "stream",
          "text": [
            "Saving kaggle.json to kaggle.json\n"
          ],
          "name": "stdout"
        },
        {
          "output_type": "execute_result",
          "data": {
            "text/plain": [
              "{'kaggle.json': b'{\"username\":\"fahimulislamshakil\",\"key\":\"44731c1cd6d0f6cb331f2383544162dc\"}'}"
            ]
          },
          "metadata": {
            "tags": []
          },
          "execution_count": 1
        }
      ]
    },
    {
      "cell_type": "code",
      "metadata": {
        "colab": {
          "base_uri": "https://localhost:8080/"
        },
        "id": "te0VtuFPsGTx",
        "outputId": "3da497af-027d-4fad-d29d-8cab3f644b6e"
      },
      "source": [
        "!pip install kaggle"
      ],
      "execution_count": null,
      "outputs": [
        {
          "output_type": "stream",
          "text": [
            "Requirement already satisfied: kaggle in /usr/local/lib/python3.6/dist-packages (1.5.10)\n",
            "Requirement already satisfied: requests in /usr/local/lib/python3.6/dist-packages (from kaggle) (2.23.0)\n",
            "Requirement already satisfied: certifi in /usr/local/lib/python3.6/dist-packages (from kaggle) (2020.12.5)\n",
            "Requirement already satisfied: urllib3 in /usr/local/lib/python3.6/dist-packages (from kaggle) (1.24.3)\n",
            "Requirement already satisfied: python-dateutil in /usr/local/lib/python3.6/dist-packages (from kaggle) (2.8.1)\n",
            "Requirement already satisfied: python-slugify in /usr/local/lib/python3.6/dist-packages (from kaggle) (4.0.1)\n",
            "Requirement already satisfied: six>=1.10 in /usr/local/lib/python3.6/dist-packages (from kaggle) (1.15.0)\n",
            "Requirement already satisfied: tqdm in /usr/local/lib/python3.6/dist-packages (from kaggle) (4.41.1)\n",
            "Requirement already satisfied: idna<3,>=2.5 in /usr/local/lib/python3.6/dist-packages (from requests->kaggle) (2.10)\n",
            "Requirement already satisfied: chardet<4,>=3.0.2 in /usr/local/lib/python3.6/dist-packages (from requests->kaggle) (3.0.4)\n",
            "Requirement already satisfied: text-unidecode>=1.3 in /usr/local/lib/python3.6/dist-packages (from python-slugify->kaggle) (1.3)\n"
          ],
          "name": "stdout"
        }
      ]
    },
    {
      "cell_type": "code",
      "metadata": {
        "colab": {
          "resources": {
            "http://localhost:8080/nbextensions/google.colab/files.js": {
              "data": "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",
              "ok": true,
              "headers": [
                [
                  "content-type",
                  "application/javascript"
                ]
              ],
              "status": 200,
              "status_text": ""
            }
          },
          "base_uri": "https://localhost:8080/",
          "height": 109
        },
        "id": "uKqXl-daxIRm",
        "outputId": "49e1e6d2-ca0e-4fec-8b38-f90a68a8a042"
      },
      "source": [
        "from google.colab import files\r\n",
        "files.upload()"
      ],
      "execution_count": null,
      "outputs": [
        {
          "output_type": "display_data",
          "data": {
            "text/html": [
              "\n",
              "     <input type=\"file\" id=\"files-b747acdb-870d-4f8b-ab87-25391605c97f\" name=\"files[]\" multiple disabled\n",
              "        style=\"border:none\" />\n",
              "     <output id=\"result-b747acdb-870d-4f8b-ab87-25391605c97f\">\n",
              "      Upload widget is only available when the cell has been executed in the\n",
              "      current browser session. Please rerun this cell to enable.\n",
              "      </output>\n",
              "      <script src=\"/nbextensions/google.colab/files.js\"></script> "
            ],
            "text/plain": [
              "<IPython.core.display.HTML object>"
            ]
          },
          "metadata": {
            "tags": []
          }
        },
        {
          "output_type": "stream",
          "text": [
            "Saving shortlyrics - Sheet1.json to shortlyrics - Sheet1.json\n"
          ],
          "name": "stdout"
        },
        {
          "output_type": "execute_result",
          "data": {
            "text/plain": [
              "{'shortlyrics - Sheet1.json': b'[\\r\\n {\\r\\n   \"title\": \"\\xe0\\xa6\\x85\\xe0\\xa6\\xaa\\xe0\\xa6\\xb0\\xe0\\xa6\\xbe\\xe0\\xa6\\x9c\\xe0\\xa6\\xbf\\xe0\\xa6\\xa4\",\\r\\n   \"category\": \"\\xe0\\xa6\\xac\\xe0\\xa7\\x8d\\xe0\\xa6\\xaf\\xe0\\xa6\\xbe\\xe0\\xa6\\xa8\\xe0\\xa7\\x8d\\xe0\\xa6\\xa1\",\\r\\n   \"lyrics\": \"\\xe0\\xa6\\x8f\\xe0\\xa6\\xac\\xe0\\xa6\\xbe\\xe0\\xa6\\xb0 \\xe0\\xa6\\xa4\\xe0\\xa7\\x8b\\xe0\\xa6\\xae\\xe0\\xa6\\xbe\\xe0\\xa6\\xb0 \\xe0\\xa6\\x95\\xe0\\xa6\\xa5\\xe0\\xa6\\xbe\\xe0\\xa6\\x97\\xe0\\xa7\\x81\\xe0\\xa6\\xb2\\xe0\\xa7\\x8b\\xe0\\xa6\\xb0\\\\n\\xe0\\xa6\\x95\\xe0\\xa6\\xbe\\xe0\\xa6\\x9b\\xe0\\xa7\\x87 \\xe0\\xa6\\x86\\xe0\\xa6\\xae\\xe0\\xa6\\xbf \\xe0\\xa6\\x85\\xe0\\xa6\\xaa\\xe0\\xa6\\xb0\\xe0\\xa6\\xbe\\xe0\\xa6\\x9c\\xe0\\xa6\\xbf\\xe0\\xa6\\xa4\\\\n\\xe0\\xa6\\x9c\\xe0\\xa6\\xae\\xe0\\xa7\\x87 \\xe0\\xa6\\xa5\\xe0\\xa6\\xbe\\xe0\\xa6\\x95\\xe0\\xa6\\xbe \\xe0\\xa6\\xaf\\xe0\\xa6\\xa4 \\xe0\\xa6\\x85\\xe0\\xa6\\xa8\\xe0\\xa7\\x81\\xe0\\xa6\\xad\\xe0\\xa7\\x82\\xe0\\xa6\\xa4\\xe0\\xa6\\xbf \\xe0\\xa6\\x86\\xe0\\xa6\\xae\\xe0\\xa6\\xbe\\xe0\\xa6\\xb0\\\\n\\xe0\\xa6\\x9c\\xe0\\xa6\\xb2 \\xe0\\xa6\\xb0\\xe0\\xa6\\x99\\xe0\\xa7\\x87 \\xe0\\xa6\\xb9\\xe0\\xa6\\xbe\\xe0\\xa6\\xb0\\xe0\\xa6\\xbf\\xe0\\xa7\\x9f\\xe0\\xa7\\x87 \\xe0\\xa6\\xaf\\xe0\\xa6\\xbe\\xe0\\xa6\\xac\\xe0\\xa7\\x87\\\\n\\xe0\\xa6\\x85\\xe0\\xa6\\xa7\\xe0\\xa6\\xbf\\xe0\\xa6\\x95\\xe0\\xa6\\xbe\\xe0\\xa6\\xb0\\xe0\\xa7\\x87\\xe0\\xa6\\xb0 \\xe0\\xa6\\xad\\xe0\\xa6\\xbe\\xe0\\xa6\\xb2\\xe0\\xa6\\xac\\xe0\\xa6\\xbe\\xe0\\xa6\\xb8\\xe0\\xa6\\xbe\\\\n\\xe0\\xa6\\xb0\\xe0\\xa6\\x99\\xe0\\xa7\\x87 \\xe0\\xa6\\xb9\\xe0\\xa6\\xbe\\xe0\\xa6\\xb0\\xe0\\xa6\\xbf\\xe0\\xa7\\x9f\\xe0\\xa7\\x87 \\xe0\\xa6\\xaf\\xe0\\xa6\\xbe\\xe0\\xa6\\xac\\xe0\\xa7\\x87\\\\n\\xe0\\xa6\\x86\\xe0\\xa6\\xac\\xe0\\xa6\\xbe\\xe0\\xa6\\xb0 \\xe0\\xa6\\xab\\xe0\\xa6\\xbf\\xe0\\xa6\\xb0\\xe0\\xa7\\x87 \\xe0\\xa6\\x95\\xe0\\xa7\\x87\\xe0\\xa6\\xa8 \\xe0\\xa6\\x86\\xe0\\xa6\\xb8\\xe0\\xa6\\xbe?\\\\n\\xe0\\xa6\\xb9\\xe0\\xa7\\x87\\xe0\\xa6\\xb0\\xe0\\xa7\\x87 \\xe0\\xa6\\xaf\\xe0\\xa6\\xbe\\xe0\\xa6\\x93\\xe0\\xa7\\x9f\\xe0\\xa6\\xbe \\xe0\\xa6\\xaa\\xe0\\xa6\\xa5\\xe0\\xa7\\x87, \\xe0\\xa6\\xa6\\xe0\\xa7\\x81\\xe0\\xa6\\xb0\\xe0\\xa7\\x87, \\xe0\\xa6\\xb8\\xe0\\xa7\\x81\\xe0\\xa6\\xb0\\xe0\\xa7\\x87, \\xe0\\xa6\\x98\\xe0\\xa7\\x81\\xe0\\xa6\\xb0\\xe0\\xa7\\x87\\\\n\\xe0\\xa6\\xa4\\xe0\\xa7\\x8b\\xe0\\xa6\\xae\\xe0\\xa6\\xbe\\xe0\\xa6\\xb0 \\xe0\\xa6\\x86\\xe0\\xa6\\xae\\xe0\\xa6\\xbe\\xe0\\xa6\\xb0 \\xe0\\xa6\\xb8\\xe0\\xa7\\x8d\\xe0\\xa6\\xac\\xe0\\xa6\\xaa\\xe0\\xa7\\x8d\\xe0\\xa6\\xa8 \\xe0\\xa6\\xaa\\xe0\\xa7\\x81\\xe0\\xa6\\xa1\\xe0\\xa6\\xbc\\xe0\\xa7\\x87\\\\n\\xe0\\xa6\\xac\\xe0\\xa6\\xbf\\xe0\\xa6\\xb7\\xe0\\xa6\\xa3\\xe0\\xa7\\x8d\\xe0\\xa6\\xa3\\xe0\\xa6\\xa4\\xe0\\xa6\\xbe\\xe0\\xa6\\xb0 \\xe0\\xa6\\x9c\\xe0\\xa6\\x97\\xe0\\xa7\\x8e \\xe0\\xa6\\x9c\\xe0\\xa7\\x81\\xe0\\xa6\\xa1\\xe0\\xa6\\xbc\\xe0\\xa7\\x87 \\xe0\\xa6\\xa4\\xe0\\xa7\\x81\\xe0\\xa6\\xae\\xe0\\xa6\\xbf\\\\n\\xe0\\xa6\\xaf\\xe0\\xa7\\x87\\xe0\\xa6\\xa6\\xe0\\xa6\\xbf\\xe0\\xa6\\x95\\xe0\\xa7\\x87 \\xe0\\xa6\\xaf\\xe0\\xa6\\xbe\\xe0\\xa6\\xac\\xe0\\xa7\\x87 \\xe0\\xa6\\x86\\xe0\\xa6\\xae\\xe0\\xa6\\xbe\\xe0\\xa7\\x9f \\xe0\\xa6\\xad\\xe0\\xa7\\x87\\xe0\\xa6\\xac\\xe0\\xa7\\x87 \\xe0\\xa6\\xa4\\xe0\\xa7\\x8b\\xe0\\xa6\\xae\\xe0\\xa6\\xbe\\xe0\\xa6\\xb0 \\xe0\\xa6\\xa6\\xe0\\xa7\\x81\\xe0\\xa6\\x9a\\xe0\\xa7\\x8b\\xe0\\xa6\\x96\\\\n\\xe0\\xa6\\xb9\\xe0\\xa6\\xbe\\xe0\\xa6\\xb0\\xe0\\xa6\\xbe\\xe0\\xa6\\xac\\xe0\\xa7\\x87 \\xe0\\xa6\\xaa\\xe0\\xa6\\xa5 \\xe0\\xa6\\x86\\xe0\\xa6\\xb0\\xe0\\xa7\\x8d\\xe0\\xa6\\xa4\\xe0\\xa6\\xa8\\xe0\\xa6\\xbe\\xe0\\xa6\\xa6\\xe0\\xa7\\x87\\xe0\\xa6\\xb0 \\xe0\\xa6\\xac\\xe0\\xa7\\x83\\xe0\\xa6\\xb7\\xe0\\xa7\\x8d\\xe0\\xa6\\x9f\\xe0\\xa6\\xbf \\xe0\\xa6\\xb0\\xe0\\xa6\\xbe\\xe0\\xa6\\xa4\\xe0\\xa7\\x87\\\\n\\xe0\\xa6\\xab\\xe0\\xa7\\x87\\xe0\\xa6\\xb0\\xe0\\xa6\\xbe\\xe0\\xa6\\xac\\xe0\\xa7\\x87, \\xe0\\xa6\\xaf\\xe0\\xa7\\x87\\xe0\\xa6\\x96\\xe0\\xa6\\xbe\\xe0\\xa6\\xa8\\xe0\\xa7\\x87, \\xe0\\xa6\\x86\\xe0\\xa6\\xae\\xe0\\xa6\\xbf \\xe0\\xa6\\xa8\\xe0\\xa7\\x87\\xe0\\xa6\\x87, \\xe0\\xa6\\xa6\\xe0\\xa6\\xbe\\xe0\\xa6\\xa1\\xe0\\xa6\\xbc\\xe0\\xa6\\xbf\\xe0\\xa7\\x9f\\xe0\\xa7\\x87 \\xe0\\xa6\\xa6\\xe0\\xa6\\xbe\\xe0\\xa6\\xa1\\xe0\\xa6\\xbc\\xe0\\xa6\\xbf\\xe0\\xa7\\x9f\\xe0\\xa7\\x87\",\\r\\n   \"Mood\": \"\\xe0\\xa6\\xac\\xe0\\xa7\\x87\\xe0\\xa6\\xa6\\xe0\\xa6\\xa8\\xe0\\xa6\\xbe\"\\r\\n },\\r\\n {\\r\\n   \"title\": \"\\xe0\\xa6\\x86\\xe0\\xa6\\xae\\xe0\\xa6\\xbe\\xe0\\xa6\\xb0 \\xe0\\xa6\\x86\\xe0\\xa6\\xaa\\xe0\\xa6\\xa8\\xe0\\xa6\\xbe\\xe0\\xa6\\xb0 \\xe0\\xa6\\x9a\\xe0\\xa7\\x87\\xe0\\xa6\\xaf\\xe0\\xa6\\xbc\\xe0\\xa7\\x87 \\xe0\\xa6\\x86\\xe0\\xa6\\xaa\\xe0\\xa6\\xa8 \\xe0\\xa6\\xaf\\xe0\\xa7\\x87 \\xe0\\xa6\\x9c\\xe0\\xa6\\xa8\",\\r\\n   \"category\": \"\\xe0\\xa6\\xa8\\xe0\\xa6\\x9c\\xe0\\xa6\\xb0\\xe0\\xa7\\x81\\xe0\\xa6\\xb2 \\xe0\\xa6\\x97\\xe0\\xa7\\x80\\xe0\\xa6\\xa4\\xe0\\xa6\\xbf\",\\r\\n   \"lyrics\": \"\\xe0\\xa6\\x86\\xe0\\xa6\\xae\\xe0\\xa6\\xbe\\xe0\\xa6\\xb0 \\xe0\\xa6\\x86\\xe0\\xa6\\xaa\\xe0\\xa6\\xa8\\xe0\\xa6\\xbe\\xe0\\xa6\\xb0 \\xe0\\xa6\\x9a\\xe0\\xa7\\x87\\xe0\\xa6\\xaf\\xe0\\xa6\\xbc\\xe0\\xa7\\x87 \\xe0\\xa6\\x86\\xe0\\xa6\\xaa\\xe0\\xa6\\xa8 \\xe0\\xa6\\xaf\\xe0\\xa7\\x87 \\xe0\\xa6\\x9c\\xe0\\xa6\\xa8\\\\n\\xe0\\xa6\\x96\\xe0\\xa7\\x81\\xe0\\xa6\\x81\\xe0\\xa6\\x9c\\xe0\\xa6\\xbf \\xe0\\xa6\\xa4\\xe0\\xa6\\xbe\\xe0\\xa6\\xb0\\xe0\\xa7\\x87 \\xe0\\xa6\\x86\\xe0\\xa6\\xae\\xe0\\xa6\\xbf \\xe0\\xa6\\x86\\xe0\\xa6\\xaa\\xe0\\xa6\\xa8\\xe0\\xa6\\xbe\\xe0\\xa6\\xaf\\xe0\\xa6\\xbc\\\\n\\xe0\\xa6\\x86\\xe0\\xa6\\xae\\xe0\\xa6\\xbf \\xe0\\xa6\\xb6\\xe0\\xa7\\x81\\xe0\\xa6\\xa8\\xe0\\xa6\\xbf \\xe0\\xa6\\xaf\\xe0\\xa7\\x87\\xe0\\xa6\\xa8 \\xe0\\xa6\\xa4\\xe0\\xa6\\xbe\\xe0\\xa6\\xb0 \\xe0\\xa6\\x9a\\xe0\\xa6\\xb0\\xe0\\xa6\\xa3\\xe0\\xa7\\x87\\xe0\\xa6\\xb0 \\xe0\\xa6\\xa7\\xe0\\xa7\\x8d\\xe0\\xa6\\xac\\xe0\\xa6\\xa8\\xe0\\xa6\\xbf\\\\n\\xe0\\xa6\\x86\\xe0\\xa6\\xae\\xe0\\xa6\\xbe\\xe0\\xa6\\xb0\\xe0\\xa6\\xbf \\xe0\\xa6\\xaa\\xe0\\xa6\\xbf\\xe0\\xa6\\xaf\\xe0\\xa6\\xbc\\xe0\\xa6\\xbe\\xe0\\xa6\\xb8\\xe0\\xa7\\x80 \\xe0\\xa6\\xac\\xe0\\xa6\\xbe\\xe0\\xa6\\xb8\\xe0\\xa6\\xa8\\xe0\\xa6\\xbe\\xe0\\xa6\\xaf\\xe0\\xa6\\xbc\\xe0\\xa5\\xa4\\\\n\\xe0\\xa6\\x86\\xe0\\xa6\\xae\\xe0\\xa6\\xbe\\xe0\\xa6\\xb0 \\xe0\\xa6\\xae\\xe0\\xa6\\xa8\\xe0\\xa7\\x87\\xe0\\xa6\\xb0 \\xe0\\xa6\\xa4\\xe0\\xa7\\x83\\xe0\\xa6\\xb7\\xe0\\xa6\\xbf\\xe0\\xa6\\xa4 \\xe0\\xa6\\x86\\xe0\\xa6\\x95\\xe0\\xa6\\xbe\\xe0\\xa6\\xb6\\xe0\\xa7\\x87\\\\n\\xe0\\xa6\\x95\\xe0\\xa6\\xbe\\xe0\\xa6\\x81\\xe0\\xa6\\xa6\\xe0\\xa7\\x87 \\xe0\\xa6\\xb8\\xe0\\xa7\\x87 \\xe0\\xa6\\x9a\\xe0\\xa6\\xbe\\xe0\\xa6\\xa4\\xe0\\xa6\\x95 \\xe0\\xa6\\x86\\xe0\\xa6\\x95\\xe0\\xa7\\x81\\xe0\\xa6\\xb2 \\xe0\\xa6\\xaa\\xe0\\xa6\\xbf\\xe0\\xa6\\xaf\\xe0\\xa6\\xbc\\xe0\\xa6\\xbe\\xe0\\xa6\\xb8\\xe0\\xa7\\x87\\\\n\\xe0\\xa6\\x95\\xe0\\xa6\\xad\\xe0\\xa7\\x81 \\xe0\\xa6\\xb8\\xe0\\xa7\\x87 \\xe0\\xa6\\x9a\\xe0\\xa6\\x95\\xe0\\xa7\\x8b\\xe0\\xa6\\xb0 \\xe0\\xa6\\xb8\\xe0\\xa7\\x81\\xe0\\xa6\\xa7\\xe0\\xa6\\xbe\\xe0\\xa6\\x9a\\xe0\\xa7\\x8b\\xe0\\xa6\\xb0 \\xe0\\xa6\\x86\\xe0\\xa6\\xb8\\xe0\\xa7\\x87\\\\n\\xe0\\xa6\\xa8\\xe0\\xa6\\xbf\\xe0\\xa6\\xb6\\xe0\\xa7\\x80\\xe0\\xa6\\xa5\\xe0\\xa7\\x87 \\xe0\\xa6\\xb8\\xe0\\xa7\\x8d\\xe0\\xa6\\xac\\xe0\\xa6\\xaa\\xe0\\xa6\\xa8\\xe0\\xa7\\x87 \\xe0\\xa6\\x9c\\xe0\\xa7\\x8b\\xe0\\xa6\\x9b\\xe0\\xa6\\xa8\\xe0\\xa6\\xbe\\xe0\\xa6\\xaf\\xe0\\xa6\\xbc\\xe0\\xa5\\xa4\\\\n\\xe0\\xa6\\x86\\xe0\\xa6\\xae\\xe0\\xa6\\xbe\\xe0\\xa6\\xb0 \\xe0\\xa6\\xae\\xe0\\xa6\\xa8\\xe0\\xa7\\x87\\xe0\\xa6\\xb0 \\xe0\\xa6\\xaa\\xe0\\xa6\\xbf\\xe0\\xa6\\xaf\\xe0\\xa6\\xbc\\xe0\\xa6\\xbe\\xe0\\xa6\\xb2 \\xe0\\xa6\\xa4\\xe0\\xa6\\xae\\xe0\\xa6\\xbe\\xe0\\xa6\\xb2\\xe0\\xa7\\x87\\\\n\\xe0\\xa6\\xb9\\xe0\\xa7\\x87\\xe0\\xa6\\xb0\\xe0\\xa6\\xbf \\xe0\\xa6\\xa4\\xe0\\xa6\\xbe\\xe0\\xa6\\xb0\\xe0\\xa7\\x87 \\xe0\\xa6\\xb8\\xe0\\xa7\\x8d\\xe0\\xa6\\xa8\\xe0\\xa7\\x87\\xe0\\xa6\\xb9 \\xe0\\xa6\\xae\\xe0\\xa7\\x87\\xe0\\xa6\\x98\\xe0\\xa6\\xb6\\xe0\\xa7\\x8d\\xe0\\xa6\\xaf\\xe0\\xa6\\xbe\\xe0\\xa6\\xae\\\\n\\xe0\\xa6\\x85\\xe0\\xa6\\xb6\\xe0\\xa6\\xa8\\xe0\\xa6\\xbf \\xe0\\xa6\\x86\\xe0\\xa6\\xb2\\xe0\\xa7\\x8b\\xe0\\xa6\\xa4\\xe0\\xa7\\x87 \\xe0\\xa6\\xb9\\xe0\\xa7\\x87\\xe0\\xa6\\xb0\\xe0\\xa6\\xbf \\xe0\\xa6\\xa4\\xe0\\xa6\\xbe\\xe0\\xa6\\xb0\\xe0\\xa7\\x87 \\xe0\\xa6\\xa5\\xe0\\xa6\\xbf\\xe0\\xa6\\xb0\\\\n\\xe0\\xa6\\xac\\xe0\\xa6\\xbf\\xe0\\xa6\\x9c\\xe0\\xa6\\xb2\\xe0\\xa6\\xbf \\xe0\\xa6\\x89\\xe0\\xa6\\x9c\\xe0\\xa6\\xb2 \\xe0\\xa6\\x85\\xe0\\xa6\\xad\\xe0\\xa6\\xbf\\xe0\\xa6\\xb0\\xe0\\xa6\\xbe\\xe0\\xa6\\xae\\xe0\\xa5\\xa4\\\\n\\xe0\\xa6\\x86\\xe0\\xa6\\xae\\xe0\\xa6\\xbe\\xe0\\xa6\\xb0\\xe0\\xa6\\xbf \\xe0\\xa6\\xb0\\xe0\\xa6\\x9a\\xe0\\xa6\\xbf\\xe0\\xa6\\xa4 \\xe0\\xa6\\x95\\xe0\\xa6\\xbe\\xe0\\xa6\\xa8\\xe0\\xa6\\xa8\\xe0\\xa7\\x87 \\xe0\\xa6\\xac\\xe0\\xa6\\xb8\\xe0\\xa6\\xbf\\xe0\\xa6\\xaf\\xe0\\xa6\\xbc\\xe0\\xa6\\xbe\\\\n\\xe0\\xa6\\xaa\\xe0\\xa6\\xb0\\xe0\\xa6\\xbe\\xe0\\xa6\\xa3 \\xe0\\xa6\\xaa\\xe0\\xa7\\x8d\\xe0\\xa6\\xb0\\xe0\\xa6\\xbf\\xe0\\xa6\\xaf\\xe0\\xa6\\xbc\\xe0\\xa6\\xbe\\xe0\\xa6\\xb0\\xe0\\xa7\\x87 \\xe0\\xa6\\xae\\xe0\\xa6\\xbe\\xe0\\xa6\\xb2\\xe0\\xa6\\xbf\\xe0\\xa6\\x95\\xe0\\xa6\\xbe \\xe0\\xa6\\xb0\\xe0\\xa6\\x9a\\xe0\\xa6\\xbf\\xe0\\xa6\\xaf\\xe0\\xa6\\xbc\\xe0\\xa6\\xbe\\\\n\\xe0\\xa6\\xb8\\xe0\\xa7\\x87 \\xe0\\xa6\\xae\\xe0\\xa6\\xbe\\xe0\\xa6\\xb2\\xe0\\xa6\\xbe \\xe0\\xa6\\xb8\\xe0\\xa6\\xb9\\xe0\\xa6\\xb8\\xe0\\xa6\\xbe \\xe0\\xa6\\xa6\\xe0\\xa7\\x87\\xe0\\xa6\\x96\\xe0\\xa6\\xbf\\xe0\\xa6\\xa8\\xe0\\xa7\\x81 \\xe0\\xa6\\x9c\\xe0\\xa6\\xbe\\xe0\\xa6\\x97\\xe0\\xa6\\xbf\\xe0\\xa6\\xaf\\xe0\\xa6\\xbc\\xe0\\xa6\\xbe\\\\n\\xe0\\xa6\\x86\\xe0\\xa6\\xaa\\xe0\\xa6\\xa8\\xe0\\xa6\\xbe\\xe0\\xa6\\xb0\\xe0\\xa6\\x87 \\xe0\\xa6\\x97\\xe0\\xa6\\xb2\\xe0\\xa7\\x87 \\xe0\\xa6\\xa6\\xe0\\xa7\\x8b\\xe0\\xa6\\xb2\\xe0\\xa7\\x87 \\xe0\\xa6\\xb9\\xe0\\xa6\\xbe\\xe0\\xa6\\xaf\\xe0\\xa6\\xbc\\xe0\\xa5\\xa4\\xe0\\xa5\\xa4\",\\r\\n   \"Mood\": \"\\xe0\\xa6\\xaa\\xe0\\xa7\\x8d\\xe0\\xa6\\xb0\\xe0\\xa7\\x87\\xe0\\xa6\\xae\"\\r\\n },\\r\\n {\\r\\n   \"title\": \"\\xe0\\xa6\\x86\\xe0\\xa6\\xae\\xe0\\xa6\\xbe\\xe0\\xa6\\xb0 \\xe0\\xa6\\xad\\xe0\\xa6\\xbe\\xe0\\xa7\\x9f\\xe0\\xa7\\x87\\xe0\\xa6\\xb0 \\xe0\\xa6\\xb0\\xe0\\xa6\\x95\\xe0\\xa7\\x8d\\xe0\\xa6\\xa4\\xe0\\xa7\\x87 \\xe0\\xa6\\xb0\\xe0\\xa6\\xbe\\xe0\\xa6\\x99\\xe0\\xa6\\xbe\\xe0\\xa6\\xa8\\xe0\\xa7\\x8b\",\\r\\n   \"category\": \"\\xe0\\xa6\\xa6\\xe0\\xa7\\x87\\xe0\\xa6\\xb6\\xe0\\xa6\\xbe\\xe0\\xa6\\xa4\\xe0\\xa7\\x8d\\xe0\\xa6\\xae\\xe0\\xa6\\xac\\xe0\\xa7\\x8b\\xe0\\xa6\\xa7\\xe0\\xa6\\x95 \\xe0\\xa6\\x97\\xe0\\xa6\\xbe\\xe0\\xa6\\xa8\",\\r\\n   \"lyrics\": \"\\xe0\\xa6\\x86\\xe0\\xa6\\xae\\xe0\\xa6\\xbe\\xe0\\xa6\\xb0 \\xe0\\xa6\\xad\\xe0\\xa6\\xbe\\xe0\\xa7\\x9f\\xe0\\xa7\\x87\\xe0\\xa6\\xb0 \\xe0\\xa6\\xb0\\xe0\\xa6\\x95\\xe0\\xa7\\x8d\\xe0\\xa6\\xa4\\xe0\\xa7\\x87 \\xe0\\xa6\\xb0\\xe0\\xa6\\xbe\\xe0\\xa6\\x99\\xe0\\xa6\\xbe\\xe0\\xa6\\xa8\\xe0\\xa7\\x8b \\xe0\\xa6\\x8f\\xe0\\xa6\\x95\\xe0\\xa7\\x81\\xe0\\xa6\\xb6\\xe0\\xa7\\x87 \\xe0\\xa6\\xab\\xe0\\xa7\\x87\\xe0\\xa6\\xac\\xe0\\xa7\\x8d\\xe0\\xa6\\xb0\\xe0\\xa7\\x81\\xe0\\xa7\\x9f\\xe0\\xa6\\xbe\\xe0\\xa6\\xb0\\xe0\\xa6\\xbf\\\\n\\xe0\\xa6\\x86\\xe0\\xa6\\xae\\xe0\\xa6\\xbf \\xe0\\xa6\\x95\\xe0\\xa6\\xbf \\xe0\\xa6\\xad\\xe0\\xa7\\x81\\xe0\\xa6\\xb2\\xe0\\xa6\\xbf\\xe0\\xa6\\xa4\\xe0\\xa7\\x87 \\xe0\\xa6\\xaa\\xe0\\xa6\\xbe\\xe0\\xa6\\xb0\\xe0\\xa6\\xbf?\\xe0\\xa5\\xa4\\xe0\\xa5\\xa4\\\\n\\xe0\\xa6\\x9b\\xe0\\xa7\\x87\\xe0\\xa6\\xb2\\xe0\\xa7\\x87\\xe0\\xa6\\xb9\\xe0\\xa6\\xbe\\xe0\\xa6\\xb0\\xe0\\xa6\\xbe \\xe0\\xa6\\xb6\\xe0\\xa6\\xa4 \\xe0\\xa6\\xae\\xe0\\xa6\\xbe\\xe0\\xa7\\x9f\\xe0\\xa7\\x87\\xe0\\xa6\\xb0 \\xe0\\xa6\\x85\\xe0\\xa6\\xb6\\xe0\\xa7\\x8d\\xe0\\xa6\\xb0\\xe0\\xa7\\x81-\\xe0\\xa6\\x97\\xe0\\xa7\\x9c\\xe0\\xa6\\xbe \\xe0\\xa6\\x8f \\xe0\\xa6\\xab\\xe0\\xa7\\x87\\xe0\\xa6\\xac\\xe0\\xa7\\x8d\\xe0\\xa6\\xb0\\xe0\\xa7\\x81\\xe0\\xa7\\x9f\\xe0\\xa6\\xbe\\xe0\\xa6\\xb0\\xe0\\xa6\\xbf\\\\n\\xe0\\xa6\\x86\\xe0\\xa6\\xae\\xe0\\xa6\\xbf \\xe0\\xa6\\x95\\xe0\\xa6\\xbf \\xe0\\xa6\\xad\\xe0\\xa7\\x81\\xe0\\xa6\\xb2\\xe0\\xa6\\xbf\\xe0\\xa6\\xa4\\xe0\\xa7\\x87 \\xe0\\xa6\\xaa\\xe0\\xa6\\xbe\\xe0\\xa6\\xb0\\xe0\\xa6\\xbf?\\xe0\\xa5\\xa4\\xe0\\xa5\\xa4\\\\n\\xe0\\xa6\\x86\\xe0\\xa6\\xae\\xe0\\xa6\\xbe\\xe0\\xa6\\xb0 \\xe0\\xa6\\xb8\\xe0\\xa7\\x8b\\xe0\\xa6\\xa8\\xe0\\xa6\\xbe\\xe0\\xa6\\xb0 \\xe0\\xa6\\xa6\\xe0\\xa7\\x87\\xe0\\xa6\\xb6\\xe0\\xa7\\x87\\xe0\\xa6\\xb0 \\xe0\\xa6\\xb0\\xe0\\xa6\\x95\\xe0\\xa7\\x8d\\xe0\\xa6\\xa4\\xe0\\xa7\\x87 \\xe0\\xa6\\xb0\\xe0\\xa6\\xbe\\xe0\\xa6\\x99\\xe0\\xa6\\xbe\\xe0\\xa6\\xa8\\xe0\\xa7\\x8b \\xe0\\xa6\\xab\\xe0\\xa7\\x87\\xe0\\xa6\\xac\\xe0\\xa7\\x8d\\xe0\\xa6\\xb0\\xe0\\xa7\\x81\\xe0\\xa7\\x9f\\xe0\\xa6\\xbe\\xe0\\xa6\\xb0\\xe0\\xa6\\xbf\\\\n\\xe0\\xa6\\x86\\xe0\\xa6\\xae\\xe0\\xa6\\xbf \\xe0\\xa6\\x95\\xe0\\xa6\\xbf \\xe0\\xa6\\xad\\xe0\\xa7\\x81\\xe0\\xa6\\xb2\\xe0\\xa6\\xbf\\xe0\\xa6\\xa4\\xe0\\xa7\\x87 \\xe0\\xa6\\xaa\\xe0\\xa6\\xbe\\xe0\\xa6\\xb0\\xe0\\xa6\\xbf?\\xe0\\xa5\\xa4\\xe0\\xa5\\xa4\",\\r\\n   \"Mood\": \"\\xe0\\xa6\\xa6\\xe0\\xa7\\x87\\xe0\\xa6\\xb6\\xe0\\xa6\\xaa\\xe0\\xa7\\x8d\\xe0\\xa6\\xb0\\xe0\\xa7\\x87\\xe0\\xa6\\xae\"\\r\\n },\\r\\n {\\r\\n   \"title\": \"\\xe0\\xa6\\x95\\xe0\\xa6\\xbf\\xe0\\xa6\\x9b\\xe0\\xa7\\x81 \\xe0\\xa6\\xa6\\xe0\\xa7\\x81\\xe0\\xa6\\xb0\\xe0\\xa7\\x87 \\xe0\\xa6\\xa5\\xe0\\xa6\\xbe\\xe0\\xa6\\x95\\xe0\\xa6\\xbe \\xe0\\xa6\\x95\\xe0\\xa6\\xbf\\xe0\\xa6\\x9b\\xe0\\xa7\\x81 \\xe0\\xa6\\x95\\xe0\\xa6\\xbe\\xe0\\xa6\\x9b\\xe0\\xa7\\x87 \\xe0\\xa6\\x86\\xe0\\xa6\\xb8\\xe0\\xa6\\xbe\",\\r\\n   \"category\": \"\\xe0\\xa6\\x86\\xe0\\xa6\\xa7\\xe0\\xa7\\x81\\xe0\\xa6\\xa8\\xe0\\xa6\\xbf\\xe0\\xa6\\x95\",\\r\\n   \"lyrics\": \"\\xe0\\xa6\\x95\\xe0\\xa6\\xbf\\xe0\\xa6\\x9b\\xe0\\xa7\\x81 \\xe0\\xa6\\xa6\\xe0\\xa7\\x81\\xe0\\xa6\\xb0\\xe0\\xa7\\x87 \\xe0\\xa6\\xa5\\xe0\\xa6\\xbe\\xe0\\xa6\\x95\\xe0\\xa6\\xbe \\xe0\\xa6\\x95\\xe0\\xa6\\xbf\\xe0\\xa6\\x9b\\xe0\\xa7\\x81 \\xe0\\xa6\\x95\\xe0\\xa6\\xbe\\xe0\\xa6\\x9b\\xe0\\xa7\\x87 \\xe0\\xa6\\x86\\xe0\\xa6\\xb8\\xe0\\xa6\\xbe\\\\n\\xe0\\xa6\\x8f \\xe0\\xa6\\x86\\xe0\\xa6\\xb8\\xe0\\xa6\\xbe\\xe0\\xa6\\xb0 \\xe0\\xa6\\xaf\\xe0\\xa7\\x87\\xe0\\xa6\\xa8 \\xe0\\xa6\\xb6\\xe0\\xa7\\x87\\xe0\\xa6\\xb7 \\xe0\\xa6\\xa8\\xe0\\xa7\\x87\\xe0\\xa6\\x87\\\\n\\xe0\\xa6\\xa4\\xe0\\xa7\\x81\\xe0\\xa6\\xae\\xe0\\xa6\\xbf \\xe0\\xa6\\x8f\\xe0\\xa6\\xb2\\xe0\\xa7\\x87 \\xe0\\xa6\\x95\\xe0\\xa6\\xbe\\xe0\\xa6\\x9b\\xe0\\xa7\\x87 \\xe0\\xa6\\xb8\\xe0\\xa7\\x81\\xe0\\xa6\\xb0 \\xe0\\xa6\\x9c\\xe0\\xa6\\xbe\\xe0\\xa6\\x97\\xe0\\xa7\\x87 \\xe0\\xa6\\x97\\xe0\\xa6\\xbe\\xe0\\xa6\\xa8\\xe0\\xa7\\x87\\\\n\\xe0\\xa6\\xb8\\xe0\\xa7\\x81\\xe0\\xa6\\xb0\\xe0\\xa7\\x87\\xe0\\xa6\\xb0 \\xe0\\xa6\\xaf\\xe0\\xa7\\x87 \\xe0\\xa6\\x95\\xe0\\xa6\\xbf\\xe0\\xa6\\x9b\\xe0\\xa7\\x81 \\xe0\\xa6\\xb6\\xe0\\xa7\\x87\\xe0\\xa6\\xb7 \\xe0\\xa6\\xa8\\xe0\\xa7\\x87\\xe0\\xa6\\x87\\xe0\\xa5\\xa4\\\\n\\xe0\\xa6\\x8f\\xe0\\xa6\\x87 \\xe0\\xa6\\xb0\\xe0\\xa6\\xbe\\xe0\\xa6\\xa4 \\xe0\\xa6\\x8f\\xe0\\xa6\\xa4 \\xe0\\xa6\\xb8\\xe0\\xa7\\x81\\xe0\\xa6\\xa8\\xe0\\xa7\\x8d\\xe0\\xa6\\xa6\\xe0\\xa6\\xb0 \\xe0\\xa6\\xb9\\xe0\\xa6\\xb2 \\xe0\\xa6\\xa4\\xe0\\xa7\\x81\\xe0\\xa6\\xae\\xe0\\xa6\\xbf \\xe0\\xa6\\x86\\xe0\\xa6\\xb8\\xe0\\xa6\\xac\\xe0\\xa7\\x87 \\xe0\\xa6\\xac\\xe0\\xa6\\xb2\\xe0\\xa7\\x87\\\\n\\xe0\\xa6\\x8f\\xe0\\xa6\\x87 \\xe0\\xa6\\x9a\\xe0\\xa6\\xbe\\xe0\\xa6\\x81\\xe0\\xa6\\xa6 \\xe0\\xa6\\x8f\\xe0\\xa6\\xa4 \\xe0\\xa6\\xb8\\xe0\\xa6\\xaa\\xe0\\xa7\\x8d\\xe0\\xa6\\xa8\\xe0\\xa7\\x80\\xe0\\xa6\\xb2 \\xe0\\xa6\\xb9\\xe0\\xa6\\xb2 \\xe0\\xa6\\xad\\xe0\\xa6\\xbe\\xe0\\xa6\\xb2\\xe0\\xa6\\xac\\xe0\\xa6\\xbe\\xe0\\xa6\\xb8\\xe0\\xa6\\xac\\xe0\\xa7\\x87 \\xe0\\xa6\\xac\\xe0\\xa6\\xb2\\xe0\\xa7\\x87\\\\n\\xe0\\xa6\\xa6\\xe0\\xa7\\x81\\xe0\\xa6\\x9c\\xe0\\xa6\\xa8\\xe0\\xa7\\x87\\xe0\\xa6\\xb0 \\xe0\\xa6\\xae\\xe0\\xa6\\xa7\\xe0\\xa7\\x81\\xe0\\xa6\\xb8\\xe0\\xa7\\x8d\\xe0\\xa6\\xac\\xe0\\xa6\\xaa\\xe0\\xa7\\x8d\\xe0\\xa6\\xa8\\xe0\\xa7\\x87\\xe0\\xa6\\xb0 \\xe0\\xa6\\xae\\xe0\\xa6\\xa4\\xe0\\xa7\\x8b\\\\n\\xe0\\xa6\\xae\\xe0\\xa6\\xbe\\xe0\\xa6\\xaf\\xe0\\xa6\\xbc\\xe0\\xa6\\xbe\\xe0\\xa6\\xae\\xe0\\xa6\\xaf\\xe0\\xa6\\xbc \\xe0\\xa6\\x95\\xe0\\xa7\\x8b\\xe0\\xa6\\xa8 \\xe0\\xa6\\xa6\\xe0\\xa7\\x87\\xe0\\xa6\\xb6 \\xe0\\xa6\\xa8\\xe0\\xa7\\x87\\xe0\\xa6\\x87\\xe0\\xa5\\xa4\\\\n\\xe0\\xa6\\x8f\\xe0\\xa6\\x87 \\xe0\\xa6\\xae\\xe0\\xa6\\xa8 \\xe0\\xa6\\x8f\\xe0\\xa6\\xa4 \\xe0\\xa6\\x9a\\xe0\\xa6\\x9e\\xe0\\xa7\\x8d\\xe0\\xa6\\x9a\\xe0\\xa6\\xb2 \\xe0\\xa6\\xb9\\xe0\\xa6\\xb2 \\xe0\\xa6\\xa4\\xe0\\xa7\\x81\\xe0\\xa6\\xae\\xe0\\xa6\\xbf \\xe0\\xa6\\x86\\xe0\\xa6\\xb8\\xe0\\xa6\\xac\\xe0\\xa7\\x87 \\xe0\\xa6\\xac\\xe0\\xa6\\xb2\\xe0\\xa7\\x87\\\\n\\xe0\\xa6\\x8f\\xe0\\xa6\\x87 \\xe0\\xa6\\x95\\xe0\\xa7\\x8d\\xe0\\xa6\\xb7\\xe0\\xa6\\xa8 \\xe0\\xa6\\x8f\\xe0\\xa6\\xa4 \\xe0\\xa6\\x89\\xe0\\xa6\\x9c\\xe0\\xa7\\x8d\\xe0\\xa6\\x9c\\xe0\\xa7\\x8d\\xe0\\xa6\\xac\\xe0\\xa6\\xb2 \\xe0\\xa6\\xb9\\xe0\\xa6\\xb2 \\xe0\\xa6\\xa4\\xe0\\xa7\\x81\\xe0\\xa6\\xae\\xe0\\xa6\\xbf \\xe0\\xa6\\xb9\\xe0\\xa6\\xbe\\xe0\\xa6\\xb8\\xe0\\xa6\\xac\\xe0\\xa7\\x87 \\xe0\\xa6\\xac\\xe0\\xa6\\xb2\\xe0\\xa7\\x87\\\\n\\xe0\\xa6\\xb9\\xe0\\xa6\\xbe\\xe0\\xa6\\xb8\\xe0\\xa6\\xbf\\xe0\\xa6\\xb0 \\xe0\\xa6\\xae\\xe0\\xa6\\xbe\\xe0\\xa6\\xaf\\xe0\\xa6\\xbc\\xe0\\xa6\\xbe\\xe0\\xa6\\xaf\\xe0\\xa6\\xbc \\xe0\\xa6\\x95\\xe0\\xa7\\x87 \\xe0\\xa6\\xac\\xe0\\xa6\\xb2\\xe0\\xa7\\x87 \\xe0\\xa6\\x8f\\xe0\\xa6\\x96\\xe0\\xa6\\xa8\\\\n\\xe0\\xa6\\xad\\xe0\\xa6\\xbe\\xe0\\xa6\\xb2\\xe0\\xa7\\x8b\\xe0\\xa6\\xb2\\xe0\\xa6\\xbe\\xe0\\xa6\\x97\\xe0\\xa6\\xbe\\xe0\\xa6\\xb0 \\xe0\\xa6\\xb8\\xe0\\xa7\\x87 \\xe0\\xa6\\x86\\xe0\\xa6\\xac\\xe0\\xa7\\x87\\xe0\\xa6\\xb6 \\xe0\\xa6\\xa8\\xe0\\xa7\\x87\\xe0\\xa6\\x87\\xe0\\xa5\\xa4\",\\r\\n   \"Mood\": \"\\xe0\\xa6\\xaa\\xe0\\xa7\\x8d\\xe0\\xa6\\xb0\\xe0\\xa7\\x87\\xe0\\xa6\\xae\"\\r\\n },\\r\\n {\\r\\n   \"title\": \"\\xe0\\xa6\\x95\\xe0\\xa7\\x87\\xe0\\xa6\\xa8 \\xe0\\xa6\\x95\\xe0\\xa6\\xb0\\xe0\\xa7\\x81\\xe0\\xa6\\xa3 \\xe0\\xa6\\xb8\\xe0\\xa7\\x81\\xe0\\xa6\\xb0\\xe0\\xa7\\x87 \\xe0\\xa6\\xb9\\xe0\\xa7\\x83\\xe0\\xa6\\xa6\\xe0\\xa6\\xaf\\xe0\\xa6\\xbc-\\xe0\\xa6\\xaa\\xe0\\xa7\\x81\\xe0\\xa6\\xb0\\xe0\\xa7\\x87 \\xe0\\xa6\\xac\\xe0\\xa6\\xbe\\xe0\\xa6\\x9c\\xe0\\xa6\\xbf\\xe0\\xa6\\x9b\\xe0\\xa7\\x87 \\xe0\\xa6\\xac\\xe0\\xa6\\xbe\\xe0\\xa6\\x81\\xe0\\xa6\\xb6\\xe0\\xa6\\xb0\\xe0\\xa6\\xbf\",\\r\\n   \"category\": \"\\xe0\\xa6\\xa8\\xe0\\xa6\\x9c\\xe0\\xa6\\xb0\\xe0\\xa7\\x81\\xe0\\xa6\\xb2 \\xe0\\xa6\\x97\\xe0\\xa7\\x80\\xe0\\xa6\\xa4\\xe0\\xa6\\xbf\",\\r\\n   \"lyrics\": \"\\xe0\\xa6\\x95\\xe0\\xa7\\x87\\xe0\\xa6\\xa8 \\xe0\\xa6\\x95\\xe0\\xa6\\xb0\\xe0\\xa7\\x81\\xe0\\xa6\\xa3 \\xe0\\xa6\\xb8\\xe0\\xa7\\x81\\xe0\\xa6\\xb0\\xe0\\xa7\\x87 \\xe0\\xa6\\xb9\\xe0\\xa7\\x83\\xe0\\xa6\\xa6\\xe0\\xa6\\xaf\\xe0\\xa6\\xbc\\xe0\\xa6\\xaa\\xe0\\xa7\\x81\\xe0\\xa6\\xb0\\xe0\\xa7\\x87 \\xe0\\xa6\\xac\\xe0\\xa6\\xbe\\xe0\\xa6\\x9c\\xe0\\xa6\\xbf\\xe0\\xa6\\x9b\\xe0\\xa7\\x87 \\xe0\\xa6\\xac\\xe0\\xa6\\xbe\\xe0\\xa6\\x81\\xe0\\xa6\\xb6\\xe0\\xa6\\xb0\\xe0\\xa6\\xbf\\\\n\\xe0\\xa6\\x98\\xe0\\xa6\\xa8\\xe0\\xa6\\xbe\\xe0\\xa6\\xaf\\xe0\\xa6\\xbc \\xe0\\xa6\\x97\\xe0\\xa6\\xb9\\xe0\\xa6\\xa8 \\xe0\\xa6\\xa8\\xe0\\xa7\\x80\\xe0\\xa6\\xb0\\xe0\\xa6\\xa6 \\xe0\\xa6\\xb8\\xe0\\xa6\\x98\\xe0\\xa6\\xa8 \\xe0\\xa6\\xa8\\xe0\\xa6\\xaf\\xe0\\xa6\\xbc\\xe0\\xa6\\xa8 \\xe0\\xa6\\xae\\xe0\\xa6\\xa8 \\xe0\\xa6\\xad\\xe0\\xa6\\xb0\\xe0\\xa6\\xbf\\xe0\\xa5\\xa4\\xe0\\xa5\\xa4 \\\\n\\xe0\\xa6\\xac\\xe0\\xa6\\xbf\\xe0\\xa6\\x9c\\xe0\\xa6\\xb2\\xe0\\xa6\\xbf \\xe0\\xa6\\x9a\\xe0\\xa6\\xae\\xe0\\xa6\\x95\\xe0\\xa7\\x87 \\xe0\\xa6\\xaa\\xe0\\xa6\\xac\\xe0\\xa6\\xa8 \\xe0\\xa6\\xa6\\xe0\\xa6\\xae\\xe0\\xa6\\x95\\xe0\\xa7\\x87 \\xe0\\xa6\\xaa\\xe0\\xa6\\xb0\\xe0\\xa6\\xbe\\xe0\\xa6\\xa8 \\xe0\\xa6\\x95\\xe0\\xa6\\xbe\\xe0\\xa6\\x81\\xe0\\xa6\\xaa\\xe0\\xa7\\x87 \\xe0\\xa6\\xb0\\xe0\\xa7\\x87\\\\n\\xe0\\xa6\\xac\\xe0\\xa7\\x81\\xe0\\xa6\\x95\\xe0\\xa7\\x87\\xe0\\xa6\\xb0 \\xe0\\xa6\\xac\\xe0\\xa6\\x81\\xe0\\xa6\\xa7\\xe0\\xa7\\x81\\xe0\\xa6\\xb0\\xe0\\xa7\\x87 \\xe0\\xa6\\xac\\xe0\\xa7\\x81\\xe0\\xa6\\x95\\xe0\\xa7\\x87 \\xe0\\xa6\\xac\\xe0\\xa7\\x87\\xe0\\xa6\\x81\\xe0\\xa6\\xa7\\xe0\\xa7\\x87 \\xe0\\xa6\\x9d\\xe0\\xa7\\x81\\xe0\\xa6\\xb0\\xe0\\xa7\\x87 \\xe0\\xa6\\xac\\xe0\\xa6\\xbf\\xe0\\xa6\\xa7\\xe0\\xa7\\x81\\xe0\\xa6\\xb0\\xe0\\xa6\\xbe \\xe0\\xa6\\x95\\xe0\\xa6\\xbf\\xe0\\xa6\\xb6\\xe0\\xa7\\x8b\\xe0\\xa6\\xb0\\xe0\\xa7\\x80\\xe0\\xa5\\xa4\\xe0\\xa5\\xa4\",\\r\\n   \"Mood\": \"\\xe0\\xa6\\xac\\xe0\\xa7\\x87\\xe0\\xa6\\xa6\\xe0\\xa6\\xa8\\xe0\\xa6\\xbe\"\\r\\n },\\r\\n {\\r\\n   \"title\": \"\\xe0\\xa6\\x95\\xe0\\xa7\\x87\\xe0\\xa6\\xa8 \\xe0\\xa6\\x9a\\xe0\\xa6\\xbe\\xe0\\xa6\\x81\\xe0\\xa6\\xa6\\xe0\\xa6\\xbf\\xe0\\xa6\\xa8\\xe0\\xa7\\x80 \\xe0\\xa6\\xb0\\xe0\\xa6\\xbe\\xe0\\xa6\\xa4\\xe0\\xa7\\x87 \\xe0\\xa6\\xae\\xe0\\xa7\\x87\\xe0\\xa6\\x98 \\xe0\\xa6\\x86\\xe0\\xa6\\xb8\\xe0\\xa7\\x87 \\xe0\\xa6\\x9b\\xe0\\xa6\\xbe\\xe0\\xa6\\xaf\\xe0\\xa6\\xbc\\xe0\\xa6\\xbe \\xe0\\xa6\\x95\\xe2\\x80\\x99\\xe0\\xa6\\xb0\\xe0\\xa7\\x87\",\\r\\n   \"category\": \"\\xe0\\xa6\\xa8\\xe0\\xa6\\x9c\\xe0\\xa6\\xb0\\xe0\\xa7\\x81\\xe0\\xa6\\xb2 \\xe0\\xa6\\x97\\xe0\\xa7\\x80\\xe0\\xa6\\xa4\\xe0\\xa6\\xbf\",\\r\\n   \"lyrics\": \"\\xe0\\xa6\\x95\\xe0\\xa7\\x87\\xe0\\xa6\\xa8 \\xe0\\xa6\\x9a\\xe0\\xa6\\xbe\\xe0\\xa6\\x81\\xe0\\xa6\\xa6\\xe0\\xa6\\xbf\\xe0\\xa6\\xa8\\xe0\\xa7\\x80 \\xe0\\xa6\\xb0\\xe0\\xa6\\xbe\\xe0\\xa6\\xa4\\xe0\\xa7\\x87 \\xe0\\xa6\\xae\\xe0\\xa7\\x87\\xe0\\xa6\\x98 \\xe0\\xa6\\x86\\xe0\\xa6\\xb8\\xe0\\xa7\\x87 \\xe0\\xa6\\x9b\\xe0\\xa6\\xbe\\xe0\\xa6\\xaf\\xe0\\xa6\\xbc\\xe0\\xa6\\xbe \\xe0\\xa6\\x95\\xe2\\x80\\x99\\xe0\\xa6\\xb0\\xe0\\xa7\\x87\\xe0\\xa5\\xa4\\\\n\\xe0\\xa6\\xb8\\xe0\\xa7\\x81\\xe0\\xa6\\x96\\xe0\\xa7\\x87\\xe0\\xa6\\xb0 \\xe0\\xa6\\xac\\xe0\\xa6\\xbe\\xe0\\xa6\\xb8\\xe0\\xa6\\xb0\\xe0\\xa7\\x87 \\xe0\\xa6\\x95\\xe0\\xa7\\x87\\xe0\\xa6\\xa8, \\xe0\\xa6\\xaa\\xe0\\xa7\\x8d\\xe0\\xa6\\xb0\\xe0\\xa6\\xbe\\xe0\\xa6\\xa3 \\xe0\\xa6\\x93\\xe0\\xa6\\xa0\\xe0\\xa7\\x87 \\xe0\\xa6\\xac\\xe0\\xa6\\xbf\\xe0\\xa6\\xb7\\xe0\\xa6\\xbe\\xe0\\xa6\\xa6\\xe0\\xa7\\x87 \\xe0\\xa6\\xad\\xe2\\x80\\x99\\xe0\\xa6\\xb0\\xe0\\xa7\\x87\\xe0\\xa5\\xa4\\xe0\\xa5\\xa4\\\\n\\xe0\\xa6\\x95\\xe0\\xa7\\x87\\xe0\\xa6\\xa8 \\xe0\\xa6\\xae\\xe0\\xa6\\xbf\\xe0\\xa6\\xb2\\xe0\\xa6\\xa8 \\xe0\\xa6\\xb0\\xe0\\xa6\\xbe\\xe0\\xa6\\xa4\\xe0\\xa7\\x87, \\xe0\\xa6\\xb8\\xe0\\xa6\\xb2\\xe0\\xa6\\xbf\\xe0\\xa6\\xb2 \\xe0\\xa6\\x86\\xe0\\xa6\\x81\\xe0\\xa6\\x96\\xe0\\xa6\\xbf \\xe0\\xa6\\xaa\\xe0\\xa6\\xbe\\xe0\\xa6\\xa4\\xe0\\xa7\\x87,\\\\n\\xe0\\xa6\\x95\\xe0\\xa7\\x87\\xe0\\xa6\\xa8 \\xe0\\xa6\\xab\\xe0\\xa6\\xbe\\xe0\\xa6\\x97\\xe0\\xa7\\x81\\xe0\\xa6\\xa8 \\xe0\\xa6\\xaa\\xe0\\xa7\\x8d\\xe0\\xa6\\xb0\\xe0\\xa6\\xbe\\xe0\\xa6\\xa4\\xe0\\xa7\\x87, \\xe0\\xa6\\xb8\\xe0\\xa6\\xb9\\xe0\\xa6\\xb8\\xe0\\xa6\\xbe \\xe0\\xa6\\xac\\xe0\\xa6\\xbe\\xe0\\xa6\\xa6\\xe0\\xa6\\xb2 \\xe0\\xa6\\x9d\\xe0\\xa6\\xb0\\xe0\\xa7\\x87\\xe0\\xa5\\xa4\\xe0\\xa5\\xa4\\\\n\\xe0\\xa6\\xa1\\xe0\\xa6\\xbe\\xe0\\xa6\\x95\\xe0\\xa6\\xbf\\xe0\\xa6\\xaf\\xe0\\xa6\\xbc\\xe0\\xa6\\xbe \\xe0\\xa6\\xab\\xe0\\xa7\\x81\\xe0\\xa6\\xb2\\xe0\\xa6\\xac\\xe0\\xa6\\xa8\\xe0\\xa7\\x87, \\xe0\\xa6\\xa5\\xe0\\xa6\\xbe\\xe0\\xa6\\x95\\xe0\\xa7\\x87 \\xe0\\xa6\\xb8\\xe0\\xa7\\x87 \\xe0\\xa6\\x86\\xe0\\xa6\\xa8\\xe0\\xa6\\xae\\xe0\\xa6\\xa8\\xe0\\xa7\\x87,\\\\n\\xe0\\xa6\\x95\\xe0\\xa6\\xbe\\xe0\\xa6\\x81\\xe0\\xa6\\xa6\\xe0\\xa6\\xbe\\xe0\\xa6\\xaf\\xe0\\xa6\\xbc \\xe0\\xa6\\xa8\\xe0\\xa6\\xbf\\xe0\\xa6\\xb0\\xe0\\xa6\\x9c\\xe0\\xa6\\xa8\\xe0\\xa7\\x87, \\xe0\\xa6\\x95\\xe0\\xa6\\xbe\\xe0\\xa6\\x81\\xe0\\xa6\\xa6\\xe0\\xa7\\x87 \\xe0\\xa6\\x95\\xe0\\xa7\\x87 \\xe0\\xa6\\x95\\xe0\\xa6\\xbf\\xe0\\xa6\\xb8\\xe0\\xa7\\x87\\xe0\\xa6\\xb0 \\xe0\\xa6\\xa4\\xe0\\xa6\\xb0\\xe0\\xa7\\x87\\xe0\\xa5\\xa4\\xe0\\xa5\\xa4\",\\r\\n   \"Mood\": \"\\xe0\\xa6\\xac\\xe0\\xa7\\x87\\xe0\\xa6\\xa6\\xe0\\xa6\\xa8\\xe0\\xa6\\xbe\"\\r\\n },\\r\\n {\\r\\n   \"title\": \"\\xe0\\xa6\\x98\\xe0\\xa7\\x81\\xe0\\xa6\\xae\\xe0\\xa6\\xbf\\xe0\\xa6\\xaf\\xe0\\xa6\\xbc\\xe0\\xa7\\x87 \\xe0\\xa6\\x97\\xe0\\xa7\\x87\\xe0\\xa6\\x9b\\xe0\\xa7\\x87 \\xe0\\xa6\\xb6\\xe0\\xa7\\x8d\\xe0\\xa6\\xb0\\xe0\\xa6\\xbe\\xe0\\xa6\\xa8\\xe0\\xa7\\x8d\\xe0\\xa6\\xa4 \\xe0\\xa6\\xb9\\xe2\\x80\\x8b\\xe0\\xa6\\xaf\\xe0\\xa6\\xbc\\xe0\\xa7\\x87 \\xe0\\xa6\\x86\\xe0\\xa6\\xae\\xe0\\xa6\\xbe\\xe0\\xa6\\xb0 \\xe0\\xa6\\x97\\xe0\\xa6\\xbe\\xe0\\xa6\\xa8\\xe0\\xa7\\x87\\xe0\\xa6\\xb0 \\xe0\\xa6\\xac\\xe0\\xa7\\x81\\xe0\\xa6\\xb2\\xe0\\xa6\\xac\\xe0\\xa7\\x81\\xe0\\xa6\\xb2\\xe0\\xa6\\xbf\",\\r\\n   \"category\": \"\\xe0\\xa6\\xa8\\xe0\\xa6\\x9c\\xe0\\xa6\\xb0\\xe0\\xa7\\x81\\xe0\\xa6\\xb2 \\xe0\\xa6\\x97\\xe0\\xa7\\x80\\xe0\\xa6\\xa4\\xe0\\xa6\\xbf\",\\r\\n   \"lyrics\": \"\\xe0\\xa6\\x98\\xe0\\xa7\\x81\\xe0\\xa6\\xae\\xe0\\xa6\\xbf\\xe0\\xa6\\xaf\\xe0\\xa6\\xbc\\xe0\\xa7\\x87 \\xe0\\xa6\\x97\\xe0\\xa7\\x87\\xe0\\xa6\\x9b\\xe0\\xa7\\x87 \\xe0\\xa6\\xb6\\xe0\\xa7\\x8d\\xe0\\xa6\\xb0\\xe0\\xa6\\xbe\\xe0\\xa6\\xa8\\xe0\\xa7\\x8d\\xe0\\xa6\\xa4 \\xe0\\xa6\\xb9\\xe0\\xa6\\xaf\\xe0\\xa6\\xbc\\xe0\\xa7\\x87 \\xe0\\xa6\\x86\\xe0\\xa6\\xae\\xe0\\xa6\\xbe\\xe0\\xa6\\xb0 \\xe0\\xa6\\x97\\xe0\\xa6\\xbe\\xe0\\xa6\\xa8\\xe0\\xa7\\x87\\xe0\\xa6\\xb0 \\xe0\\xa6\\xac\\xe0\\xa7\\x81\\xe0\\xa6\\xb2\\xe0\\xa6\\xac\\xe0\\xa7\\x81\\xe0\\xa6\\xb2\\xe0\\xa6\\xbf\\xe0\\xa5\\xa4\\\\n\\xe0\\xa6\\x95\\xe0\\xa6\\xb0\\xe0\\xa7\\x81\\xe0\\xa6\\xa3 \\xe0\\xa6\\x9a\\xe0\\xa7\\x8b\\xe0\\xa6\\x96\\xe0\\xa7\\x87 \\xe0\\xa6\\x9a\\xe0\\xa7\\x87\\xe0\\xa6\\xaf\\xe0\\xa6\\xbc\\xe0\\xa7\\x87 \\xe0\\xa6\\x86\\xe0\\xa6\\x9b\\xe0\\xa7\\x87 \\xe0\\xa6\\xb8\\xe0\\xa6\\xbe\\xe0\\xa6\\x9d\\xe0\\xa7\\x87\\xe0\\xa6\\xb0 \\xe0\\xa6\\x9d\\xe0\\xa6\\xb0\\xe0\\xa6\\xbe \\xe0\\xa6\\xab\\xe0\\xa7\\x81\\xe0\\xa6\\xb2\\xe0\\xa6\\x97\\xe0\\xa7\\x81\\xe0\\xa6\\xb2\\xe0\\xa6\\xbf\\xe0\\xa5\\xa4\\xe0\\xa5\\xa4\\\\n\\xe0\\xa6\\xab\\xe0\\xa7\\x81\\xe0\\xa6\\xb2 \\xe0\\xa6\\xab\\xe0\\xa7\\x81\\xe0\\xa6\\x9f\\xe0\\xa6\\xbf\\xe0\\xa6\\xaf\\xe0\\xa6\\xbc\\xe0\\xa7\\x87 \\xe0\\xa6\\xad\\xe0\\xa7\\x8b\\xe0\\xa6\\xb0 \\xe0\\xa6\\xac\\xe0\\xa7\\x87\\xe0\\xa6\\xb2\\xe0\\xa6\\xbe \\xe0\\xa6\\x95\\xe0\\xa7\\x87 \\xe0\\xa6\\x97\\xe0\\xa6\\xbe\\xe0\\xa6\\xa8 \\xe0\\xa6\\x97\\xe0\\xa7\\x87\\xe0\\xa6\\xaf\\xe0\\xa6\\xbc\\xe0\\xa7\\x87\\\\n\\xe0\\xa6\\xa8\\xe0\\xa7\\x80\\xe0\\xa6\\xb0\\xe0\\xa6\\xac \\xe0\\xa6\\xb9\\xe2\\x80\\x99\\xe0\\xa6\\xb2 \\xe0\\xa6\\x95\\xe0\\xa7\\x8b\\xe0\\xa6\\xa8 \\xe0\\xa6\\xac\\xe0\\xa6\\xbf\\xe0\\xa6\\xb7\\xe0\\xa6\\xbe\\xe0\\xa6\\xa6\\xe0\\xa7\\x87\\xe0\\xa6\\xb0 \\xe0\\xa6\\xac\\xe0\\xa6\\xbe\\xe0\\xa6\\xa8 \\xe0\\xa6\\x96\\xe0\\xa7\\x87\\xe0\\xa6\\xaf\\xe0\\xa6\\xbc\\xe0\\xa7\\x87\\\\n\\xe0\\xa6\\xac\\xe0\\xa6\\xa8\\xe0\\xa7\\x87\\xe0\\xa6\\xb0 \\xe0\\xa6\\x95\\xe0\\xa7\\x8b\\xe0\\xa6\\xb2\\xe0\\xa7\\x87 \\xe0\\xa6\\xac\\xe0\\xa6\\xbf\\xe0\\xa6\\xb2\\xe0\\xa6\\xbe\\xe0\\xa6\\xaa \\xe0\\xa6\\x95\\xe0\\xa6\\xb0\\xe0\\xa7\\x87 \\xe0\\xa6\\xb8\\xe0\\xa6\\xa8\\xe0\\xa7\\x8d\\xe0\\xa6\\xa7\\xe0\\xa7\\x8d\\xe0\\xa6\\xaf\\xe0\\xa6\\xbe\\xe0\\xa6\\xb0\\xe0\\xa6\\xbe\\xe0\\xa6\\xa3\\xe0\\xa7\\x80 \\xe0\\xa6\\x9a\\xe0\\xa7\\x81\\xe0\\xa6\\xb2 \\xe0\\xa6\\x96\\xe0\\xa7\\x81\\xe0\\xa6\\xb2\\xe0\\xa6\\xbf\\xe0\\xa5\\xa4\\xe0\\xa5\\xa4\\\\n\\xe0\\xa6\\x95\\xe0\\xa6\\xbe\\xe0\\xa6\\xb2 \\xe0\\xa6\\xb9\\xe0\\xa6\\xa4\\xe0\\xa7\\x87 \\xe0\\xa6\\x86\\xe0\\xa6\\xb0 \\xe0\\xa6\\xab\\xe0\\xa7\\x81\\xe0\\xa6\\x9f\\xe0\\xa6\\xac\\xe0\\xa7\\x87 \\xe0\\xa6\\xa8\\xe0\\xa6\\xbe \\xe0\\xa6\\xb9\\xe0\\xa6\\xbe\\xe0\\xa6\\xaf\\xe0\\xa6\\xbc, \\xe0\\xa6\\xb2\\xe0\\xa6\\xa4\\xe0\\xa6\\xbe\\xe0\\xa6\\xb0 \\xe0\\xa6\\xac\\xe0\\xa7\\x81\\xe0\\xa6\\x95\\xe0\\xa7\\x87 \\xe0\\xa6\\xae\\xe0\\xa6\\x9e\\xe0\\xa7\\x8d\\xe0\\xa6\\x9c\\xe0\\xa6\\xb0\\xe0\\xa7\\x80\\\\n\\xe0\\xa6\\x89\\xe0\\xa6\\xa0\\xe0\\xa6\\x9b\\xe0\\xa7\\x87 \\xe0\\xa6\\xaa\\xe0\\xa6\\xbe\\xe0\\xa6\\xa4\\xe0\\xa6\\xbe\\xe0\\xa6\\xaf\\xe0\\xa6\\xbc \\xe0\\xa6\\xaa\\xe0\\xa6\\xbe\\xe0\\xa6\\xa4\\xe0\\xa6\\xbe\\xe0\\xa6\\xaf\\xe0\\xa6\\xbc \\xe0\\xa6\\x95\\xe0\\xa6\\xbe\\xe0\\xa6\\xb9\\xe0\\xa6\\xbe\\xe0\\xa6\\xb0 \\xe0\\xa6\\x95\\xe0\\xa6\\xb0\\xe0\\xa7\\x81\\xe0\\xa6\\xa3 \\xe0\\xa6\\xa8\\xe0\\xa6\\xbf\\xe0\\xa6\\xb6\\xe0\\xa6\\xbe\\xe0\\xa6\\xb8 \\xe0\\xa6\\xae\\xe0\\xa6\\xb0\\xe0\\xa7\\x8d\\xe0\\xa6\\xae\\xe0\\xa6\\xb0\\xe0\\xa7\\x80\\xe0\\xa5\\xa4\\\\n\\xe0\\xa6\\x97\\xe0\\xa6\\xbe\\xe0\\xa6\\xa8\\xe0\\xa7\\x87\\xe0\\xa6\\xb0 \\xe0\\xa6\\xaa\\xe0\\xa6\\xbe\\xe0\\xa6\\x96\\xe0\\xa6\\xbf \\xe0\\xa6\\x97\\xe0\\xa7\\x87\\xe0\\xa6\\x9b\\xe0\\xa7\\x87 \\xe0\\xa6\\x89\\xe0\\xa6\\xa1\\xe0\\xa6\\xbc\\xe0\\xa7\\x87 \\xe0\\xa6\\xb6\\xe0\\xa7\\x82\\xe0\\xa6\\xa3\\xe0\\xa7\\x8d\\xe0\\xa6\\xaf \\xe0\\xa6\\xa8\\xe0\\xa7\\x80\\xe0\\xa6\\xa1\\xe0\\xa6\\xbc\\\\n\\xe0\\xa6\\x95\\xe0\\xa6\\xa8\\xe0\\xa7\\x8d\\xe0\\xa6\\xa0\\xe0\\xa7\\x87 \\xe0\\xa6\\x86\\xe0\\xa6\\xae\\xe0\\xa6\\xbe\\xe0\\xa6\\xb0 \\xe0\\xa6\\xa8\\xe0\\xa6\\xbe\\xe0\\xa6\\x87 \\xe0\\xa6\\xb8\\xe0\\xa7\\x87 \\xe0\\xa6\\x86\\xe0\\xa6\\x97\\xe0\\xa7\\x87\\xe0\\xa6\\xb0 \\xe0\\xa6\\x95\\xe0\\xa6\\xa5\\xe0\\xa6\\xbe\\xe0\\xa6\\xb0 \\xe0\\xa6\\xad\\xe0\\xa6\\xbf\\xe0\\xa6\\xa1\\xe0\\xa6\\xbc\\\\n\\xe0\\xa6\\x86\\xe0\\xa6\\xb2\\xe0\\xa7\\x87\\xe0\\xa6\\xaf\\xe0\\xa6\\xbc\\xe0\\xa6\\xbe\\xe0\\xa6\\xb0 \\xe0\\xa6\\x8f \\xe0\\xa6\\x86\\xe0\\xa6\\xb2\\xe0\\xa7\\x8b\\xe0\\xa6\\xa4\\xe0\\xa7\\x87 \\xe0\\xa6\\x86\\xe0\\xa6\\xb0 \\xe0\\xa6\\x86\\xe0\\xa6\\xb8\\xe0\\xa6\\xac\\xe0\\xa7\\x87 \\xe0\\xa6\\xa8\\xe0\\xa6\\xbe \\xe0\\xa6\\x95\\xe0\\xa7\\x87\\xe0\\xa6\\x89 \\xe0\\xa6\\x95\\xe0\\xa7\\x81\\xe0\\xa6\\xb2 \\xe0\\xa6\\xad\\xe0\\xa7\\x81\\xe0\\xa6\\xb2\\xe0\\xa6\\xbf\\xe0\\xa5\\xa4\\xe0\\xa5\\xa4\",\\r\\n   \"Mood\": \"\\xe0\\xa6\\xac\\xe0\\xa7\\x87\\xe0\\xa6\\xa6\\xe0\\xa6\\xa8\\xe0\\xa6\\xbe\"\\r\\n },\\r\\n {\\r\\n   \"title\": \"\\xe0\\xa6\\x9c\\xe2\\x80\\x8b\\xe0\\xa6\\xa1\\xe0\\xa6\\xbc\\xe0\\xa7\\x8b\\xe0\\xa6\\xaf\\xe0\\xa6\\xbc\\xe0\\xa6\\xbe\\xe0\\xa6\\xb0 \\xe0\\xa6\\x9d\\xe0\\xa7\\x81\\xe0\\xa6\\xae\\xe0\\xa6\\x95\\xe0\\xa7\\x8b \\xe0\\xa6\\xa4\\xe0\\xa7\\x87 \\xe0\\xa6\\x95\\xe0\\xa6\\xbf \\xe0\\xa6\\xb0\\xe0\\xa7\\x82\\xe0\\xa6\\xaa \\xe0\\xa6\\x96\\xe0\\xa7\\x8b\\xe0\\xa6\\xb2\\xe0\\xa7\\x87\",\\r\\n   \"category\": \"\\xe0\\xa6\\x86\\xe0\\xa6\\xa7\\xe0\\xa7\\x81\\xe0\\xa6\\xa8\\xe0\\xa6\\xbf\\xe0\\xa6\\x95\",\\r\\n   \"lyrics\": \"\\xe0\\xa6\\x9c\\xe0\\xa6\\xa1\\xe0\\xa6\\xbc\\xe0\\xa7\\x8b\\xe0\\xa6\\xaf\\xe0\\xa6\\xbc\\xe0\\xa6\\xbe\\xe0\\xa6\\xb0 \\xe0\\xa6\\x9d\\xe0\\xa7\\x81\\xe0\\xa6\\xae\\xe0\\xa6\\x95\\xe0\\xa7\\x8b \\xe0\\xa6\\xa4\\xe0\\xa7\\x87 \\xe0\\xa6\\x95\\xe0\\xa6\\xbf \\xe0\\xa6\\xb0\\xe0\\xa7\\x81\\xe0\\xa6\\xaa \\xe0\\xa6\\x96\\xe0\\xa7\\x8b\\xe0\\xa6\\xb2\\xe0\\xa7\\x87 \\xe0\\xa6\\x97\\xe0\\xa7\\x8b\\\\n\\xe0\\xa6\\xb0\\xe0\\xa7\\x81\\xe0\\xa6\\xaa \\xe0\\xa6\\x96\\xe0\\xa7\\x8b\\xe0\\xa6\\xb2\\xe0\\xa7\\x87 \\xe0\\xa6\\x95\\xe0\\xa6\\xbf \\xe0\\xa6\\x95\\xe0\\xa6\\xbe\\xe0\\xa6\\x81\\xe0\\xa6\\x95\\xe0\\xa6\\xa8 \\xe0\\xa6\\x9a\\xe0\\xa7\\x81\\xe0\\xa6\\x81\\xe0\\xa6\\xa1\\xe0\\xa6\\xbc\\xe0\\xa6\\xbf\\xe0\\xa6\\xb0 \\xe0\\xa6\\x95\\xe0\\xa6\\xa8\\xe0\\xa7\\x8d\\xe0\\xa6\\xa0 \\xe0\\xa6\\xb9\\xe0\\xa6\\xbe\\xe0\\xa6\\xb0\\xe0\\xa7\\x87\\xe0\\xa5\\xa4\\\\n\\xe0\\xa6\\xac\\xe0\\xa6\\xb8\\xe0\\xa6\\xa8\\xe0\\xa7\\x8d\\xe0\\xa6\\xa4\\xe0\\xa6\\x95\\xe0\\xa7\\x87 \\xe0\\xa6\\x95\\xe0\\xa7\\x8b\\xe0\\xa6\\xa8 \\xe0\\xa6\\x9c\\xe0\\xa6\\xa1\\xe0\\xa6\\xbc\\xe0\\xa7\\x8b\\xe0\\xa6\\xaf\\xe0\\xa6\\xbc\\xe0\\xa6\\xbe\\xe0\\xa6\\xb0 \\xe0\\xa6\\x95\\xe0\\xa7\\x87 \\xe0\\xa6\\xb8\\xe0\\xa6\\xbe\\xe0\\xa6\\x9c\\xe0\\xa6\\xbe\\xe0\\xa6\\xac\\xe0\\xa7\\x87\\\\n\\xe0\\xa6\\xa8\\xe0\\xa6\\xa6\\xe0\\xa7\\x80\\xe0\\xa6\\xb0\\xe0\\xa7\\x87 \\xe0\\xa6\\x97\\xe0\\xa6\\xbe\\xe0\\xa6\\xa8 \\xe0\\xa6\\x95\\xe0\\xa7\\x8b\\xe0\\xa6\\xa8 \\xe0\\xa6\\xac\\xe0\\xa6\\xbe\\xe0\\xa6\\x81\\xe0\\xa6\\xb6\\xe0\\xa6\\xbf\\xe0\\xa6\\xa4\\xe0\\xa7\\x87 \\xe0\\xa6\\x95\\xe0\\xa7\\x87 \\xe0\\xa6\\xac\\xe0\\xa6\\xbe\\xe0\\xa6\\x9c\\xe0\\xa6\\xbe\\xe0\\xa6\\xac\\xe0\\xa7\\x87\\\\n\\xe0\\xa6\\x9a\\xe0\\xa6\\xa8\\xe0\\xa7\\x8d\\xe0\\xa6\\xa6\\xe0\\xa7\\x8d\\xe0\\xa6\\xb0\\xe0\\xa6\\xbf\\xe0\\xa6\\xae\\xe0\\xa6\\xbe\\xe0\\xa6\\xb0\\xe0\\xa7\\x87 \\xe0\\xa6\\x95\\xe0\\xa7\\x87 \\xe0\\xa6\\xaa\\xe0\\xa6\\xa1\\xe0\\xa6\\xbc\\xe0\\xa6\\xbe\\xe0\\xa6\\xac\\xe0\\xa7\\x87 \\xe0\\xa6\\x85\\xe0\\xa6\\xb2\\xe0\\xa6\\x82\\xe0\\xa6\\x95\\xe0\\xa6\\xbe\\xe0\\xa6\\xb0\\xe0\\xa7\\x87\\xe0\\xa5\\xa4\\\\n\\xe0\\xa6\\xa8\\xe0\\xa6\\xbf\\xe0\\xa6\\x9c\\xe0\\xa7\\x87\\xe0\\xa6\\xb0 \\xe0\\xa6\\x95\\xe0\\xa6\\xbe\\xe0\\xa6\\x9b\\xe0\\xa7\\x87 \\xe0\\xa6\\xa8\\xe0\\xa6\\xbf\\xe0\\xa6\\x9c\\xe0\\xa7\\x87\\xe0\\xa6\\x87 \\xe0\\xa6\\xa4\\xe0\\xa7\\x81\\xe0\\xa6\\xae\\xe0\\xa6\\xbf \\xe0\\xa6\\xaa\\xe0\\xa7\\x8d\\xe0\\xa6\\xb0\\xe0\\xa6\\xb6\\xe0\\xa7\\x8d\\xe0\\xa6\\xa8 \\xe0\\xa6\\x95\\xe0\\xa6\\xb0\\xe0\\xa7\\x8b\\\\n\\xe0\\xa6\\xb9\\xe0\\xa7\\x8d\\xe0\\xa6\\xb0\\xe0\\xa6\\xbf\\xe0\\xa6\\xa6\\xe0\\xa6\\xaf\\xe0\\xa6\\xbc \\xe0\\xa6\\xa4\\xe0\\xa7\\x8b\\xe0\\xa6\\xae\\xe0\\xa6\\xbe\\xe0\\xa6\\xb0 \\xe0\\xa6\\x95\\xe0\\xa7\\x8b\\xe0\\xa6\\xa8 \\xe0\\xa6\\x95\\xe0\\xa6\\xbe\\xe0\\xa6\\xae\\xe0\\xa6\\xa8\\xe0\\xa6\\xbe\\xe0\\xa6\\xaf\\xe0\\xa6\\xbc \\xe0\\xa6\\xa5\\xe0\\xa6\\xb0\\xe0\\xa6\\xa5\\xe0\\xa6\\xb0\\\\n\\xe0\\xa6\\x86\\xe0\\xa6\\x95\\xe0\\xa7\\x81\\xe0\\xa6\\xb2 \\xe0\\xa6\\xa4\\xe0\\xa7\\x8b\\xe0\\xa6\\xae\\xe0\\xa6\\xbe\\xe0\\xa6\\xb0 \\xe0\\xa6\\xa4\\xe0\\xa7\\x83\\xe0\\xa6\\xb7\\xe0\\xa7\\x8d\\xe0\\xa6\\xa3\\xe0\\xa6\\xbe \\xe0\\xa6\\xa1\\xe0\\xa6\\xbe\\xe0\\xa6\\x95\\xe0\\xa7\\x87 \\xe0\\xa6\\x95\\xe0\\xa7\\x8b\\xe0\\xa6\\xa8 \\xe0\\xa6\\x86\\xe0\\xa6\\xae\\xe0\\xa6\\xbe\\xe0\\xa6\\xb0\\xe0\\xa7\\x87\\xe0\\xa5\\xa4\\xe0\\xa5\\xa4\",\\r\\n   \"Mood\": \"\\xe0\\xa6\\xac\\xe0\\xa7\\x87\\xe0\\xa6\\xa6\\xe0\\xa6\\xa8\\xe0\\xa6\\xbe\"\\r\\n },\\r\\n {\\r\\n   \"title\": \"\\xe0\\xa6\\xa4\\xe0\\xa7\\x8b\\xe0\\xa6\\xae\\xe0\\xa6\\xbe\\xe0\\xa6\\xb0 \\xe0\\xa6\\xae\\xe0\\xa6\\xa8\\xe0\\xa7\\x87 \\xe0\\xa6\\xab\\xe0\\xa7\\x81\\xe0\\xa6\\x9f\\xe0\\xa6\\xac\\xe0\\xa7\\x87 \\xe0\\xa6\\xaf\\xe0\\xa6\\xac\\xe0\\xa7\\x87\",\\r\\n   \"category\": \"\\xe0\\xa6\\xa8\\xe0\\xa6\\x9c\\xe0\\xa6\\xb0\\xe0\\xa7\\x81\\xe0\\xa6\\xb2 \\xe0\\xa6\\x97\\xe0\\xa7\\x80\\xe0\\xa6\\xa4\\xe0\\xa6\\xbf\",\\r\\n   \"lyrics\": \"\\xe0\\xa6\\xa4\\xe0\\xa7\\x8b\\xe0\\xa6\\xae\\xe0\\xa6\\xbe\\xe0\\xa6\\xb0 \\xe0\\xa6\\xae\\xe0\\xa6\\xa8\\xe0\\xa7\\x87 \\xe0\\xa6\\xab\\xe0\\xa7\\x81\\xe0\\xa6\\x9f\\xe0\\xa6\\xac\\xe0\\xa7\\x87 \\xe0\\xa6\\xaf\\xe0\\xa6\\xac\\xe0\\xa7\\x87 \\xe0\\xa6\\xaa\\xe0\\xa7\\x8d\\xe0\\xa6\\xb0\\xe0\\xa6\\xa5\\xe0\\xa6\\xae \\xe0\\xa6\\xae\\xe0\\xa7\\x81\\xe0\\xa6\\x95\\xe0\\xa7\\x81\\xe0\\xa6\\xb2\\xe0\\xa5\\xa4\\\\n\\xe0\\xa6\\xaa\\xe0\\xa7\\x8d\\xe0\\xa6\\xb0\\xe0\\xa6\\xbf\\xe0\\xa6\\xaf\\xe0\\xa6\\xbc \\xe0\\xa6\\xb9\\xe0\\xa7\\x87 \\xe0\\xa6\\xaa\\xe0\\xa7\\x8d\\xe0\\xa6\\xb0\\xe0\\xa6\\xbf\\xe0\\xa6\\xaf\\xe0\\xa6\\xbc \\xe0\\xa6\\x86\\xe0\\xa6\\xae\\xe0\\xa6\\xbe\\xe0\\xa6\\xb0\\xe0\\xa7\\x87 \\xe0\\xa6\\xa6\\xe0\\xa6\\xbf\\xe0\\xa6\\x93 \\xe0\\xa6\\xb8\\xe0\\xa7\\x87 \\xe0\\xa6\\xaa\\xe0\\xa7\\x8d\\xe0\\xa6\\xb0\\xe0\\xa7\\x87\\xe0\\xa6\\xae\\xe0\\xa7\\x87\\xe0\\xa6\\xb0 \\xe0\\xa6\\xae\\xe0\\xa7\\x81\\xe0\\xa6\\x95\\xe0\\xa7\\x81\\xe0\\xa6\\xb2\\xe0\\xa5\\xa4\\xe0\\xa5\\xa4\\\\n\\xe0\\xa6\\xa6\\xe0\\xa7\\x80\\xe0\\xa6\\xb0\\xe0\\xa6\\x98 \\xe0\\xa6\\xac\\xe0\\xa6\\xb0\\xe0\\xa6\\xb7 \\xe0\\xa6\\xae\\xe0\\xa6\\xbe\\xe0\\xa6\\xb8 \\xe0\\xa6\\xa4\\xe0\\xa6\\xbe\\xe0\\xa6\\xb9\\xe0\\xa6\\xbe\\xe0\\xa6\\xb0\\xe0\\xa6\\xbf \\xe0\\xa6\\x86\\xe0\\xa6\\xb6\\xe0\\xa7\\x87\\\\n\\xe0\\xa6\\x9c\\xe0\\xa6\\xbe\\xe0\\xa6\\x97\\xe0\\xa6\\xbf\\xe0\\xa6\\xaf\\xe0\\xa6\\xbc\\xe0\\xa6\\xbe \\xe0\\xa6\\xb0\\xe0\\xa6\\xac \\xe0\\xa6\\xa4\\xe0\\xa6\\xac \\xe0\\xa6\\xa6\\xe0\\xa7\\x81\\xe0\\xa6\\xaf\\xe0\\xa6\\xbc\\xe0\\xa6\\xbe\\xe0\\xa6\\xb0-\\xe0\\xa6\\xaa\\xe0\\xa6\\xbe\\xe0\\xa6\\xb6\\xe0\\xa7\\x87,\\\\n\\xe0\\xa6\\xac\\xe0\\xa6\\xb9\\xe0\\xa6\\xbf\\xe0\\xa6\\xac\\xe0\\xa7\\x87 \\xe0\\xa6\\x95\\xe0\\xa6\\xac\\xe0\\xa7\\x87 \\xe0\\xa6\\xab\\xe0\\xa7\\x81\\xe0\\xa6\\xb2-\\xe0\\xa6\\xab\\xe0\\xa7\\x81\\xe0\\xa6\\x9f\\xe0\\xa6\\xbe\\xe0\\xa6\\xa8\\xe0\\xa7\\x8b\\\\n\\xe0\\xa6\\xa6\\xe0\\xa6\\x96\\xe0\\xa6\\xbf\\xe0\\xa6\\xa8\\xe0\\xa6\\xbe \\xe0\\xa6\\xac\\xe0\\xa6\\xbe\\xe0\\xa6\\xa4\\xe0\\xa6\\xbe\\xe0\\xa6\\xb8 \\xe0\\xa6\\x85\\xe0\\xa6\\xa8\\xe0\\xa7\\x81\\xe0\\xa6\\x95\\xe0\\xa7\\x82\\xe0\\xa6\\xb2\\xe0\\xa5\\xa4\\xe0\\xa5\\xa4\\\\n\\xe0\\xa6\\x86\\xe0\\xa6\\xb0 \\xe0\\xa6\\x95\\xe0\\xa6\\xbe\\xe0\\xa6\\xb0\\xe0\\xa7\\x87 \\xe0\\xa6\\xa6\\xe0\\xa6\\xbe\\xe0\\xa6\\x93 \\xe0\\xa6\\xaf\\xe0\\xa6\\xa6\\xe0\\xa6\\xbf \\xe0\\xa6\\x86\\xe0\\xa6\\xae\\xe0\\xa6\\xbe\\xe0\\xa6\\xb0 \\xe0\\xa6\\xb8\\xe0\\xa7\\x87 \\xe0\\xa6\\xa7\\xe0\\xa7\\x8d\\xe0\\xa6\\xaf\\xe0\\xa6\\xbe\\xe0\\xa6\\xa8\\xe0\\xa7\\x87\\xe0\\xa6\\xb0 \\xe0\\xa6\\x95\\xe0\\xa7\\x81\\xe0\\xa6\\xb8\\xe0\\xa7\\x81\\xe0\\xa6\\xae\\\\n\\xe0\\xa6\\x95\\xe0\\xa7\\x8d\\xe0\\xa6\\xb7\\xe0\\xa6\\xa4\\xe0\\xa6\\xbf \\xe0\\xa6\\xa8\\xe0\\xa6\\xbe\\xe0\\xa6\\x87 \\xe0\\xa6\\x93\\xe0\\xa6\\x97\\xe0\\xa7\\x8b \\xe0\\xa6\\xaa\\xe0\\xa7\\x8d\\xe0\\xa6\\xb0\\xe0\\xa6\\xbf\\xe0\\xa6\\xaf\\xe0\\xa6\\xbc \\xe0\\xa6\\xad\\xe0\\xa6\\xbe\\xe0\\xa6\\x99\\xe0\\xa7\\x81\\xe0\\xa6\\x95 \\xe0\\xa6\\x8f \\xe0\\xa6\\x85\\xe0\\xa6\\x95\\xe0\\xa6\\xb0\\xe0\\xa7\\x81\\xe0\\xa6\\xa3 \\xe0\\xa6\\x98\\xe0\\xa7\\x81\\xe0\\xa6\\xae\\xe0\\xa5\\xa4\\\\n\\xe0\\xa6\\x97\\xe0\\xa7\\x81\\xe0\\xa6\\x9e\\xe0\\xa7\\x8d\\xe0\\xa6\\x9c\\xe0\\xa6\\xb0\\xe0\\xa6\\xbf\\xe2\\x80\\x99 \\xe0\\xa6\\x97\\xe0\\xa7\\x81\\xe0\\xa6\\x9e\\xe0\\xa7\\x8d\\xe0\\xa6\\x9c\\xe0\\xa6\\xb0\\xe0\\xa6\\xbf\\xe2\\x80\\x99 \\xe0\\xa6\\xad\\xe0\\xa7\\x8d\\xe0\\xa6\\xb0\\xe0\\xa6\\xae\\xe0\\xa6\\xb0 \\xe0\\xa6\\xb8\\xe0\\xa6\\xae\\\\n\\xe0\\xa6\\x95\\xe0\\xa6\\xbe\\xe0\\xa6\\x81\\xe0\\xa6\\xa6\\xe0\\xa6\\xbf\\xe0\\xa6\\xac \\xe0\\xa6\\xa4\\xe0\\xa7\\x8b\\xe0\\xa6\\xae\\xe0\\xa6\\xbe\\xe0\\xa6\\xb0\\xe0\\xa7\\x87 \\xe0\\xa6\\x98\\xe0\\xa6\\xbf\\xe0\\xa6\\xb0\\xe0\\xa6\\xbf\\xe2\\x80\\x99 \\xe0\\xa6\\xaa\\xe0\\xa7\\x8d\\xe0\\xa6\\xb0\\xe0\\xa6\\xbf\\xe0\\xa6\\xaf\\xe0\\xa6\\xbc\\xe0\\xa6\\xa4\\xe0\\xa6\\xae\\\\n\\xe0\\xa6\\xb9\\xe0\\xa7\\x81\\xe0\\xa6\\xa4\\xe0\\xa6\\xbe\\xe0\\xa6\\xb8 \\xe0\\xa6\\xac\\xe0\\xa6\\xbe\\xe0\\xa6\\xa4\\xe0\\xa6\\xbe\\xe0\\xa6\\xb8 \\xe0\\xa6\\xb8\\xe0\\xa6\\xae \\xe0\\xa6\\x95\\xe0\\xa7\\x81\\xe0\\xa6\\xb8\\xe0\\xa7\\x81\\xe0\\xa6\\xae \\xe0\\xa6\\xab\\xe0\\xa7\\x81\\xe0\\xa6\\x9f\\xe0\\xa6\\xbe\\xe0\\xa6\\xaf\\xe0\\xa6\\xbc\\xe0\\xa7\\x87\\\\n\\xe0\\xa6\\x9a\\xe0\\xa6\\xb2\\xe0\\xa7\\x87 \\xe0\\xa6\\xaf\\xe0\\xa6\\xbe\\xe0\\xa6\\xac \\xe0\\xa6\\xa6\\xe0\\xa7\\x82\\xe0\\xa6\\xb0\\xe0\\xa7\\x87 \\xe0\\xa6\\xac\\xe0\\xa7\\x87\\xe0\\xa6\\xad\\xe0\\xa7\\x81\\xe0\\xa6\\xb2\\xe0\\xa5\\xa4\\xe0\\xa5\\xa4\",\\r\\n   \"Mood\": \"\\xe0\\xa6\\xaa\\xe0\\xa7\\x8d\\xe0\\xa6\\xb0\\xe0\\xa7\\x87\\xe0\\xa6\\xae\"\\r\\n },\\r\\n {\\r\\n   \"title\": \"\\xe0\\xa6\\xa6\\xe0\\xa7\\x9f\\xe0\\xa6\\xbe\\xe0\\xa6\\xb2 \\xe0\\xa6\\x9a\\xe0\\xa6\\xbe\\xe0\\xa6\\xa8\\xe0\\xa7\\x8d\\xe0\\xa6\\xa6\\xe0\\xa7\\x87\\xe0\\xa6\\xb0 \\xe0\\xa6\\xaa\\xe0\\xa6\\xbe\\xe0\\xa7\\x9f\\xe0\\xa7\\x87\\xe0\\xa6\\xb0 \\xe0\\xa6\\xa6\\xe0\\xa7\\x81\\xe0\\xa6\\xb2\\xe0\\xa6\\xbe \\xe0\\xa6\\x86\\xe0\\xa6\\xae\\xe0\\xa6\\xbf \\xe0\\xa6\\xaf\\xe0\\xa7\\x87\\xe0\\xa6\\xa8 \\xe0\\xa6\\xb9\\xe0\\xa6\\x87\\xe0\\xa6\\xa4\\xe0\\xa7\\x87 \\xe0\\xa6\\xaa\\xe0\\xa6\\xbe\\xe0\\xa6\\xb0\\xe0\\xa6\\xbf\",\\r\\n   \"category\": \"\\xe0\\xa6\\xac\\xe0\\xa6\\xbe\\xe0\\xa6\\x89\\xe0\\xa6\\xb2\",\\r\\n   \"lyrics\": \"\\xe0\\xa6\\x86\\xe0\\xa6\\xae\\xe0\\xa6\\xbf \\xe0\\xa6\\x95\\xe0\\xa7\\x81\\xe0\\xa6\\x95\\xe0\\xa7\\x81\\xe0\\xa6\\xb0 \\xe0\\xa6\\xb9\\xe0\\xa6\\x87\\xe0\\xa7\\x9f\\xe0\\xa6\\xbe \\xe0\\xa6\\xa6\\xe0\\xa7\\x87\\xe0\\xa6\\x87 \\xe0\\xa6\\xaa\\xe0\\xa6\\xbe\\xe0\\xa6\\xb9\\xe0\\xa6\\xbe\\xe0\\xa7\\x9c\\xe0\\xa6\\xbe\\\\n\\xe0\\xa6\\xa6\\xe0\\xa7\\x9f\\xe0\\xa6\\xbe\\xe0\\xa6\\xb2 \\xe0\\xa6\\x9a\\xe0\\xa6\\xbe\\xe0\\xa6\\xa8\\xe0\\xa7\\x8d\\xe0\\xa6\\xa6\\xe0\\xa7\\x87\\xe0\\xa6\\xb0 \\xe0\\xa6\\x98\\xe0\\xa7\\x9c \\xe0\\xa6\\xac\\xe0\\xa6\\xbe\\xe0\\xa7\\x9c\\xe0\\xa6\\xbf\\\\n\\xe0\\xa6\\x86\\xe0\\xa6\\xae\\xe0\\xa6\\xbf \\xe0\\xa6\\xaf\\xe0\\xa7\\x87\\xe0\\xa6\\xa8 \\xe0\\xa6\\xb9\\xe0\\xa6\\x87\\xe0\\xa6\\xa4\\xe0\\xa7\\x87 \\xe0\\xa6\\xaa\\xe0\\xa6\\xbe\\xe0\\xa6\\xb0\\xe0\\xa6\\xbf\\xe2\\x80\\xa6\\xe2\\x80\\xa6.\\\\n\\xe0\\xa6\\xa6\\xe0\\xa7\\x9f\\xe0\\xa6\\xbe\\xe0\\xa6\\xb2 \\xe0\\xa6\\x86\\xe0\\xa6\\xae\\xe0\\xa6\\xbe\\xe0\\xa6\\xb0 \\xe0\\xa6\\x85\\xe0\\xa6\\xaf\\xe0\\xa7\\x81 \\xe0\\xa6\\x95\\xe0\\xa6\\xb0\\xe0\\xa7\\x87 \\xe0\\xa6\\xaf\\xe0\\xa7\\x87\\xe0\\xa6\\x87 \\xe0\\xa6\\x98\\xe0\\xa6\\x9f\\xe0\\xa6\\xbf \\xe0\\xa6\\xa6\\xe0\\xa6\\xbf\\xe0\\xa7\\x9f\\xe0\\xa6\\xbe\\xe0\\xa6\\xbf\\\\n\\xe0\\xa6\\x86\\xe0\\xa6\\xae\\xe0\\xa6\\xbf \\xe0\\xa6\\xaf\\xe0\\xa7\\x87\\xe0\\xa6\\xa8 \\xe0\\xa6\\xa5\\xe0\\xa6\\xbe\\xe0\\xa6\\x95\\xe0\\xa6\\xa4\\xe0\\xa7\\x87 \\xe0\\xa6\\xaa\\xe0\\xa6\\xbe\\xe0\\xa6\\xb0\\xe0\\xa6\\xbf \\xe0\\xa6\\xb8\\xe0\\xa7\\x87\\xe0\\xa6\\x87 \\xe0\\xa6\\x98\\xe0\\xa6\\x9f\\xe0\\xa6\\xbf \\xe0\\xa6\\xb9\\xe0\\xa6\\x87\\xe0\\xa7\\x9f\\xe0\\xa6\\xbe\\\\n\\xe0\\xa6\\xa6\\xe0\\xa7\\x9f\\xe0\\xa6\\xbe\\xe0\\xa6\\xb2 \\xe0\\xa6\\x9a\\xe0\\xa6\\xbe\\xe0\\xa6\\xa8\\xe0\\xa7\\x8d\\xe0\\xa6\\xa6\\xe0\\xa7\\x87\\xe0\\xa6\\xb0 \\xe0\\xa6\\xac\\xe0\\xa6\\xbe\\xe0\\xa7\\x9c\\xe0\\xa6\\xbf\\xe0\\xa6\\xb0 \\xe0\\xa6\\x9d\\xe0\\xa6\\xbe\\xe0\\xa6\\xb0\\xe0\\xa7\\x81 \\xe0\\xa6\\x86\\xe0\\xa6\\xae\\xe0\\xa6\\xbf \\xe0\\xa6\\xaf\\xe0\\xa7\\x87\\xe0\\xa6\\xa8 \\xe0\\xa6\\xb9\\xe0\\xa6\\x87\\xe0\\xa6\\xa4\\xe0\\xa7\\x87 \\xe0\\xa6\\xaa\\xe0\\xa6\\xbe\\xe0\\xa6\\xb0\\xe0\\xa6\\xbf\\\\n\\xe0\\xa6\\xa6\\xe0\\xa7\\x9f\\xe0\\xa6\\xbe\\xe0\\xa6\\xb2 \\xe0\\xa6\\x93 \\xe0\\xa6\\xa6\\xe0\\xa7\\x9f\\xe0\\xa6\\xbe\\xe0\\xa6\\xb2 \\xe0\\xa6\\x86\\xe0\\xa6\\xae\\xe0\\xa6\\xbe\\xe0\\xa6\\xb0 \\xe0\\xa6\\x96\\xe0\\xa6\\xbe\\xe0\\xa6\\x9f\\xe0\\xa7\\x87 \\xe0\\xa6\\x98\\xe0\\xa7\\x81\\xe0\\xa6\\xae\\xe0\\xa6\\xbe\\xe0\\xa7\\x9f\\\\n\\xe0\\xa6\\xaf\\xe0\\xa7\\x87\\xe0\\xa6\\x87 \\xe0\\xa6\\xac\\xe0\\xa6\\xbf\\xe0\\xa6\\xb8\\xe0\\xa6\\xbe\\xe0\\xa6\\xa8\\xe0\\xa6\\xbe\\xe0\\xa6\\xb0 \\xe0\\xa6\\xaa\\xe0\\xa6\\xb0 \\xe0\\xa6\\x86\\xe0\\xa6\\xae\\xe0\\xa6\\xbf \\xe0\\xa6\\xaf\\xe0\\xa7\\x87\\xe0\\xa6\\xa8 \\xe0\\xa6\\xa5\\xe0\\xa6\\xbe\\xe0\\xa6\\x95\\xe0\\xa6\\xa4\\xe0\\xa7\\x87 \\xe0\\xa6\\xaa\\xe0\\xa6\\xbe\\xe0\\xa6\\xb0\\xe0\\xa6\\xbf \\xe0\\xa6\\xb8\\xe0\\xa7\\x87\\xe0\\xa6\\x87 \\xe0\\xa6\\xac\\xe0\\xa6\\xb0\\xe0\\xa6\\xbe\\xe0\\xa6\\xac\\xe0\\xa6\\xb0\\\\n\\xe0\\xa6\\xa6\\xe0\\xa7\\x87\\xe0\\xa6\\x93\\xe0\\xa7\\x9f\\xe0\\xa6\\xbe\\xe0\\xa6\\xa8 \\xe0\\xa6\\x86\\xe0\\xa6\\x95\\xe0\\xa7\\x8d\\xe0\\xa6\\x95\\xe0\\xa6\\xbe\\xe0\\xa6\\xb8\\xe0\\xa7\\x87\\xe0\\xa6\\xb0 \\xe0\\xa6\\x8f\\xe0\\xa6\\x87 \\xe0\\xa6\\xae\\xe0\\xa6\\xb0 \\xe0\\xa6\\xac\\xe0\\xa7\\x87\\xe0\\xa6\\xb2\\xe0\\xa6\\xbe\\xe0\\xa7\\x9f \\xe0\\xa6\\xae\\xe0\\xa7\\x81\\xe0\\xa6\\xb0\\xe0\\xa6\\xb6\\xe0\\xa6\\xbf\\xe0\\xa6\\xa6\\\\n\\xe0\\xa6\\xb0\\xe0\\xa7\\x81\\xe0\\xa6\\xaa \\xe0\\xa6\\xa6\\xe0\\xa7\\x87\\xe0\\xa6\\x96\\xe0\\xa6\\xa4\\xe0\\xa7\\x87 \\xe0\\xa6\\xaa\\xe0\\xa6\\xbe\\xe0\\xa6\\x87\\xe2\\x80\\xa6\\\\n\\xe0\\xa6\\x86\\xe0\\xa6\\xae\\xe0\\xa6\\xbf \\xe0\\xa6\\xaf\\xe0\\xa7\\x87\\xe0\\xa6\\xa8 \\xe0\\xa6\\xb9\\xe0\\xa6\\x87\\xe0\\xa6\\xa4\\xe0\\xa7\\x87 \\xe0\\xa6\\xaa\\xe0\\xa6\\xbe\\xe0\\xa6\\xb0\\xe0\\xa6\\xbf\",\\r\\n   \"Mood\": \"\\xe0\\xa6\\xa7\\xe0\\xa6\\xbe\\xe0\\xa6\\xb0\\xe0\\xa7\\x8d\\xe0\\xa6\\xae\\xe0\\xa6\\xbf\\xe0\\xa6\\x95\"\\r\\n },\\r\\n {\\r\\n   \"title\": \"\\xe0\\xa6\\xac\\xe0\\xa7\\x8b\\xe0\\xa6\\xb2\\xe0\\xa7\\x8b \\xe0\\xa6\\xa8\\xe0\\xa6\\xbe \\xe0\\xa6\\xac\\xe0\\xa7\\x8b\\xe0\\xa6\\xb2\\xe0\\xa7\\x8b \\xe0\\xa6\\xa8\\xe0\\xa6\\xbe \\xe0\\xa6\\x93\\xe0\\xa6\\xb2\\xe0\\xa7\\x8b \\xe0\\xa6\\xb8\\xe0\\xa6\\x87\",\\r\\n   \"category\": \"\\xe0\\xa6\\xa8\\xe0\\xa6\\x9c\\xe0\\xa6\\xb0\\xe0\\xa7\\x81\\xe0\\xa6\\xb2 \\xe0\\xa6\\x97\\xe0\\xa7\\x80\\xe0\\xa6\\xa4\\xe0\\xa6\\xbf\",\\r\\n   \"lyrics\": \"\\xe0\\xa6\\xac\\xe0\\xa7\\x8b\\xe0\\xa6\\xb2\\xe0\\xa7\\x8b \\xe0\\xa6\\xa8\\xe0\\xa6\\xbe \\xe0\\xa6\\xac\\xe0\\xa7\\x8b\\xe0\\xa6\\xb2\\xe0\\xa7\\x8b \\xe0\\xa6\\xa8\\xe0\\xa6\\xbe \\xe0\\xa6\\x93\\xe0\\xa6\\xb2\\xe0\\xa7\\x8b \\xe0\\xa6\\xb8\\xe0\\xa6\\x87\\\\n\\xe0\\xa6\\x86\\xe0\\xa6\\xb0 \\xe0\\xa6\\xb8\\xe0\\xa7\\x87 \\xe0\\xa6\\x95\\xe0\\xa6\\xa5\\xe0\\xa6\\xbe\\xe0\\xa5\\xa4\\xe0\\xa5\\xa4\\\\n\\xe0\\xa6\\xa4\\xe0\\xa6\\xb0\\xe0\\xa7\\x81 \\xe0\\xa6\\x95\\xe0\\xa6\\xbf \\xe0\\xa6\\xb2\\xe0\\xa6\\xa4\\xe0\\xa6\\xbe\\xe0\\xa6\\xb0 \\xe0\\xa6\\x95\\xe0\\xa6\\xbe\\xe0\\xa6\\x9b\\xe0\\xa7\\x87\\\\n\\xe0\\xa6\\x8f\\xe0\\xa6\\xb8\\xe0\\xa7\\x87 \\xe0\\xa6\\x95\\xe0\\xa6\\xad\\xe0\\xa7\\x81 \\xe0\\xa6\\xaa\\xe0\\xa7\\x8d\\xe0\\xa6\\xb0\\xe0\\xa7\\x87\\xe0\\xa6\\xae \\xe0\\xa6\\xaf\\xe0\\xa6\\xbe\\xe0\\xa6\\x9a\\xe0\\xa7\\x87\\\\n\\xe0\\xa6\\xa4\\xe0\\xa6\\xb0\\xe0\\xa7\\x81 \\xe0\\xa6\\xac\\xe0\\xa6\\xbf\\xe0\\xa6\\xa8\\xe0\\xa6\\xbe \\xe0\\xa6\\xa8\\xe0\\xa6\\xbe\\xe0\\xa6\\xb9\\xe0\\xa6\\xbf \\xe0\\xa6\\xac\\xe0\\xa6\\xbe\\xe0\\xa6\\x81\\xe0\\xa6\\x9a\\xe0\\xa7\\x87\\\\n\\xe0\\xa6\\x85\\xe0\\xa6\\xb8\\xe0\\xa6\\xb9\\xe0\\xa6\\xbe\\xe0\\xa6\\xaf\\xe0\\xa6\\xbc \\xe0\\xa6\\xb2\\xe0\\xa6\\xa4\\xe0\\xa6\\xbe\\xe0\\xa5\\xa4\\xe0\\xa5\\xa4\\\\n\\xe0\\xa6\\xad\\xe0\\xa7\\x81\\xe0\\xa6\\xb2\\xe0\\xa6\\xbf\\xe0\\xa6\\xa4\\xe0\\xa7\\x87 \\xe0\\xa6\\xaf\\xe0\\xa6\\xbe\\xe0\\xa6\\xb0 \\xe0\\xa6\\xa8\\xe0\\xa6\\xbe\\xe0\\xa6\\x87 \\xe0\\xa6\\xa4\\xe0\\xa7\\x81\\xe0\\xa6\\xb2\\xe0\\xa6\\xa8\\xe0\\xa6\\xbe\\\\n\\xe0\\xa6\\xb8\\xe0\\xa6\\x96\\xe0\\xa6\\xbf \\xe0\\xa6\\xa4\\xe0\\xa6\\xbe\\xe0\\xa6\\xb0 \\xe0\\xa6\\x95\\xe0\\xa6\\xa5\\xe0\\xa6\\xbe \\xe0\\xa6\\xa4\\xe0\\xa7\\x81\\xe0\\xa6\\xb2\\xe0\\xa7\\x8b \\xe0\\xa6\\xa8\\xe0\\xa6\\xbe\\\\n\\xe0\\xa6\\xaa\\xe0\\xa7\\x8d\\xe0\\xa6\\xb0\\xe0\\xa6\\xbe\\xe0\\xa6\\xa3\\xe0\\xa6\\xb9\\xe0\\xa7\\x80\\xe0\\xa6\\xa8 \\xe0\\xa6\\xaa\\xe0\\xa6\\xbe\\xe0\\xa6\\xb7\\xe0\\xa6\\xbe\\xe0\\xa6\\xa3\\xe0\\xa7\\x87 \\xe0\\xa6\\x97\\xe0\\xa6\\xa1\\xe0\\xa6\\xbc\\xe0\\xa6\\xbe\\\\n\\xe0\\xa6\\xb8\\xe0\\xa7\\x87 \\xe0\\xa6\\xaf\\xe0\\xa7\\x87 \\xe0\\xa6\\xa6\\xe0\\xa7\\x87\\xe0\\xa6\\xac\\xe0\\xa6\\xa4\\xe0\\xa6\\xbe\\xe0\\xa5\\xa4\\xe0\\xa5\\xa4\",\\r\\n   \"Mood\": \"\\xe0\\xa6\\xa7\\xe0\\xa6\\xbe\\xe0\\xa6\\xb0\\xe0\\xa7\\x8d\\xe0\\xa6\\xae\\xe0\\xa6\\xbf\\xe0\\xa6\\x95\"\\r\\n },\\r\\n {\\r\\n   \"title\": \"\\xe0\\xa6\\xae\\xe0\\xa6\\xbe\\xe0\\xa6\\x93\\xe0\\xa6\\xb2\\xe0\\xa6\\xbe\\xe0\\xa6\\xa8\\xe0\\xa6\\xbe\",\\r\\n   \"category\": \"\\xe0\\xa6\\xac\\xe0\\xa6\\xbe\\xe0\\xa6\\x89\\xe0\\xa6\\xb2\",\\r\\n   \"lyrics\": \"\\xe0\\xa6\\xa4\\xe0\\xa7\\x81\\xe0\\xa6\\xae\\xe0\\xa6\\xbf \\xe0\\xa6\\x8f\\xe0\\xa6\\xb8\\xe0\\xa6\\xae\\xe0\\xa7\\x87 \\xe0\\xa6\\x86\\xe0\\xa6\\x9c \\xe0\\xa6\\xaf\\xe0\\xa6\\xa4 \\xe0\\xa6\\xa4\\xe0\\xa6\\xb0\\xe0\\xa6\\xbe\\xe0\\xa6\\xa8\\xe0\\xa7\\x87 \\xe0\\xa6\\x93\\xe0\\xa6\\xb2\\xe0\\xa6\\xbe\\\\n\\xe0\\xa6\\x97\\xe0\\xa6\\xbe\\xe0\\xa6\\x89\\xe0\\xa6\\x9b\\xe0\\xa7\\x87\\xe0\\xa6\\xb2\\xe0\\xa6\\xbe\\xe0\\xa6\\xae \\xe0\\xa6\\xac\\xe0\\xa6\\xbe\\xe0\\xa6\\xac\\xe0\\xa6\\xbe \\xe0\\xa6\\xa8\\xe0\\xa7\\x81\\xe0\\xa6\\xb0\\xe0\\xa7\\x87 \\xe0\\xa6\\xae\\xe0\\xa6\\xbe\\xe0\\xa6\\x93\\xe0\\xa6\\xb2\\xe0\\xa6\\xbe \\xe0\\xa6\\xa4\\xe0\\xa7\\x81\\xe0\\xa6\\xae\\xe0\\xa6\\xbf \\xe0\\xa6\\x8f\\xe0\\xa6\\xb8\\xe0\\xa6\\xae\\xe0\\xa7\\x87\\\\n\\xe0\\xa6\\x86\\xe0\\xa6\\xaf\\xe0\\xa6\\xae \\xe0\\xa6\\xaf\\xe0\\xa6\\xa4 \\xe0\\xa6\\xa4\\xe0\\xa6\\xb0\\xe0\\xa6\\xbe\\xe0\\xa6\\xa8\\xe0\\xa7\\x87 \\xe0\\xa6\\x93\\xe0\\xa6\\xb2\\xe0\\xa6\\xbe\\xe2\\x80\\xa6..\\\\n\\xe0\\xa6\\x86\\xe0\\xa6\\xb2\\xe0\\xa7\\x80\\xe0\\xa6\\xab\\xe0\\xa7\\x87\\xe0\\xa6\\xa4\\xe0\\xa7\\x87 \\xe0\\xa6\\x93\\xe0\\xa6\\xb9\\xe0\\xa7\\x87 \\xe0\\xa6\\xa6\\xe0\\xa6\\xbe\\xe0\\xa6\\xb2\\xe0\\xa7\\x8d\\xe0\\xa6\\xb2\\xe0\\xa6\\xbe \\xe0\\xa6\\xb0\\xe0\\xa6\\xbe\\xe0\\xa6\\x96\\xe0\\xa6\\xbe\\xe0\\xa6\\xb2\\xe0\\xa6\\xbf\\xe0\\xa6\\xa4\\xe0\\xa7\\x87 \\xe0\\xa6\\x96\\xe0\\xa6\\xbe\\xe0\\xa6\\xb2\\xe0\\xa6\\xbf\\xe0\\xa6\\x95\\xe0\\xa7\\x81\\xe0\\xa6\\xb2\\xe0\\xa7\\x8d\\xe0\\xa6\\xb2\\xe0\\xa6\\xbe\\\\n\\xe0\\xa6\\xa8\\xe0\\xa7\\x81\\xe0\\xa6\\xb0 \\xe0\\xa6\\xae\\xe0\\xa7\\x81\\xe0\\xa6\\xb9\\xe0\\xa6\\xbe\\xe0\\xa6\\xae\\xe0\\xa7\\x8d\\xe0\\xa6\\xae\\xe0\\xa6\\xa6 \\xe0\\xa6\\xb8\\xe0\\xa6\\xbe\\xe0\\xa6\\xb2\\xe0\\xa7\\x8d\\xe0\\xa6\\xb2\\xe0\\xa6\\xbf \\xe0\\xa6\\x93\\xe0\\xa6\\xb2\\xe0\\xa6\\xbe..\\\\n\\xe0\\xa6\\x86\\xe0\\xa6\\xae\\xe0\\xa6\\xbe\\xe0\\xa6\\xb0 \\xe0\\xa6\\xac\\xe0\\xa6\\xbe\\xe0\\xa6\\xac\\xe0\\xa6\\xbe \\xe0\\xa6\\xae\\xe0\\xa6\\xbe\\xe0\\xa6\\x93\\xe0\\xa6\\xb2\\xe0\\xa6\\xbe\\xe0\\xa6\\xa8\\xe0\\xa6\\xbe\\\\n\\xe0\\xa6\\x86\\xe0\\xa6\\x93\\xe0\\xa6\\xb2\\xe0\\xa6\\xbe\\xe0\\xa6\\xa6\\xe0\\xa7\\x87 \\xe0\\xa6\\xb0\\xe0\\xa6\\xbe\\xe0\\xa6\\xb8\\xe0\\xa7\\x81\\xe0\\xa6\\xb2 \\xe0\\xa6\\xae\\xe0\\xa6\\xa6\\xe0\\xa6\\xbf\\xe0\\xa6\\xa8\\xe0\\xa6\\xbe\\xe0\\xa6\\xb0 \\xe0\\xa6\\xab\\xe0\\xa7\\x81\\xe0\\xa6\\xb2 \\xe0\\xa6\\x86\\xe0\\xa6\\xae\\xe0\\xa6\\xbe\\xe0\\xa6\\xb0 \\xe0\\xa6\\xac\\xe0\\xa6\\xbe\\xe0\\xa6\\xac\\xe0\\xa6\\xbe \\xe0\\xa6\\xae\\xe0\\xa6\\xbe\\xe0\\xa6\\x93\\xe0\\xa6\\xb2\\xe0\\xa6\\xbe\\xe0\\xa6\\xa8\\xe0\\xa6\\xbe\\\\n\\xe0\\xa6\\x86\\xe0\\xa6\\xb2\\xe0\\xa6\\xbf\\xe0\\xa6\\xab\\xe0\\xa7\\x87\\xe0\\xa6\\xa4\\xe0\\xa7\\x87 \\xe0\\xa6\\x86\\xe0\\xa6\\x9b\\xe0\\xa7\\x8b \\xe0\\xa6\\xa4\\xe0\\xa7\\x81\\xe0\\xa6\\xae\\xe0\\xa6\\xbf \\xe0\\xa6\\xb2\\xe0\\xa6\\xbe\\xe0\\xa6\\xae\\xe0\\xa7\\x87\\xe0\\xa6\\xb0 \\xe0\\xa6\\xae\\xe0\\xa6\\xbe\\xe0\\xa6\\x9d\\xe0\\xa7\\x87 \\xe0\\xa6\\xa5\\xe0\\xa6\\xbe\\xe0\\xa6\\x95\\xe0\\xa6\\xbf \\xe0\\xa6\\x86\\xe0\\xa6\\xae\\xe0\\xa6\\xbf\\\\n\\xe0\\xa6\\xae\\xe0\\xa6\\xbf\\xe0\\xa6\\xae\\xe0\\xa7\\x87\\xe0\\xa6\\xa4\\xe0\\xa7\\x87 \\xe0\\xa6\\xae\\xe0\\xa7\\x8b\\xe0\\xa6\\xb9\\xe0\\xa6\\xbe\\xe0\\xa6\\xae\\xe0\\xa7\\x8d\\xe0\\xa6\\xae\\xe0\\xa6\\xbe\\xe0\\xa6\\xae \\xe0\\xa6\\xb8\\xe0\\xa7\\x87\\xe0\\xa6\\x9c\\xe0\\xa7\\x87 \\xe0\\xa6\\x95\\xe0\\xa6\\xb0\\xe0\\xa6\\xa4\\xe0\\xa7\\x87\\xe0\\xa6\\x9b\\xe0\\xa7\\x8b \\xe0\\xa6\\x95\\xe0\\xa6\\xa4 \\xe0\\xa6\\xac\\xe0\\xa6\\xbe\\xe0\\xa6\\xb9\\xe0\\xa6\\xbe\\xe0\\xa6\\xa8\\xe0\\xa6\\xbe\\xe2\\x80\\xa6\\\\n\\xe0\\xa6\\x86\\xe0\\xa6\\x93\\xe0\\xa6\\xb2\\xe0\\xa6\\xbe\\xe0\\xa6\\xa6\\xe0\\xa7\\x87 \\xe0\\xa6\\xb0\\xe0\\xa6\\xbe\\xe0\\xa6\\xb8\\xe0\\xa7\\x82\\xe0\\xa6\\xb2 \\xe0\\xa6\\xae\\xe0\\xa6\\xa6\\xe0\\xa6\\xbf\\xe0\\xa6\\xa8\\xe0\\xa6\\xbe\\xe0\\xa6\\xb0 \\xe2\\x80\\xa6\\xe2\\x80\\xa6\\xe2\\x80\\xa6..\\xe0\\xa6\\x90\\\\n\\xe0\\xa6\\x86\\xe0\\xa6\\xac\\xe0\\xa7\\x8d\\xe0\\xa6\\xa6\\xe0\\xa7\\x81\\xe0\\xa6\\xb2\\xe0\\xa7\\x8d\\xe0\\xa6\\xb2\\xe0\\xa6\\xbe\\xe0\\xa6\\xb0 \\xe0\\xa6\\xb9\\xe0\\xa6\\x87 \\xe0\\xa6\\x9a\\xe0\\xa6\\x96\\xe0\\xa7\\x8b \\xe0\\xa6\\x95\\xe0\\xa6\\xbe\\xe0\\xa6\\xa8\\xe0\\xa6\\xbe \\xe0\\xa6\\x9a\\xe0\\xa6\\xbf\\xe0\\xa6\\xa8\\xe0\\xa7\\x87 \\xe0\\xa6\\xa8\\xe0\\xa6\\xbe \\xe0\\xa6\\xb8\\xe0\\xa7\\x87 \\xe0\\xa6\\xaa\\xe0\\xa6\\xb0 \\xe0\\xa6\\x86\\xe0\\xa6\\xaa\\xe0\\xa6\\xa8\\xe0\\xa6\\xbe\\\\n\\xe0\\xa6\\x8f\\xe0\\xa6\\x87 \\xe0\\xa6\\xa6\\xe0\\xa7\\x81\\xe0\\xa6\\xa8\\xe0\\xa6\\xbf\\xe0\\xa7\\x9f\\xe0\\xa6\\xbe \\xe0\\xa6\\xb9\\xe0\\xa6\\xac\\xe0\\xa7\\x87 \\xe0\\xa6\\xab\\xe0\\xa6\\xbe\\xe0\\xa6\\xa8\\xe0\\xa6\\xbe\\\\n\\xe0\\xa6\\x86\\xe0\\xa6\\xae\\xe0\\xa6\\xbe\\xe0\\xa6\\xb0 \\xe0\\xa6\\xac\\xe0\\xa6\\xbe\\xe0\\xa6\\xac\\xe0\\xa6\\xbe \\xe0\\xa6\\xae\\xe0\\xa6\\xbe\\xe0\\xa6\\x93\\xe0\\xa6\\xb2\\xe0\\xa6\\xbe\\xe0\\xa6\\xa8\\xe0\\xa6\\xbe\\\\n\\xe0\\xa6\\x86\\xe0\\xa6\\x93\\xe0\\xa6\\xb2\\xe0\\xa6\\xbe\\xe0\\xa6\\xa6\\xe0\\xa7\\x87 \\xe0\\xa6\\xb0\\xe0\\xa6\\xbe\\xe0\\xa6\\xb8\\xe0\\xa7\\x82\\xe0\\xa6\\xb2 \\xe0\\xa6\\xae\\xe0\\xa6\\xa6\\xe0\\xa6\\xbf\\xe0\\xa6\\xa8\\xe0\\xa6\\xbe\\xe0\\xa6\\xb0 \\xe2\\x80\\xa6\\xe2\\x80\\xa6\\xe2\\x80\\xa6..\\xe0\\xa6\\x90\",\\r\\n   \"Mood\": \"\\xe0\\xa6\\xa7\\xe0\\xa6\\xbe\\xe0\\xa6\\xb0\\xe0\\xa7\\x8d\\xe0\\xa6\\xae\\xe0\\xa6\\xbf\\xe0\\xa6\\x95\"\\r\\n },\\r\\n {\\r\\n   \"title\": \"\\xe0\\xa6\\xae\\xe0\\xa7\\x83\\xe0\\xa6\\xa6\\xe0\\xa7\\x81\\xe0\\xa6\\xb2 \\xe0\\xa6\\xac\\xe0\\xa6\\xbe\\xe0\\xa6\\xaf\\xe0\\xa6\\xbc\\xe0\\xa7\\x87 \\xe0\\xa6\\xac\\xe0\\xa6\\x95\\xe0\\xa7\\x81\\xe0\\xa6\\xb2 \\xe0\\xa6\\x9b\\xe0\\xa6\\xbe\\xe0\\xa6\\xaf\\xe0\\xa6\\xbc\\xe0\\xa7\\x87\",\\r\\n   \"category\": \"\\xe0\\xa6\\xa8\\xe0\\xa6\\x9c\\xe0\\xa6\\xb0\\xe0\\xa7\\x81\\xe0\\xa6\\xb2 \\xe0\\xa6\\x97\\xe0\\xa7\\x80\\xe0\\xa6\\xa4\\xe0\\xa6\\xbf\",\\r\\n   \"lyrics\": \"\\xe0\\xa6\\xae\\xe0\\xa7\\x83\\xe0\\xa6\\xa6\\xe0\\xa7\\x81\\xe0\\xa6\\xb2 \\xe0\\xa6\\xac\\xe0\\xa6\\xbe\\xe0\\xa6\\xaf\\xe0\\xa6\\xbc\\xe0\\xa7\\x87 \\xe0\\xa6\\xac\\xe0\\xa6\\x95\\xe0\\xa7\\x81\\xe0\\xa6\\xb2 \\xe0\\xa6\\x9b\\xe0\\xa6\\xbe\\xe0\\xa6\\xaf\\xe0\\xa6\\xbc\\xe0\\xa7\\x87\\\\n\\xe0\\xa6\\x97\\xe0\\xa7\\x8b\\xe0\\xa6\\xaa\\xe0\\xa6\\xa8 \\xe0\\xa6\\xaa\\xe0\\xa6\\xbe\\xe0\\xa6\\xaf\\xe0\\xa6\\xbc\\xe0\\xa7\\x87 \\xe0\\xa6\\x95\\xe0\\xa7\\x87 \\xe0\\xa6\\x93\\xe0\\xa6\\x87 \\xe0\\xa6\\x86\\xe0\\xa6\\xb8\\xe0\\xa7\\x87\\xe0\\xa5\\xa4\\\\n\\xe0\\xa6\\x86\\xe0\\xa6\\x95\\xe0\\xa6\\xbe\\xe0\\xa6\\xb6-\\xe0\\xa6\\x9b\\xe0\\xa6\\xbe\\xe0\\xa6\\x93\\xe0\\xa6\\xaf\\xe0\\xa6\\xbc\\xe0\\xa6\\xbe \\xe0\\xa6\\x9a\\xe0\\xa7\\x8b\\xe0\\xa6\\x96\\xe0\\xa7\\x87\\xe0\\xa6\\xb0 \\xe0\\xa6\\x9a\\xe0\\xa6\\xbe\\xe0\\xa6\\x93\\xe0\\xa6\\xaf\\xe0\\xa6\\xbc\\xe0\\xa6\\xbe\\\\n\\xe0\\xa6\\x89\\xe0\\xa6\\xa4\\xe0\\xa6\\xb2 \\xe0\\xa6\\xb9\\xe0\\xa6\\xbe\\xe0\\xa6\\x93\\xe0\\xa6\\xaf\\xe0\\xa6\\xbc\\xe0\\xa6\\xbe  \\xe0\\xa6\\x95\\xe0\\xa7\\x87\\xe0\\xa6\\xb6\\xe0\\xa7\\x87\\xe0\\xa6\\xb0 \\xe0\\xa6\\xac\\xe0\\xa6\\xbe\\xe0\\xa6\\xb8\\xe0\\xa7\\x87\\xe0\\xa5\\xa5\\\\n\\xe0\\xa6\\x89\\xe0\\xa6\\xb7\\xe0\\xa6\\xbe\\xe0\\xa6\\xb0 \\xe0\\xa6\\xb0\\xe0\\xa6\\xbe\\xe0\\xa6\\x97\\xe0\\xa7\\x87 \\xe0\\xa6\\xb8\\xe0\\xa6\\xbe\\xe0\\xa6\\x81\\xe0\\xa6\\x9d\\xe0\\xa7\\x87\\xe0\\xa6\\xb0 \\xe0\\xa6\\xab\\xe0\\xa6\\xbe\\xe0\\xa6\\x97\\xe0\\xa7\\x87\\\\n\\xe0\\xa6\\xaf\\xe0\\xa7\\x81\\xe0\\xa6\\x97\\xe0\\xa6\\xb2 \\xe0\\xa6\\xa4\\xe0\\xa6\\xbe\\xe0\\xa6\\xb9\\xe0\\xa6\\xbe\\xe0\\xa6\\xb0 \\xe0\\xa6\\x95\\xe0\\xa6\\xaa\\xe0\\xa7\\x8b\\xe0\\xa6\\xb2 \\xe0\\xa6\\xb0\\xe0\\xa6\\xbe\\xe0\\xa6\\x99\\xe0\\xa7\\x87,\\\\n\\xe0\\xa6\\x95\\xe0\\xa6\\xae\\xe0\\xa6\\xb2 \\xe0\\xa6\\xa6\\xe0\\xa7\\x81\\xe0\\xa6\\xb2\\xe0\\xa7\\x87 \\xe0\\xa6\\xb8\\xe0\\xa7\\x81\\xe0\\xa6\\xb0\\xe0\\xa7\\x8d\\xe0\\xa6\\xaf\\xe0\\xa7\\x8d\\xe0\\xa6\\xaf \\xe0\\xa6\\xb6\\xe0\\xa6\\xb6\\xe0\\xa7\\x80\\\\n\\xe0\\xa6\\xa8\\xe0\\xa6\\xbf\\xe0\\xa6\\xb6\\xe0\\xa7\\x80\\xe0\\xa6\\xa5-\\xe0\\xa6\\x9a\\xe0\\xa7\\x81\\xe0\\xa6\\xb2\\xe0\\xa7\\x87 \\xe0\\xa6\\x86\\xe0\\xa6\\x81\\xe0\\xa6\\xa7\\xe0\\xa6\\xbe\\xe0\\xa6\\xb0-\\xe0\\xa6\\xb0\\xe0\\xa6\\xbe\\xe0\\xa6\\xb6\\xe0\\xa7\\x87\\xe0\\xa5\\xa5\\\\n\\xe0\\xa6\\x9a\\xe0\\xa6\\xb0\\xe0\\xa6\\xa3-\\xe0\\xa6\\x9b\\xe0\\xa7\\x8b\\xe0\\xa6\\x81\\xe0\\xa6\\xaf\\xe0\\xa6\\xbc\\xe0\\xa6\\xbe\\xe0\\xa6\\xaf\\xe0\\xa6\\xbc \\xe0\\xa6\\xaa\\xe0\\xa6\\xbe\\xe0\\xa6\\xa4\\xe0\\xa6\\xbe\\xe0\\xa6\\xb0 \\xe0\\xa6\\xa0\\xe0\\xa7\\x8b\\xe0\\xa6\\x81\\xe0\\xa6\\x9f\\xe0\\xa7\\x87\\\\n\\xe0\\xa6\\xae\\xe0\\xa7\\x81\\xe0\\xa6\\x95\\xe0\\xa7\\x81\\xe0\\xa6\\xb2 \\xe0\\xa6\\x95\\xe0\\xa6\\xbe\\xe0\\xa6\\x81\\xe0\\xa6\\xaa\\xe0\\xa7\\x87 \\xe0\\xa6\\x95\\xe0\\xa7\\x81\\xe0\\xa6\\xb8\\xe0\\xa7\\x81\\xe0\\xa6\\xae \\xe0\\xa6\\xab\\xe0\\xa7\\x8b\\xe0\\xa6\\x9f\\xe0\\xa7\\x87,\\\\n\\xe0\\xa6\\x86\\xe0\\xa6\\x81\\xe0\\xa6\\x96\\xe0\\xa6\\xbf\\xe0\\xa6\\xb0 \\xe0\\xa6\\xaa\\xe0\\xa6\\xb2\\xe0\\xa6\\x95- \\xe0\\xa6\\xaa\\xe0\\xa6\\xa4\\xe0\\xa6\\xa8-\\xe0\\xa6\\x9b\\xe0\\xa6\\xbe\\xe0\\xa6\\x81\\xe0\\xa6\\xa6\\xe0\\xa7\\x87\\\\n\\xe0\\xa6\\xa8\\xe0\\xa6\\xbf\\xe0\\xa6\\xb6\\xe0\\xa7\\x80\\xe0\\xa6\\xa5 \\xe0\\xa6\\x95\\xe0\\xa6\\xbe\\xe0\\xa6\\x81\\xe0\\xa6\\xa6\\xe0\\xa7\\x87 \\xe0\\xa6\\xa6\\xe0\\xa6\\xbf\\xe0\\xa6\\xac\\xe0\\xa6\\xb8 \\xe0\\xa6\\xb9\\xe0\\xa6\\xbe\\xe0\\xa6\\xb8\\xe0\\xa7\\x87\\xe0\\xa5\\xa5\\\\n\\xe0\\xa6\\x97\\xe0\\xa7\\x8d\\xe0\\xa6\\xb0\\xe0\\xa6\\xb9\\xe0\\xa7\\x87\\xe0\\xa6\\xb0 \\xe0\\xa6\\xae\\xe0\\xa6\\xbe\\xe0\\xa6\\xb2\\xe0\\xa6\\xbe \\xe0\\xa6\\x85\\xe0\\xa6\\xb2\\xe0\\xa6\\x96-\\xe0\\xa6\\x96\\xe0\\xa7\\x8b\\xe0\\xa6\\x81\\xe0\\xa6\\xaa\\xe0\\xa6\\xbe\\xe0\\xa6\\xaf\\xe0\\xa6\\xbc,\\\\n\\xe0\\xa6\\x95\\xe0\\xa6\\xaa\\xe0\\xa7\\x8b\\xe0\\xa6\\xb2 \\xe0\\xa6\\xb6\\xe0\\xa7\\x8b\\xe0\\xa6\\xad\\xe0\\xa7\\x87 \\xe0\\xa6\\xa4\\xe0\\xa6\\xbe\\xe0\\xa6\\xb0\\xe0\\xa6\\xbe\\xe0\\xa6\\xb0 \\xe0\\xa6\\x9f\\xe0\\xa7\\x8b\\xe0\\xa6\\xaa\\xe0\\xa6\\xbe\\xe0\\xa6\\xaf\\xe0\\xa6\\xbc,\\\\n\\xe0\\xa6\\x95\\xe0\\xa7\\x81\\xe0\\xa6\\xb8\\xe0\\xa7\\x81\\xe0\\xa6\\xae-\\xe0\\xa6\\x95\\xe0\\xa6\\xbe\\xe0\\xa6\\x81\\xe0\\xa6\\x9f\\xe0\\xa6\\xbe\\xe0\\xa6\\xaf\\xe0\\xa6\\xbc \\xe0\\xa6\\x86\\xe0\\xa6\\x81\\xe0\\xa6\\x9a\\xe0\\xa6\\xb2 \\xe0\\xa6\\xac\\xe0\\xa6\\xbe\\xe0\\xa6\\xa7\\xe0\\xa7\\x87\\\\n\\xe0\\xa6\\xb0\\xe0\\xa7\\x81\\xe0\\xa6\\xae\\xe0\\xa6\\xbe\\xe0\\xa6\\xb2 \\xe0\\xa6\\xb2\\xe0\\xa7\\x81\\xe0\\xa6\\x9f\\xe0\\xa6\\xbe\\xe0\\xa6\\xaf\\xe0\\xa6\\xbc \\xe0\\xa6\\xb8\\xe0\\xa6\\xac\\xe0\\xa7\\x81\\xe0\\xa6\\x9c \\xe0\\xa6\\x98\\xe0\\xa6\\xbe\\xe0\\xa6\\xb8\\xe0\\xa7\\x87\\xe0\\xa5\\xa5\\\\n\\xe0\\xa6\\xa4\\xe0\\xa7\\x8b\\xe0\\xa6\\xae\\xe0\\xa6\\xbe\\xe0\\xa6\\xb0 \\xe0\\xa6\\xb2\\xe0\\xa7\\x80\\xe0\\xa6\\xb2\\xe0\\xa6\\xbe- \\xe0\\xa6\\x95\\xe0\\xa6\\xae\\xe0\\xa6\\xb2 \\xe0\\xa6\\x95\\xe0\\xa6\\xb0\\xe0\\xa7\\x87\\\\n\\xe0\\xa6\\xa8\\xe0\\xa6\\xbf\\xe0\\xa6\\x96\\xe0\\xa6\\xbf\\xe0\\xa6\\xb2-\\xe0\\xa6\\xb0\\xe0\\xa6\\xbe\\xe0\\xa6\\xa8\\xe0\\xa6\\xbf! \\xe0\\xa6\\xa6\\xe0\\xa7\\x81\\xe0\\xa6\\xb2\\xe0\\xa6\\xbe\\xe0\\xa6\\x93 \\xe0\\xa6\\xae\\xe0\\xa7\\x8b\\xe0\\xa6\\xb0\\xe0\\xa7\\x87\\xe0\\xa5\\xa4\\\\n\\xe0\\xa6\\xa2\\xe0\\xa7\\x81\\xe0\\xa6\\xb2\\xe0\\xa6\\xbe\\xe0\\xa6\\x93 \\xe0\\xa6\\x86\\xe0\\xa6\\xae\\xe0\\xa6\\xbe\\xe0\\xa6\\xb0 \\xe0\\xa6\\xb8\\xe0\\xa7\\x81\\xe0\\xa6\\xac\\xe0\\xa6\\xbe\\xe0\\xa6\\xb8\\xe0\\xa6\\x96\\xe0\\xa6\\xbe\\xe0\\xa6\\xa8\\xe0\\xa6\\xbf\\\\n\\xe0\\xa6\\xa4\\xe0\\xa7\\x8b\\xe0\\xa6\\xae\\xe0\\xa6\\xbe\\xe0\\xa6\\xb0 \\xe0\\xa6\\xae\\xe0\\xa7\\x81\\xe0\\xa6\\x96\\xe0\\xa7\\x87\\xe0\\xa6\\xb0 \\xe0\\xa6\\xae\\xe0\\xa6\\xa6\\xe0\\xa6\\xbf\\xe0\\xa6\\xb0-\\xe0\\xa6\\xb6\\xe0\\xa7\\x8d\\xe0\\xa6\\xac\\xe0\\xa6\\xbe\\xe0\\xa6\\xb8\\xe0\\xa7\\x87\\xe0\\xa5\\xa5\",\\r\\n   \"Mood\": \"\\xe0\\xa6\\xaa\\xe0\\xa7\\x8d\\xe0\\xa6\\xb0\\xe0\\xa7\\x87\\xe0\\xa6\\xae\"\\r\\n }\\r\\n]'}"
            ]
          },
          "metadata": {
            "tags": []
          },
          "execution_count": 17
        }
      ]
    },
    {
      "cell_type": "code",
      "metadata": {
        "id": "D8bhJRPWlEPs"
      },
      "source": [
        ""
      ],
      "execution_count": null,
      "outputs": []
    },
    {
      "cell_type": "code",
      "metadata": {
        "id": "9TRGMXnfyvow"
      },
      "source": [
        "import json\r\n",
        "with open('BanglaSongs.json', encoding='utf-8') as f:\r\n",
        "    datastore = json.load(f)\r\n",
        "\r\n",
        "sentences = []\r\n",
        "labels = []\r\n",
        "\r\n",
        "\r\n",
        "for item in datastore:\r\n",
        "    sentences.append(item['lyrics'])\r\n",
        "    labels.append(item['Mood'])"
      ],
      "execution_count": 1,
      "outputs": []
    },
    {
      "cell_type": "code",
      "metadata": {
        "colab": {
          "base_uri": "https://localhost:8080/"
        },
        "id": "6og9Hkvg0s-W",
        "outputId": "dfc826bd-6a29-4610-8928-0a8421356535"
      },
      "source": [
        "\r\n",
        "set (labels)"
      ],
      "execution_count": 3,
      "outputs": [
        {
          "output_type": "execute_result",
          "data": {
            "text/plain": [
              "{'',\n",
              " ' প্রেম',\n",
              " ' বেদনা',\n",
              " 'আনন্দ',\n",
              " 'দেশপ্রেম',\n",
              " 'দেশপ্রেম ',\n",
              " 'ধার্মিক',\n",
              " 'প্রেম',\n",
              " 'বেদনা'}"
            ]
          },
          "metadata": {
            "tags": []
          },
          "execution_count": 3
        }
      ]
    },
    {
      "cell_type": "code",
      "metadata": {
        "id": "XheaIyWnLDzj"
      },
      "source": [
        "categories = list (set (labels))"
      ],
      "execution_count": 4,
      "outputs": []
    },
    {
      "cell_type": "code",
      "metadata": {
        "colab": {
          "base_uri": "https://localhost:8080/"
        },
        "id": "FZJlaYBBLKsR",
        "outputId": "2b9da892-fafe-4b88-cfce-2407f4037566"
      },
      "source": [
        "categories"
      ],
      "execution_count": 5,
      "outputs": [
        {
          "output_type": "execute_result",
          "data": {
            "text/plain": [
              "['',\n",
              " 'ধার্মিক',\n",
              " 'আনন্দ',\n",
              " 'বেদনা',\n",
              " 'দেশপ্রেম ',\n",
              " ' বেদনা',\n",
              " 'দেশপ্রেম',\n",
              " ' প্রেম',\n",
              " 'প্রেম']"
            ]
          },
          "metadata": {
            "tags": []
          },
          "execution_count": 5
        }
      ]
    },
    {
      "cell_type": "code",
      "metadata": {
        "id": "44xS6Ri_LPgN"
      },
      "source": [
        "from sklearn.model_selection import train_test_split\r\n",
        "\r\n",
        "X_train, X_test, y_train, y_test = train_test_split(\r\n",
        "  sentences, labels, test_size=0.2, random_state=42)"
      ],
      "execution_count": 6,
      "outputs": []
    },
    {
      "cell_type": "code",
      "metadata": {
        "colab": {
          "base_uri": "https://localhost:8080/"
        },
        "id": "HcfwjnYLI-4O",
        "outputId": "be4b163f-9e76-4dfb-fe62-8ac7b56e72e7"
      },
      "source": [
        "!pip install ktrain"
      ],
      "execution_count": 7,
      "outputs": [
        {
          "output_type": "stream",
          "text": [
            "Requirement already satisfied: ktrain in /usr/local/lib/python3.6/dist-packages (0.25.3)\n",
            "Requirement already satisfied: keras-bert>=0.86.0 in /usr/local/lib/python3.6/dist-packages (from ktrain) (0.86.0)\n",
            "Requirement already satisfied: jieba in /usr/local/lib/python3.6/dist-packages (from ktrain) (0.42.1)\n",
            "Requirement already satisfied: requests in /usr/local/lib/python3.6/dist-packages (from ktrain) (2.23.0)\n",
            "Requirement already satisfied: cchardet in /usr/local/lib/python3.6/dist-packages (from ktrain) (2.1.7)\n",
            "Requirement already satisfied: matplotlib>=3.0.0 in /usr/local/lib/python3.6/dist-packages (from ktrain) (3.2.2)\n",
            "Requirement already satisfied: langdetect in /usr/local/lib/python3.6/dist-packages (from ktrain) (1.0.8)\n",
            "Requirement already satisfied: syntok in /usr/local/lib/python3.6/dist-packages (from ktrain) (1.3.1)\n",
            "Requirement already satisfied: seqeval==0.0.19 in /usr/local/lib/python3.6/dist-packages (from ktrain) (0.0.19)\n",
            "Requirement already satisfied: fastprogress>=0.1.21 in /usr/local/lib/python3.6/dist-packages (from ktrain) (1.0.0)\n",
            "Requirement already satisfied: sentencepiece in /usr/local/lib/python3.6/dist-packages (from ktrain) (0.1.95)\n",
            "Requirement already satisfied: pandas>=1.0.1 in /usr/local/lib/python3.6/dist-packages (from ktrain) (1.1.5)\n",
            "Requirement already satisfied: networkx>=2.3 in /usr/local/lib/python3.6/dist-packages (from ktrain) (2.5)\n",
            "Requirement already satisfied: transformers<4.0,>=3.1.0 in /usr/local/lib/python3.6/dist-packages (from ktrain) (3.5.1)\n",
            "Requirement already satisfied: joblib in /usr/local/lib/python3.6/dist-packages (from ktrain) (1.0.0)\n",
            "Requirement already satisfied: scikit-learn==0.23.2 in /usr/local/lib/python3.6/dist-packages (from ktrain) (0.23.2)\n",
            "Requirement already satisfied: ipython in /usr/local/lib/python3.6/dist-packages (from ktrain) (5.5.0)\n",
            "Requirement already satisfied: whoosh in /usr/local/lib/python3.6/dist-packages (from ktrain) (2.7.4)\n",
            "Requirement already satisfied: packaging in /usr/local/lib/python3.6/dist-packages (from ktrain) (20.8)\n",
            "Requirement already satisfied: numpy in /usr/local/lib/python3.6/dist-packages (from keras-bert>=0.86.0->ktrain) (1.19.5)\n",
            "Requirement already satisfied: keras-transformer>=0.38.0 in /usr/local/lib/python3.6/dist-packages (from keras-bert>=0.86.0->ktrain) (0.38.0)\n",
            "Requirement already satisfied: Keras>=2.4.3 in /usr/local/lib/python3.6/dist-packages (from keras-bert>=0.86.0->ktrain) (2.4.3)\n",
            "Requirement already satisfied: idna<3,>=2.5 in /usr/local/lib/python3.6/dist-packages (from requests->ktrain) (2.10)\n",
            "Requirement already satisfied: urllib3!=1.25.0,!=1.25.1,<1.26,>=1.21.1 in /usr/local/lib/python3.6/dist-packages (from requests->ktrain) (1.24.3)\n",
            "Requirement already satisfied: certifi>=2017.4.17 in /usr/local/lib/python3.6/dist-packages (from requests->ktrain) (2020.12.5)\n",
            "Requirement already satisfied: chardet<4,>=3.0.2 in /usr/local/lib/python3.6/dist-packages (from requests->ktrain) (3.0.4)\n",
            "Requirement already satisfied: python-dateutil>=2.1 in /usr/local/lib/python3.6/dist-packages (from matplotlib>=3.0.0->ktrain) (2.8.1)\n",
            "Requirement already satisfied: cycler>=0.10 in /usr/local/lib/python3.6/dist-packages (from matplotlib>=3.0.0->ktrain) (0.10.0)\n",
            "Requirement already satisfied: pyparsing!=2.0.4,!=2.1.2,!=2.1.6,>=2.0.1 in /usr/local/lib/python3.6/dist-packages (from matplotlib>=3.0.0->ktrain) (2.4.7)\n",
            "Requirement already satisfied: kiwisolver>=1.0.1 in /usr/local/lib/python3.6/dist-packages (from matplotlib>=3.0.0->ktrain) (1.3.1)\n",
            "Requirement already satisfied: six in /usr/local/lib/python3.6/dist-packages (from langdetect->ktrain) (1.15.0)\n",
            "Requirement already satisfied: regex in /usr/local/lib/python3.6/dist-packages (from syntok->ktrain) (2019.12.20)\n",
            "Requirement already satisfied: pytz>=2017.2 in /usr/local/lib/python3.6/dist-packages (from pandas>=1.0.1->ktrain) (2018.9)\n",
            "Requirement already satisfied: decorator>=4.3.0 in /usr/local/lib/python3.6/dist-packages (from networkx>=2.3->ktrain) (4.4.2)\n",
            "Requirement already satisfied: protobuf in /usr/local/lib/python3.6/dist-packages (from transformers<4.0,>=3.1.0->ktrain) (3.12.4)\n",
            "Requirement already satisfied: tqdm>=4.27 in /usr/local/lib/python3.6/dist-packages (from transformers<4.0,>=3.1.0->ktrain) (4.41.1)\n",
            "Requirement already satisfied: sacremoses in /usr/local/lib/python3.6/dist-packages (from transformers<4.0,>=3.1.0->ktrain) (0.0.43)\n",
            "Requirement already satisfied: tokenizers==0.9.3 in /usr/local/lib/python3.6/dist-packages (from transformers<4.0,>=3.1.0->ktrain) (0.9.3)\n",
            "Requirement already satisfied: filelock in /usr/local/lib/python3.6/dist-packages (from transformers<4.0,>=3.1.0->ktrain) (3.0.12)\n",
            "Requirement already satisfied: dataclasses; python_version < \"3.7\" in /usr/local/lib/python3.6/dist-packages (from transformers<4.0,>=3.1.0->ktrain) (0.8)\n",
            "Requirement already satisfied: scipy>=0.19.1 in /usr/local/lib/python3.6/dist-packages (from scikit-learn==0.23.2->ktrain) (1.4.1)\n",
            "Requirement already satisfied: threadpoolctl>=2.0.0 in /usr/local/lib/python3.6/dist-packages (from scikit-learn==0.23.2->ktrain) (2.1.0)\n",
            "Requirement already satisfied: pygments in /usr/local/lib/python3.6/dist-packages (from ipython->ktrain) (2.6.1)\n",
            "Requirement already satisfied: pickleshare in /usr/local/lib/python3.6/dist-packages (from ipython->ktrain) (0.7.5)\n",
            "Requirement already satisfied: traitlets>=4.2 in /usr/local/lib/python3.6/dist-packages (from ipython->ktrain) (4.3.3)\n",
            "Requirement already satisfied: simplegeneric>0.8 in /usr/local/lib/python3.6/dist-packages (from ipython->ktrain) (0.8.1)\n",
            "Requirement already satisfied: setuptools>=18.5 in /usr/local/lib/python3.6/dist-packages (from ipython->ktrain) (51.3.3)\n",
            "Requirement already satisfied: prompt-toolkit<2.0.0,>=1.0.4 in /usr/local/lib/python3.6/dist-packages (from ipython->ktrain) (1.0.18)\n",
            "Requirement already satisfied: pexpect; sys_platform != \"win32\" in /usr/local/lib/python3.6/dist-packages (from ipython->ktrain) (4.8.0)\n",
            "Requirement already satisfied: keras-multi-head>=0.27.0 in /usr/local/lib/python3.6/dist-packages (from keras-transformer>=0.38.0->keras-bert>=0.86.0->ktrain) (0.27.0)\n",
            "Requirement already satisfied: keras-pos-embd>=0.11.0 in /usr/local/lib/python3.6/dist-packages (from keras-transformer>=0.38.0->keras-bert>=0.86.0->ktrain) (0.11.0)\n",
            "Requirement already satisfied: keras-embed-sim>=0.8.0 in /usr/local/lib/python3.6/dist-packages (from keras-transformer>=0.38.0->keras-bert>=0.86.0->ktrain) (0.8.0)\n",
            "Requirement already satisfied: keras-position-wise-feed-forward>=0.6.0 in /usr/local/lib/python3.6/dist-packages (from keras-transformer>=0.38.0->keras-bert>=0.86.0->ktrain) (0.6.0)\n",
            "Requirement already satisfied: keras-layer-normalization>=0.14.0 in /usr/local/lib/python3.6/dist-packages (from keras-transformer>=0.38.0->keras-bert>=0.86.0->ktrain) (0.14.0)\n",
            "Requirement already satisfied: pyyaml in /usr/local/lib/python3.6/dist-packages (from Keras>=2.4.3->keras-bert>=0.86.0->ktrain) (3.13)\n",
            "Requirement already satisfied: h5py in /usr/local/lib/python3.6/dist-packages (from Keras>=2.4.3->keras-bert>=0.86.0->ktrain) (2.10.0)\n",
            "Requirement already satisfied: click in /usr/local/lib/python3.6/dist-packages (from sacremoses->transformers<4.0,>=3.1.0->ktrain) (7.1.2)\n",
            "Requirement already satisfied: ipython-genutils in /usr/local/lib/python3.6/dist-packages (from traitlets>=4.2->ipython->ktrain) (0.2.0)\n",
            "Requirement already satisfied: wcwidth in /usr/local/lib/python3.6/dist-packages (from prompt-toolkit<2.0.0,>=1.0.4->ipython->ktrain) (0.2.5)\n",
            "Requirement already satisfied: ptyprocess>=0.5 in /usr/local/lib/python3.6/dist-packages (from pexpect; sys_platform != \"win32\"->ipython->ktrain) (0.7.0)\n",
            "Requirement already satisfied: keras-self-attention==0.46.0 in /usr/local/lib/python3.6/dist-packages (from keras-multi-head>=0.27.0->keras-transformer>=0.38.0->keras-bert>=0.86.0->ktrain) (0.46.0)\n"
          ],
          "name": "stdout"
        }
      ]
    },
    {
      "cell_type": "code",
      "metadata": {
        "colab": {
          "base_uri": "https://localhost:8080/"
        },
        "id": "_7VIC-O6JIJ6",
        "outputId": "82b298b9-ae68-4a91-9f17-40a964c95f26"
      },
      "source": [
        "!pip install git+https://github.com/amaiya/eli5@tfkeras_0_10_1"
      ],
      "execution_count": 8,
      "outputs": [
        {
          "output_type": "stream",
          "text": [
            "Collecting git+https://github.com/amaiya/eli5@tfkeras_0_10_1\n",
            "  Cloning https://github.com/amaiya/eli5 (to revision tfkeras_0_10_1) to /tmp/pip-req-build-90meuoev\n",
            "  Running command git clone -q https://github.com/amaiya/eli5 /tmp/pip-req-build-90meuoev\n",
            "  Running command git checkout -b tfkeras_0_10_1 --track origin/tfkeras_0_10_1\n",
            "  Switched to a new branch 'tfkeras_0_10_1'\n",
            "  Branch 'tfkeras_0_10_1' set up to track remote branch 'tfkeras_0_10_1' from 'origin'.\n",
            "Requirement already satisfied (use --upgrade to upgrade): eli5==0.10.1 from git+https://github.com/amaiya/eli5@tfkeras_0_10_1 in /usr/local/lib/python3.6/dist-packages\n",
            "Requirement already satisfied: attrs>16.0.0 in /usr/local/lib/python3.6/dist-packages (from eli5==0.10.1) (20.3.0)\n",
            "Requirement already satisfied: jinja2 in /usr/local/lib/python3.6/dist-packages (from eli5==0.10.1) (2.11.2)\n",
            "Requirement already satisfied: numpy>=1.9.0 in /usr/local/lib/python3.6/dist-packages (from eli5==0.10.1) (1.19.5)\n",
            "Requirement already satisfied: scipy in /usr/local/lib/python3.6/dist-packages (from eli5==0.10.1) (1.4.1)\n",
            "Requirement already satisfied: six in /usr/local/lib/python3.6/dist-packages (from eli5==0.10.1) (1.15.0)\n",
            "Requirement already satisfied: scikit-learn>=0.18 in /usr/local/lib/python3.6/dist-packages (from eli5==0.10.1) (0.23.2)\n",
            "Requirement already satisfied: graphviz in /usr/local/lib/python3.6/dist-packages (from eli5==0.10.1) (0.10.1)\n",
            "Requirement already satisfied: tabulate>=0.7.7 in /usr/local/lib/python3.6/dist-packages (from eli5==0.10.1) (0.8.7)\n",
            "Requirement already satisfied: MarkupSafe>=0.23 in /usr/local/lib/python3.6/dist-packages (from jinja2->eli5==0.10.1) (1.1.1)\n",
            "Requirement already satisfied: joblib>=0.11 in /usr/local/lib/python3.6/dist-packages (from scikit-learn>=0.18->eli5==0.10.1) (1.0.0)\n",
            "Requirement already satisfied: threadpoolctl>=2.0.0 in /usr/local/lib/python3.6/dist-packages (from scikit-learn>=0.18->eli5==0.10.1) (2.1.0)\n",
            "Building wheels for collected packages: eli5\n",
            "  Building wheel for eli5 (setup.py) ... \u001b[?25l\u001b[?25hdone\n",
            "  Created wheel for eli5: filename=eli5-0.10.1-py2.py3-none-any.whl size=106832 sha256=619e2bc6a42a349db7da7a365c06a9c5e12d761ff06ef0ea90377068980dfde1\n",
            "  Stored in directory: /tmp/pip-ephem-wheel-cache-dojpbl4k/wheels/51/59/0a/0f48442b8d209583a4453580938d7ba2270aca40edacee6d45\n",
            "Successfully built eli5\n"
          ],
          "name": "stdout"
        }
      ]
    },
    {
      "cell_type": "code",
      "metadata": {
        "colab": {
          "base_uri": "https://localhost:8080/"
        },
        "id": "v4yKC3_TJxph",
        "outputId": "d20bf4d7-6d6f-441a-9c62-dd607b0370ae"
      },
      "source": [
        "!pip install -U sklearn"
      ],
      "execution_count": null,
      "outputs": [
        {
          "output_type": "stream",
          "text": [
            "Requirement already up-to-date: sklearn in /usr/local/lib/python3.6/dist-packages (0.0)\n",
            "Requirement already satisfied, skipping upgrade: scikit-learn in /usr/local/lib/python3.6/dist-packages (from sklearn) (0.23.2)\n",
            "Requirement already satisfied, skipping upgrade: joblib>=0.11 in /usr/local/lib/python3.6/dist-packages (from scikit-learn->sklearn) (1.0.0)\n",
            "Requirement already satisfied, skipping upgrade: scipy>=0.19.1 in /usr/local/lib/python3.6/dist-packages (from scikit-learn->sklearn) (1.4.1)\n",
            "Requirement already satisfied, skipping upgrade: threadpoolctl>=2.0.0 in /usr/local/lib/python3.6/dist-packages (from scikit-learn->sklearn) (2.1.0)\n",
            "Requirement already satisfied, skipping upgrade: numpy>=1.13.3 in /usr/local/lib/python3.6/dist-packages (from scikit-learn->sklearn) (1.19.5)\n"
          ],
          "name": "stdout"
        }
      ]
    },
    {
      "cell_type": "code",
      "metadata": {
        "id": "3aQ6EJVtJPUa"
      },
      "source": [
        "import ktrain\r\n",
        "from ktrain import text"
      ],
      "execution_count": 9,
      "outputs": []
    },
    {
      "cell_type": "code",
      "metadata": {
        "colab": {
          "base_uri": "https://localhost:8080/"
        },
        "id": "6fc-Yc5RvNIw",
        "outputId": "af889f7a-6c5e-43af-89fd-9122edcfbe88"
      },
      "source": [
        "!pip uninstall ktrain"
      ],
      "execution_count": null,
      "outputs": [
        {
          "output_type": "stream",
          "text": [
            "Uninstalling ktrain-0.25.3:\n",
            "  Would remove:\n",
            "    /usr/local/lib/python3.6/dist-packages/ktrain-0.25.3.dist-info/*\n",
            "    /usr/local/lib/python3.6/dist-packages/ktrain/*\n",
            "Proceed (y/n)? y\n",
            "  Successfully uninstalled ktrain-0.25.3\n"
          ],
          "name": "stdout"
        }
      ]
    },
    {
      "cell_type": "code",
      "metadata": {
        "id": "1UVZG3CSwyS_"
      },
      "source": [
        "MODEL_NAME = 'sagorsarker/bangla-bert-base'\r\n",
        "t = text.Transformer(MODEL_NAME, maxlen=500)"
      ],
      "execution_count": 10,
      "outputs": []
    },
    {
      "cell_type": "code",
      "metadata": {
        "colab": {
          "base_uri": "https://localhost:8080/",
          "height": 238
        },
        "id": "c-RKT5ZGL4cU",
        "outputId": "86d3a8df-a6f9-4d0c-f7a5-4f555f2e6efd"
      },
      "source": [
        "\r\n",
        "trn = t.preprocess_train(X_train, y_train)\r\n",
        "val = t.preprocess_test(X_test, y_test)"
      ],
      "execution_count": 11,
      "outputs": [
        {
          "output_type": "stream",
          "text": [
            "preprocessing train...\n",
            "language: bn\n",
            "train sequence lengths:\n",
            "\tmean : 107\n",
            "\t95percentile : 200\n",
            "\t99percentile : 256\n"
          ],
          "name": "stdout"
        },
        {
          "output_type": "display_data",
          "data": {
            "text/html": [
              ""
            ],
            "text/plain": [
              "<IPython.core.display.HTML object>"
            ]
          },
          "metadata": {
            "tags": []
          }
        },
        {
          "output_type": "stream",
          "text": [
            "Is Multi-Label? False\n",
            "preprocessing test...\n",
            "language: bn\n",
            "test sequence lengths:\n",
            "\tmean : 117\n",
            "\t95percentile : 198\n",
            "\t99percentile : 211\n"
          ],
          "name": "stdout"
        },
        {
          "output_type": "display_data",
          "data": {
            "text/html": [
              ""
            ],
            "text/plain": [
              "<IPython.core.display.HTML object>"
            ]
          },
          "metadata": {
            "tags": []
          }
        }
      ]
    },
    {
      "cell_type": "code",
      "metadata": {
        "id": "6n8Te9NoNUQS"
      },
      "source": [
        "model = t.get_classifier()"
      ],
      "execution_count": 13,
      "outputs": []
    },
    {
      "cell_type": "code",
      "metadata": {
        "id": "4DrjO3eINrY2"
      },
      "source": [
        "learner = ktrain.get_learner(model, train_data=trn, val_data=val, batch_size=6)"
      ],
      "execution_count": 14,
      "outputs": []
    },
    {
      "cell_type": "code",
      "metadata": {
        "colab": {
          "base_uri": "https://localhost:8080/"
        },
        "id": "Lw_4fW4nN4By",
        "outputId": "49e3f21a-2a2f-4a0a-ebd2-02c11fb3d87d"
      },
      "source": [
        "%matplotlib inline\r\n",
        "learner.lr_find(show_plot=True, max_epochs=4)"
      ],
      "execution_count": null,
      "outputs": [
        {
          "output_type": "stream",
          "text": [
            "simulating training for different learning rates... this may take a few moments...\n",
            "Epoch 1/4\n"
          ],
          "name": "stdout"
        }
      ]
    },
    {
      "cell_type": "code",
      "metadata": {
        "colab": {
          "base_uri": "https://localhost:8080/"
        },
        "id": "MkYD1MjKOXj-",
        "outputId": "eb8ad17e-62eb-45a4-8c64-138aad7e027e"
      },
      "source": [
        "learner.fit_onecycle(8e-5, 3)"
      ],
      "execution_count": 15,
      "outputs": [
        {
          "output_type": "stream",
          "text": [
            "\n",
            "\n",
            "begin training using onecycle policy with max lr of 8e-05...\n",
            "Epoch 1/3\n",
            "41/41 [==============================] - 1067s 26s/step - loss: 1.8290 - accuracy: 0.3394 - val_loss: 1.5891 - val_accuracy: 0.1967\n",
            "Epoch 2/3\n",
            "41/41 [==============================] - 1028s 25s/step - loss: 1.4323 - accuracy: 0.3809 - val_loss: 1.4612 - val_accuracy: 0.4426\n",
            "Epoch 3/3\n",
            "41/41 [==============================] - 1036s 25s/step - loss: 1.0659 - accuracy: 0.6323 - val_loss: 1.4592 - val_accuracy: 0.4426\n"
          ],
          "name": "stdout"
        },
        {
          "output_type": "execute_result",
          "data": {
            "text/plain": [
              "<tensorflow.python.keras.callbacks.History at 0x7ff3fe0fbda0>"
            ]
          },
          "metadata": {
            "tags": []
          },
          "execution_count": 15
        }
      ]
    },
    {
      "cell_type": "code",
      "metadata": {
        "id": "wbxEaLNwO5B3"
      },
      "source": [
        "\r\n",
        "learner.validate(class_names=t.get_classes())"
      ],
      "execution_count": null,
      "outputs": []
    },
    {
      "cell_type": "code",
      "metadata": {
        "colab": {
          "base_uri": "https://localhost:8080/"
        },
        "id": "nmBPShlJRtZc",
        "outputId": "0c70e71c-fbcd-40e5-bf29-ab1468f5ac29"
      },
      "source": [
        "learner.view_top_losses(n=1, preproc=t)"
      ],
      "execution_count": 17,
      "outputs": [
        {
          "output_type": "stream",
          "text": [
            "----------\n",
            "id:51 | loss:3.54 | true: | pred:বেদনা)\n",
            "\n"
          ],
          "name": "stdout"
        }
      ]
    },
    {
      "cell_type": "code",
      "metadata": {
        "id": "Sv9OL4rpSK_S"
      },
      "source": [
        "predictor = ktrain.get_predictor(learner.model, preproc=t)"
      ],
      "execution_count": 18,
      "outputs": []
    },
    {
      "cell_type": "code",
      "metadata": {
        "colab": {
          "base_uri": "https://localhost:8080/"
        },
        "id": "o7OHUuZ0SXfJ",
        "outputId": "8d6f9850-b630-4f38-e329-e04c2784ef31"
      },
      "source": [
        "from google.colab import drive\r\n",
        "drive.mount('/content/drive')"
      ],
      "execution_count": null,
      "outputs": [
        {
          "output_type": "stream",
          "text": [
            "Mounted at /content/drive\n"
          ],
          "name": "stdout"
        }
      ]
    },
    {
      "cell_type": "code",
      "metadata": {
        "id": "3iKfYDIoSlcc"
      },
      "source": [
        "# কেট্রেইন দিয়ে সেভ করা\r\n",
        "predictor.save('/content/drive/MyDrive/Colab Notebooks/saved_model/bangla_news_predictor_kt')\r\n",
        "# ট্রান্সফরমার্স এপিআই দিয়ে সেভ করি\r\n",
        "learner.model.save_pretrained('/content/drive/MyDrive/Colab Notebooks/saved_model/bangla_news_predictor')"
      ],
      "execution_count": null,
      "outputs": []
    },
    {
      "cell_type": "code",
      "metadata": {
        "colab": {
          "base_uri": "https://localhost:8080/"
        },
        "id": "KNn1IbeQSrbk",
        "outputId": "69c931d9-d813-4503-8fe3-64d97acd4be3"
      },
      "source": [
        "!ls -alh '/content/drive/MyDrive/Colab Notebooks/saved_model/bangla_news_predictor_kt'"
      ],
      "execution_count": null,
      "outputs": [
        {
          "output_type": "stream",
          "text": [
            "total 256M\n",
            "-rw------- 1 root root  649 Jan 22 08:51 config.json\n",
            "-rw------- 1 root root 256M Jan 22 08:51 tf_model.h5\n",
            "-rw------- 1 root root 2.5K Jan 22 08:51 tf_model.preproc\n"
          ],
          "name": "stdout"
        }
      ]
    },
    {
      "cell_type": "code",
      "metadata": {
        "colab": {
          "base_uri": "https://localhost:8080/"
        },
        "id": "WPhHk_nDSxVC",
        "outputId": "48f566f2-699e-4be5-b5b5-96734e253dcb"
      },
      "source": [
        "!ls -ahl '/content/drive/MyDrive/Colab Notebooks/saved_model/bangla_news_predictor'"
      ],
      "execution_count": null,
      "outputs": [
        {
          "output_type": "stream",
          "text": [
            "total 256M\n",
            "-rw------- 1 root root  649 Jan 22 08:51 config.json\n",
            "-rw------- 1 root root 256M Jan 22 08:51 tf_model.h5\n"
          ],
          "name": "stdout"
        }
      ]
    },
    {
      "cell_type": "code",
      "metadata": {
        "colab": {
          "base_uri": "https://localhost:8080/"
        },
        "id": "LtNdNWGwS2Af",
        "outputId": "0e5af24f-9178-42ca-bb66-76be1bd902d3"
      },
      "source": [
        "learner.model.summary()"
      ],
      "execution_count": null,
      "outputs": [
        {
          "output_type": "stream",
          "text": [
            "Model: \"tf_distil_bert_for_sequence_classification_1\"\n",
            "_________________________________________________________________\n",
            "Layer (type)                 Output Shape              Param #   \n",
            "=================================================================\n",
            "distilbert (TFDistilBertMain multiple                  66362880  \n",
            "_________________________________________________________________\n",
            "pre_classifier (Dense)       multiple                  590592    \n",
            "_________________________________________________________________\n",
            "classifier (Dense)           multiple                  3076      \n",
            "_________________________________________________________________\n",
            "dropout_39 (Dropout)         multiple                  0         \n",
            "=================================================================\n",
            "Total params: 66,956,548\n",
            "Trainable params: 66,956,548\n",
            "Non-trainable params: 0\n",
            "_________________________________________________________________\n"
          ],
          "name": "stdout"
        }
      ]
    },
    {
      "cell_type": "code",
      "metadata": {
        "colab": {
          "base_uri": "https://localhost:8080/",
          "height": 35
        },
        "id": "yAM2FClQS9Af",
        "outputId": "afc620f3-fe6c-47ad-c92a-69de5f54f767"
      },
      "source": [
        "predictor.predict('মোরে ডেকে লও সেই দেশে প্রিয় যে দেশে তুমি থাক। মোর কি কাজ জীবনে বঁধূ যদি তুমি কাছে নাহি ডাক।। এই পৃথিবীর হাসি গান বঁধূ সব হয়ে যায় ম্লান,')"
      ],
      "execution_count": 19,
      "outputs": [
        {
          "output_type": "execute_result",
          "data": {
            "application/vnd.google.colaboratory.intrinsic+json": {
              "type": "string"
            },
            "text/plain": [
              "'বেদনা'"
            ]
          },
          "metadata": {
            "tags": []
          },
          "execution_count": 19
        }
      ]
    },
    {
      "cell_type": "code",
      "metadata": {
        "colab": {
          "base_uri": "https://localhost:8080/",
          "height": 35
        },
        "id": "DhcIhs4uTmQa",
        "outputId": "767d0ef8-be28-48ad-b067-ceced7441114"
      },
      "source": [
        "predictor.predict('তোমার মনে ফুটবে যবে প্রথম মুকুল। প্রিয় হে প্রিয় আমারে দিও সে প্রেমের মুকুল।।')"
      ],
      "execution_count": 20,
      "outputs": [
        {
          "output_type": "execute_result",
          "data": {
            "application/vnd.google.colaboratory.intrinsic+json": {
              "type": "string"
            },
            "text/plain": [
              "'প্রেম'"
            ]
          },
          "metadata": {
            "tags": []
          },
          "execution_count": 20
        }
      ]
    },
    {
      "cell_type": "code",
      "metadata": {
        "colab": {
          "base_uri": "https://localhost:8080/",
          "height": 35
        },
        "id": "yl5tG_Cc8iKl",
        "outputId": "0549302d-6943-4ae1-819d-9440c2617f8e"
      },
      "source": [
        "predictor.predict('আজি  আকুল ফুলসাজে জাগ’  মৃদুকম্পিত লাজে, মম  হৃদয়শয়নমাঝে, শুন  মধুর মুরলী বাজে মম   অন্তরে থাকি থাকি– সখি, জাগ’ জাগ’ ॥')"
      ],
      "execution_count": 22,
      "outputs": [
        {
          "output_type": "execute_result",
          "data": {
            "application/vnd.google.colaboratory.intrinsic+json": {
              "type": "string"
            },
            "text/plain": [
              "'বেদনা'"
            ]
          },
          "metadata": {
            "tags": []
          },
          "execution_count": 22
        }
      ]
    },
    {
      "cell_type": "code",
      "metadata": {
        "colab": {
          "base_uri": "https://localhost:8080/",
          "height": 35
        },
        "id": "IqslfUOo9dWD",
        "outputId": "3b0511ed-fff5-439a-ecf4-c2c72db58897"
      },
      "source": [
        "predictor.predict('আলোকের এই ঝর্নাধারায় ধুইয়ে দাও। আপনাকে এই লুকিয়ে-রাখা ধুলার ঢাকা ধুইয়ে দাও॥ যে জন   আমার মাঝে জড়িয়ে আছে ঘুমের জালে')"
      ],
      "execution_count": 23,
      "outputs": [
        {
          "output_type": "execute_result",
          "data": {
            "application/vnd.google.colaboratory.intrinsic+json": {
              "type": "string"
            },
            "text/plain": [
              "'আনন্দ'"
            ]
          },
          "metadata": {
            "tags": []
          },
          "execution_count": 23
        }
      ]
    },
    {
      "cell_type": "code",
      "metadata": {
        "colab": {
          "base_uri": "https://localhost:8080/"
        },
        "id": "BKcy3uvcU2Wk",
        "outputId": "6d7283cd-e6aa-4784-82f5-4970725b2904"
      },
      "source": [
        "from transformers import *\r\n",
        "import tensorflow as tf\r\n",
        "tokenizer = AutoTokenizer.from_pretrained(MODEL_NAME)\r\n",
        "model = TFAutoModel.from_pretrained('/content/drive/MyDrive/Colab Notebooks/saved_model/bangla_news_predictor')\r\n",
        "input_ids = tf.constant(tokenizer.encode(\"আমরা বাংলায় কথা বলি\"))[None, :]  \r\n",
        "outputs = model(input_ids)\r\n",
        "last_hidden_states = outputs[0] \r\n",
        "print(last_hidden_states.numpy().shape)"
      ],
      "execution_count": null,
      "outputs": [
        {
          "output_type": "stream",
          "text": [
            "(1, 6, 768)\n"
          ],
          "name": "stdout"
        }
      ]
    },
    {
      "cell_type": "code",
      "metadata": {
        "colab": {
          "base_uri": "https://localhost:8080/"
        },
        "id": "J2FtYezwU9Xc",
        "outputId": "6afb5eb2-ecda-44fe-d151-5363233cfe6a"
      },
      "source": [
        "last_hidden_states"
      ],
      "execution_count": null,
      "outputs": [
        {
          "output_type": "execute_result",
          "data": {
            "text/plain": [
              "<tf.Tensor: shape=(1, 6, 768), dtype=float32, numpy=\n",
              "array([[[-1.8603508 ,  0.57074857, -1.4321572 , ...,  0.42290273,\n",
              "          1.3462456 , -2.0955207 ],\n",
              "        [-0.81893474,  1.3735558 , -1.2312944 , ...,  0.34650624,\n",
              "          0.6498087 , -0.89125955],\n",
              "        [-0.43589485,  0.39308816, -1.7041453 , ...,  0.7205272 ,\n",
              "          1.4609938 , -1.3191477 ],\n",
              "        [-1.4850023 , -0.5580203 , -2.4936879 , ..., -0.05674154,\n",
              "          2.0878286 , -2.658331  ],\n",
              "        [-0.6542252 ,  1.6595981 , -0.7009185 , ..., -0.5942221 ,\n",
              "          0.43161917, -2.2723598 ],\n",
              "        [-2.1249075 ,  1.053851  , -0.7403344 , ...,  0.80716205,\n",
              "          2.142582  , -2.417992  ]]], dtype=float32)>"
            ]
          },
          "metadata": {
            "tags": []
          },
          "execution_count": 36
        }
      ]
    },
    {
      "cell_type": "code",
      "metadata": {
        "colab": {
          "base_uri": "https://localhost:8080/"
        },
        "id": "6j4EV8OCVCH-",
        "outputId": "11319d93-4741-4685-e09b-3f8b0e1af97b"
      },
      "source": [
        "outputs"
      ],
      "execution_count": null,
      "outputs": [
        {
          "output_type": "execute_result",
          "data": {
            "text/plain": [
              "(<tf.Tensor: shape=(1, 6, 768), dtype=float32, numpy=\n",
              " array([[[-1.8603508 ,  0.57074857, -1.4321572 , ...,  0.42290273,\n",
              "           1.3462456 , -2.0955207 ],\n",
              "         [-0.81893474,  1.3735558 , -1.2312944 , ...,  0.34650624,\n",
              "           0.6498087 , -0.89125955],\n",
              "         [-0.43589485,  0.39308816, -1.7041453 , ...,  0.7205272 ,\n",
              "           1.4609938 , -1.3191477 ],\n",
              "         [-1.4850023 , -0.5580203 , -2.4936879 , ..., -0.05674154,\n",
              "           2.0878286 , -2.658331  ],\n",
              "         [-0.6542252 ,  1.6595981 , -0.7009185 , ..., -0.5942221 ,\n",
              "           0.43161917, -2.2723598 ],\n",
              "         [-2.1249075 ,  1.053851  , -0.7403344 , ...,  0.80716205,\n",
              "           2.142582  , -2.417992  ]]], dtype=float32)>,)"
            ]
          },
          "metadata": {
            "tags": []
          },
          "execution_count": 37
        }
      ]
    },
    {
      "cell_type": "code",
      "metadata": {
        "id": "si9OBszbVOMu"
      },
      "source": [
        ""
      ],
      "execution_count": null,
      "outputs": []
    }
  ]
}