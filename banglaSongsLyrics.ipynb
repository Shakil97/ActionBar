{
  "nbformat": 4,
  "nbformat_minor": 0,
  "metadata": {
    "colab": {
      "name": "Untitled7.ipynb",
      "provenance": [],
      "collapsed_sections": [],
      "authorship_tag": "ABX9TyPi6l0pwJztxao3jF+W/CuA",
      "include_colab_link": true
    },
    "kernelspec": {
      "name": "python3",
      "display_name": "Python 3"
    }
  },
  "cells": [
    {
      "cell_type": "markdown",
      "metadata": {
        "id": "view-in-github",
        "colab_type": "text"
      },
      "source": [
        "<a href=\"https://colab.research.google.com/github/Shakil97/ActionBar/blob/master/banglaSongsLyrics.ipynb\" target=\"_parent\"><img src=\"https://colab.research.google.com/assets/colab-badge.svg\" alt=\"Open In Colab\"/></a>"
      ]
    },
    {
      "cell_type": "code",
      "metadata": {
        "colab": {
          "base_uri": "https://localhost:8080/"
        },
        "id": "F4l0kJAfG8gL",
        "outputId": "690109aa-938a-4d41-8ec7-c55be94613c8"
      },
      "source": [
        "!pip install --upgrade gspread"
      ],
      "execution_count": null,
      "outputs": [
        {
          "output_type": "stream",
          "text": [
            "Collecting gspread\n",
            "  Downloading https://files.pythonhosted.org/packages/9c/ba/bc8de4f5077bd34bc873bdd67a89cb29c4f181abba8a836d2c6a0a142365/gspread-3.6.0-py3-none-any.whl\n",
            "Requirement already satisfied, skipping upgrade: google-auth>=1.12.0 in /usr/local/lib/python3.6/dist-packages (from gspread) (1.17.2)\n",
            "Requirement already satisfied, skipping upgrade: google-auth-oauthlib>=0.4.1 in /usr/local/lib/python3.6/dist-packages (from gspread) (0.4.2)\n",
            "Requirement already satisfied, skipping upgrade: requests>=2.2.1 in /usr/local/lib/python3.6/dist-packages (from gspread) (2.23.0)\n",
            "Requirement already satisfied, skipping upgrade: rsa<5,>=3.1.4; python_version >= \"3\" in /usr/local/lib/python3.6/dist-packages (from google-auth>=1.12.0->gspread) (4.6)\n",
            "Requirement already satisfied, skipping upgrade: pyasn1-modules>=0.2.1 in /usr/local/lib/python3.6/dist-packages (from google-auth>=1.12.0->gspread) (0.2.8)\n",
            "Requirement already satisfied, skipping upgrade: cachetools<5.0,>=2.0.0 in /usr/local/lib/python3.6/dist-packages (from google-auth>=1.12.0->gspread) (4.2.0)\n",
            "Requirement already satisfied, skipping upgrade: setuptools>=40.3.0 in /usr/local/lib/python3.6/dist-packages (from google-auth>=1.12.0->gspread) (51.3.3)\n",
            "Requirement already satisfied, skipping upgrade: six>=1.9.0 in /usr/local/lib/python3.6/dist-packages (from google-auth>=1.12.0->gspread) (1.15.0)\n",
            "Requirement already satisfied, skipping upgrade: requests-oauthlib>=0.7.0 in /usr/local/lib/python3.6/dist-packages (from google-auth-oauthlib>=0.4.1->gspread) (1.3.0)\n",
            "Requirement already satisfied, skipping upgrade: chardet<4,>=3.0.2 in /usr/local/lib/python3.6/dist-packages (from requests>=2.2.1->gspread) (3.0.4)\n",
            "Requirement already satisfied, skipping upgrade: idna<3,>=2.5 in /usr/local/lib/python3.6/dist-packages (from requests>=2.2.1->gspread) (2.10)\n",
            "Requirement already satisfied, skipping upgrade: urllib3!=1.25.0,!=1.25.1,<1.26,>=1.21.1 in /usr/local/lib/python3.6/dist-packages (from requests>=2.2.1->gspread) (1.24.3)\n",
            "Requirement already satisfied, skipping upgrade: certifi>=2017.4.17 in /usr/local/lib/python3.6/dist-packages (from requests>=2.2.1->gspread) (2020.12.5)\n",
            "Requirement already satisfied, skipping upgrade: pyasn1>=0.1.3 in /usr/local/lib/python3.6/dist-packages (from rsa<5,>=3.1.4; python_version >= \"3\"->google-auth>=1.12.0->gspread) (0.4.8)\n",
            "Requirement already satisfied, skipping upgrade: oauthlib>=3.0.0 in /usr/local/lib/python3.6/dist-packages (from requests-oauthlib>=0.7.0->google-auth-oauthlib>=0.4.1->gspread) (3.1.0)\n",
            "Installing collected packages: gspread\n",
            "  Found existing installation: gspread 3.0.1\n",
            "    Uninstalling gspread-3.0.1:\n",
            "      Successfully uninstalled gspread-3.0.1\n",
            "Successfully installed gspread-3.6.0\n"
          ],
          "name": "stdout"
        }
      ]
    },
    {
      "cell_type": "code",
      "metadata": {
        "colab": {
          "base_uri": "https://localhost:8080/"
        },
        "id": "QpQEonboIw7v",
        "outputId": "508ba481-b0bc-47c9-8655-5d814453472e"
      },
      "source": [
        "!pip install bert-for-tf2\r\n",
        "!pip install sentencepiece"
      ],
      "execution_count": null,
      "outputs": [
        {
          "output_type": "stream",
          "text": [
            "Collecting bert-for-tf2\n",
            "\u001b[?25l  Downloading https://files.pythonhosted.org/packages/a5/a1/acb891630749c56901e770a34d6bac8a509a367dd74a05daf7306952e910/bert-for-tf2-0.14.9.tar.gz (41kB)\n",
            "\r\u001b[K     |████████                        | 10kB 15.3MB/s eta 0:00:01\r\u001b[K     |████████████████                | 20kB 10.2MB/s eta 0:00:01\r\u001b[K     |███████████████████████▉        | 30kB 8.5MB/s eta 0:00:01\r\u001b[K     |███████████████████████████████▉| 40kB 7.4MB/s eta 0:00:01\r\u001b[K     |████████████████████████████████| 51kB 4.0MB/s \n",
            "\u001b[?25hCollecting py-params>=0.9.6\n",
            "  Downloading https://files.pythonhosted.org/packages/75/2c/2256f28ef35946682ce703e69de914773c3f62048f4de6966d4e2dc1930a/py-params-0.10.1.tar.gz\n",
            "Collecting params-flow>=0.8.0\n",
            "  Downloading https://files.pythonhosted.org/packages/a9/95/ff49f5ebd501f142a6f0aaf42bcfd1c192dc54909d1d9eb84ab031d46056/params-flow-0.8.2.tar.gz\n",
            "Requirement already satisfied: numpy in /usr/local/lib/python3.6/dist-packages (from params-flow>=0.8.0->bert-for-tf2) (1.19.5)\n",
            "Requirement already satisfied: tqdm in /usr/local/lib/python3.6/dist-packages (from params-flow>=0.8.0->bert-for-tf2) (4.41.1)\n",
            "Building wheels for collected packages: bert-for-tf2, py-params, params-flow\n",
            "  Building wheel for bert-for-tf2 (setup.py) ... \u001b[?25l\u001b[?25hdone\n",
            "  Created wheel for bert-for-tf2: filename=bert_for_tf2-0.14.9-cp36-none-any.whl size=30534 sha256=61099fd4574cc621d854b91bb8cf33793d6bfb5ffdf230a68c19b28925565856\n",
            "  Stored in directory: /root/.cache/pip/wheels/a1/04/ee/347bd9f5b821b637c76411d280271a857aece00358896a230f\n",
            "  Building wheel for py-params (setup.py) ... \u001b[?25l\u001b[?25hdone\n",
            "  Created wheel for py-params: filename=py_params-0.10.1-cp36-none-any.whl size=7849 sha256=5d16c9d536739640f934457cb7cf9fb20feeeb495b56f80f72153cd2338cec60\n",
            "  Stored in directory: /root/.cache/pip/wheels/fd/13/cf/731530f5760266e69a40217ea27fa0d39a2d2a67230a73e2bc\n",
            "  Building wheel for params-flow (setup.py) ... \u001b[?25l\u001b[?25hdone\n",
            "  Created wheel for params-flow: filename=params_flow-0.8.2-cp36-none-any.whl size=19474 sha256=5203ede20e85dd26d4e4939a8be2bef4f0f81de0fa4bd3885137ace9d7c63b62\n",
            "  Stored in directory: /root/.cache/pip/wheels/08/c8/7f/81c86b9ff2b86e2c477e3914175be03e679e596067dc630c06\n",
            "Successfully built bert-for-tf2 py-params params-flow\n",
            "Installing collected packages: py-params, params-flow, bert-for-tf2\n",
            "Successfully installed bert-for-tf2-0.14.9 params-flow-0.8.2 py-params-0.10.1\n",
            "Collecting sentencepiece\n",
            "\u001b[?25l  Downloading https://files.pythonhosted.org/packages/14/67/e42bd1181472c95c8cda79305df848264f2a7f62740995a46945d9797b67/sentencepiece-0.1.95-cp36-cp36m-manylinux2014_x86_64.whl (1.2MB)\n",
            "\u001b[K     |████████████████████████████████| 1.2MB 5.8MB/s \n",
            "\u001b[?25hInstalling collected packages: sentencepiece\n",
            "Successfully installed sentencepiece-0.1.95\n"
          ],
          "name": "stdout"
        }
      ]
    },
    {
      "cell_type": "code",
      "metadata": {
        "id": "sgRnw29Froyg"
      },
      "source": [
        "i = []\r\n",
        "while True:\r\n",
        "  i.append(i)\r\n"
      ],
      "execution_count": null,
      "outputs": []
    },
    {
      "cell_type": "code",
      "metadata": {
        "colab": {
          "resources": {
            "http://localhost:8080/nbextensions/google.colab/files.js": {
              "data": "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",
              "ok": true,
              "headers": [
                [
                  "content-type",
                  "application/javascript"
                ]
              ],
              "status": 200,
              "status_text": ""
            }
          },
          "base_uri": "https://localhost:8080/",
          "height": 89
        },
        "id": "74Xe1HrRrkli",
        "outputId": "58a33872-7a0b-4873-973e-96c8e3aaf1e1"
      },
      "source": [
        "from google.colab import files\r\n",
        "files.upload()"
      ],
      "execution_count": null,
      "outputs": [
        {
          "output_type": "display_data",
          "data": {
            "text/html": [
              "\n",
              "     <input type=\"file\" id=\"files-d7b844e3-16b8-4b69-8ff4-9c3febc2d218\" name=\"files[]\" multiple disabled\n",
              "        style=\"border:none\" />\n",
              "     <output id=\"result-d7b844e3-16b8-4b69-8ff4-9c3febc2d218\">\n",
              "      Upload widget is only available when the cell has been executed in the\n",
              "      current browser session. Please rerun this cell to enable.\n",
              "      </output>\n",
              "      <script src=\"/nbextensions/google.colab/files.js\"></script> "
            ],
            "text/plain": [
              "<IPython.core.display.HTML object>"
            ]
          },
          "metadata": {
            "tags": []
          }
        },
        {
          "output_type": "stream",
          "text": [
            "Saving kaggle.json to kaggle.json\n"
          ],
          "name": "stdout"
        },
        {
          "output_type": "execute_result",
          "data": {
            "text/plain": [
              "{'kaggle.json': b'{\"username\":\"fahimulislamshakil\",\"key\":\"44731c1cd6d0f6cb331f2383544162dc\"}'}"
            ]
          },
          "metadata": {
            "tags": []
          },
          "execution_count": 1
        }
      ]
    },
    {
      "cell_type": "code",
      "metadata": {
        "colab": {
          "base_uri": "https://localhost:8080/"
        },
        "id": "te0VtuFPsGTx",
        "outputId": "3da497af-027d-4fad-d29d-8cab3f644b6e"
      },
      "source": [
        "!pip install kaggle"
      ],
      "execution_count": null,
      "outputs": [
        {
          "output_type": "stream",
          "text": [
            "Requirement already satisfied: kaggle in /usr/local/lib/python3.6/dist-packages (1.5.10)\n",
            "Requirement already satisfied: requests in /usr/local/lib/python3.6/dist-packages (from kaggle) (2.23.0)\n",
            "Requirement already satisfied: certifi in /usr/local/lib/python3.6/dist-packages (from kaggle) (2020.12.5)\n",
            "Requirement already satisfied: urllib3 in /usr/local/lib/python3.6/dist-packages (from kaggle) (1.24.3)\n",
            "Requirement already satisfied: python-dateutil in /usr/local/lib/python3.6/dist-packages (from kaggle) (2.8.1)\n",
            "Requirement already satisfied: python-slugify in /usr/local/lib/python3.6/dist-packages (from kaggle) (4.0.1)\n",
            "Requirement already satisfied: six>=1.10 in /usr/local/lib/python3.6/dist-packages (from kaggle) (1.15.0)\n",
            "Requirement already satisfied: tqdm in /usr/local/lib/python3.6/dist-packages (from kaggle) (4.41.1)\n",
            "Requirement already satisfied: idna<3,>=2.5 in /usr/local/lib/python3.6/dist-packages (from requests->kaggle) (2.10)\n",
            "Requirement already satisfied: chardet<4,>=3.0.2 in /usr/local/lib/python3.6/dist-packages (from requests->kaggle) (3.0.4)\n",
            "Requirement already satisfied: text-unidecode>=1.3 in /usr/local/lib/python3.6/dist-packages (from python-slugify->kaggle) (1.3)\n"
          ],
          "name": "stdout"
        }
      ]
    },
    {
      "cell_type": "code",
      "metadata": {
        "colab": {
          "resources": {
            "http://localhost:8080/nbextensions/google.colab/files.js": {
              "data": "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",
              "ok": true,
              "headers": [
                [
                  "content-type",
                  "application/javascript"
                ]
              ],
              "status": 200,
              "status_text": ""
            }
          },
          "base_uri": "https://localhost:8080/",
          "height": 109
        },
        "id": "uKqXl-daxIRm",
        "outputId": "49e1e6d2-ca0e-4fec-8b38-f90a68a8a042"
      },
      "source": [
        "from google.colab import files\r\n",
        "files.upload()"
      ],
      "execution_count": null,
      "outputs": [
        {
          "output_type": "display_data",
          "data": {
            "text/html": [
              "\n",
              "     <input type=\"file\" id=\"files-b747acdb-870d-4f8b-ab87-25391605c97f\" name=\"files[]\" multiple disabled\n",
              "        style=\"border:none\" />\n",
              "     <output id=\"result-b747acdb-870d-4f8b-ab87-25391605c97f\">\n",
              "      Upload widget is only available when the cell has been executed in the\n",
              "      current browser session. Please rerun this cell to enable.\n",
              "      </output>\n",
              "      <script src=\"/nbextensions/google.colab/files.js\"></script> "
            ],
            "text/plain": [
              "<IPython.core.display.HTML object>"
            ]
          },
          "metadata": {
            "tags": []
          }
        },
        {
          "output_type": "stream",
          "text": [
            "Saving shortlyrics - Sheet1.json to shortlyrics - Sheet1.json\n"
          ],
          "name": "stdout"
        },
        {
          "output_type": "execute_result",
          "data": {
            "text/plain": [
              "{'shortlyrics - Sheet1.json': b'[\\r\\n {\\r\\n   \"title\": \"\\xe0\\xa6\\x85\\xe0\\xa6\\xaa\\xe0\\xa6\\xb0\\xe0\\xa6\\xbe\\xe0\\xa6\\x9c\\xe0\\xa6\\xbf\\xe0\\xa6\\xa4\",\\r\\n   \"category\": \"\\xe0\\xa6\\xac\\xe0\\xa7\\x8d\\xe0\\xa6\\xaf\\xe0\\xa6\\xbe\\xe0\\xa6\\xa8\\xe0\\xa7\\x8d\\xe0\\xa6\\xa1\",\\r\\n   \"lyrics\": \"\\xe0\\xa6\\x8f\\xe0\\xa6\\xac\\xe0\\xa6\\xbe\\xe0\\xa6\\xb0 \\xe0\\xa6\\xa4\\xe0\\xa7\\x8b\\xe0\\xa6\\xae\\xe0\\xa6\\xbe\\xe0\\xa6\\xb0 \\xe0\\xa6\\x95\\xe0\\xa6\\xa5\\xe0\\xa6\\xbe\\xe0\\xa6\\x97\\xe0\\xa7\\x81\\xe0\\xa6\\xb2\\xe0\\xa7\\x8b\\xe0\\xa6\\xb0\\\\n\\xe0\\xa6\\x95\\xe0\\xa6\\xbe\\xe0\\xa6\\x9b\\xe0\\xa7\\x87 \\xe0\\xa6\\x86\\xe0\\xa6\\xae\\xe0\\xa6\\xbf \\xe0\\xa6\\x85\\xe0\\xa6\\xaa\\xe0\\xa6\\xb0\\xe0\\xa6\\xbe\\xe0\\xa6\\x9c\\xe0\\xa6\\xbf\\xe0\\xa6\\xa4\\\\n\\xe0\\xa6\\x9c\\xe0\\xa6\\xae\\xe0\\xa7\\x87 \\xe0\\xa6\\xa5\\xe0\\xa6\\xbe\\xe0\\xa6\\x95\\xe0\\xa6\\xbe \\xe0\\xa6\\xaf\\xe0\\xa6\\xa4 \\xe0\\xa6\\x85\\xe0\\xa6\\xa8\\xe0\\xa7\\x81\\xe0\\xa6\\xad\\xe0\\xa7\\x82\\xe0\\xa6\\xa4\\xe0\\xa6\\xbf \\xe0\\xa6\\x86\\xe0\\xa6\\xae\\xe0\\xa6\\xbe\\xe0\\xa6\\xb0\\\\n\\xe0\\xa6\\x9c\\xe0\\xa6\\xb2 \\xe0\\xa6\\xb0\\xe0\\xa6\\x99\\xe0\\xa7\\x87 \\xe0\\xa6\\xb9\\xe0\\xa6\\xbe\\xe0\\xa6\\xb0\\xe0\\xa6\\xbf\\xe0\\xa7\\x9f\\xe0\\xa7\\x87 \\xe0\\xa6\\xaf\\xe0\\xa6\\xbe\\xe0\\xa6\\xac\\xe0\\xa7\\x87\\\\n\\xe0\\xa6\\x85\\xe0\\xa6\\xa7\\xe0\\xa6\\xbf\\xe0\\xa6\\x95\\xe0\\xa6\\xbe\\xe0\\xa6\\xb0\\xe0\\xa7\\x87\\xe0\\xa6\\xb0 \\xe0\\xa6\\xad\\xe0\\xa6\\xbe\\xe0\\xa6\\xb2\\xe0\\xa6\\xac\\xe0\\xa6\\xbe\\xe0\\xa6\\xb8\\xe0\\xa6\\xbe\\\\n\\xe0\\xa6\\xb0\\xe0\\xa6\\x99\\xe0\\xa7\\x87 \\xe0\\xa6\\xb9\\xe0\\xa6\\xbe\\xe0\\xa6\\xb0\\xe0\\xa6\\xbf\\xe0\\xa7\\x9f\\xe0\\xa7\\x87 \\xe0\\xa6\\xaf\\xe0\\xa6\\xbe\\xe0\\xa6\\xac\\xe0\\xa7\\x87\\\\n\\xe0\\xa6\\x86\\xe0\\xa6\\xac\\xe0\\xa6\\xbe\\xe0\\xa6\\xb0 \\xe0\\xa6\\xab\\xe0\\xa6\\xbf\\xe0\\xa6\\xb0\\xe0\\xa7\\x87 \\xe0\\xa6\\x95\\xe0\\xa7\\x87\\xe0\\xa6\\xa8 \\xe0\\xa6\\x86\\xe0\\xa6\\xb8\\xe0\\xa6\\xbe?\\\\n\\xe0\\xa6\\xb9\\xe0\\xa7\\x87\\xe0\\xa6\\xb0\\xe0\\xa7\\x87 \\xe0\\xa6\\xaf\\xe0\\xa6\\xbe\\xe0\\xa6\\x93\\xe0\\xa7\\x9f\\xe0\\xa6\\xbe \\xe0\\xa6\\xaa\\xe0\\xa6\\xa5\\xe0\\xa7\\x87, \\xe0\\xa6\\xa6\\xe0\\xa7\\x81\\xe0\\xa6\\xb0\\xe0\\xa7\\x87, \\xe0\\xa6\\xb8\\xe0\\xa7\\x81\\xe0\\xa6\\xb0\\xe0\\xa7\\x87, \\xe0\\xa6\\x98\\xe0\\xa7\\x81\\xe0\\xa6\\xb0\\xe0\\xa7\\x87\\\\n\\xe0\\xa6\\xa4\\xe0\\xa7\\x8b\\xe0\\xa6\\xae\\xe0\\xa6\\xbe\\xe0\\xa6\\xb0 \\xe0\\xa6\\x86\\xe0\\xa6\\xae\\xe0\\xa6\\xbe\\xe0\\xa6\\xb0 \\xe0\\xa6\\xb8\\xe0\\xa7\\x8d\\xe0\\xa6\\xac\\xe0\\xa6\\xaa\\xe0\\xa7\\x8d\\xe0\\xa6\\xa8 \\xe0\\xa6\\xaa\\xe0\\xa7\\x81\\xe0\\xa6\\xa1\\xe0\\xa6\\xbc\\xe0\\xa7\\x87\\\\n\\xe0\\xa6\\xac\\xe0\\xa6\\xbf\\xe0\\xa6\\xb7\\xe0\\xa6\\xa3\\xe0\\xa7\\x8d\\xe0\\xa6\\xa3\\xe0\\xa6\\xa4\\xe0\\xa6\\xbe\\xe0\\xa6\\xb0 \\xe0\\xa6\\x9c\\xe0\\xa6\\x97\\xe0\\xa7\\x8e \\xe0\\xa6\\x9c\\xe0\\xa7\\x81\\xe0\\xa6\\xa1\\xe0\\xa6\\xbc\\xe0\\xa7\\x87 \\xe0\\xa6\\xa4\\xe0\\xa7\\x81\\xe0\\xa6\\xae\\xe0\\xa6\\xbf\\\\n\\xe0\\xa6\\xaf\\xe0\\xa7\\x87\\xe0\\xa6\\xa6\\xe0\\xa6\\xbf\\xe0\\xa6\\x95\\xe0\\xa7\\x87 \\xe0\\xa6\\xaf\\xe0\\xa6\\xbe\\xe0\\xa6\\xac\\xe0\\xa7\\x87 \\xe0\\xa6\\x86\\xe0\\xa6\\xae\\xe0\\xa6\\xbe\\xe0\\xa7\\x9f \\xe0\\xa6\\xad\\xe0\\xa7\\x87\\xe0\\xa6\\xac\\xe0\\xa7\\x87 \\xe0\\xa6\\xa4\\xe0\\xa7\\x8b\\xe0\\xa6\\xae\\xe0\\xa6\\xbe\\xe0\\xa6\\xb0 \\xe0\\xa6\\xa6\\xe0\\xa7\\x81\\xe0\\xa6\\x9a\\xe0\\xa7\\x8b\\xe0\\xa6\\x96\\\\n\\xe0\\xa6\\xb9\\xe0\\xa6\\xbe\\xe0\\xa6\\xb0\\xe0\\xa6\\xbe\\xe0\\xa6\\xac\\xe0\\xa7\\x87 \\xe0\\xa6\\xaa\\xe0\\xa6\\xa5 \\xe0\\xa6\\x86\\xe0\\xa6\\xb0\\xe0\\xa7\\x8d\\xe0\\xa6\\xa4\\xe0\\xa6\\xa8\\xe0\\xa6\\xbe\\xe0\\xa6\\xa6\\xe0\\xa7\\x87\\xe0\\xa6\\xb0 \\xe0\\xa6\\xac\\xe0\\xa7\\x83\\xe0\\xa6\\xb7\\xe0\\xa7\\x8d\\xe0\\xa6\\x9f\\xe0\\xa6\\xbf \\xe0\\xa6\\xb0\\xe0\\xa6\\xbe\\xe0\\xa6\\xa4\\xe0\\xa7\\x87\\\\n\\xe0\\xa6\\xab\\xe0\\xa7\\x87\\xe0\\xa6\\xb0\\xe0\\xa6\\xbe\\xe0\\xa6\\xac\\xe0\\xa7\\x87, \\xe0\\xa6\\xaf\\xe0\\xa7\\x87\\xe0\\xa6\\x96\\xe0\\xa6\\xbe\\xe0\\xa6\\xa8\\xe0\\xa7\\x87, \\xe0\\xa6\\x86\\xe0\\xa6\\xae\\xe0\\xa6\\xbf \\xe0\\xa6\\xa8\\xe0\\xa7\\x87\\xe0\\xa6\\x87, \\xe0\\xa6\\xa6\\xe0\\xa6\\xbe\\xe0\\xa6\\xa1\\xe0\\xa6\\xbc\\xe0\\xa6\\xbf\\xe0\\xa7\\x9f\\xe0\\xa7\\x87 \\xe0\\xa6\\xa6\\xe0\\xa6\\xbe\\xe0\\xa6\\xa1\\xe0\\xa6\\xbc\\xe0\\xa6\\xbf\\xe0\\xa7\\x9f\\xe0\\xa7\\x87\",\\r\\n   \"Mood\": \"\\xe0\\xa6\\xac\\xe0\\xa7\\x87\\xe0\\xa6\\xa6\\xe0\\xa6\\xa8\\xe0\\xa6\\xbe\"\\r\\n },\\r\\n {\\r\\n   \"title\": \"\\xe0\\xa6\\x86\\xe0\\xa6\\xae\\xe0\\xa6\\xbe\\xe0\\xa6\\xb0 \\xe0\\xa6\\x86\\xe0\\xa6\\xaa\\xe0\\xa6\\xa8\\xe0\\xa6\\xbe\\xe0\\xa6\\xb0 \\xe0\\xa6\\x9a\\xe0\\xa7\\x87\\xe0\\xa6\\xaf\\xe0\\xa6\\xbc\\xe0\\xa7\\x87 \\xe0\\xa6\\x86\\xe0\\xa6\\xaa\\xe0\\xa6\\xa8 \\xe0\\xa6\\xaf\\xe0\\xa7\\x87 \\xe0\\xa6\\x9c\\xe0\\xa6\\xa8\",\\r\\n   \"category\": \"\\xe0\\xa6\\xa8\\xe0\\xa6\\x9c\\xe0\\xa6\\xb0\\xe0\\xa7\\x81\\xe0\\xa6\\xb2 \\xe0\\xa6\\x97\\xe0\\xa7\\x80\\xe0\\xa6\\xa4\\xe0\\xa6\\xbf\",\\r\\n   \"lyrics\": \"\\xe0\\xa6\\x86\\xe0\\xa6\\xae\\xe0\\xa6\\xbe\\xe0\\xa6\\xb0 \\xe0\\xa6\\x86\\xe0\\xa6\\xaa\\xe0\\xa6\\xa8\\xe0\\xa6\\xbe\\xe0\\xa6\\xb0 \\xe0\\xa6\\x9a\\xe0\\xa7\\x87\\xe0\\xa6\\xaf\\xe0\\xa6\\xbc\\xe0\\xa7\\x87 \\xe0\\xa6\\x86\\xe0\\xa6\\xaa\\xe0\\xa6\\xa8 \\xe0\\xa6\\xaf\\xe0\\xa7\\x87 \\xe0\\xa6\\x9c\\xe0\\xa6\\xa8\\\\n\\xe0\\xa6\\x96\\xe0\\xa7\\x81\\xe0\\xa6\\x81\\xe0\\xa6\\x9c\\xe0\\xa6\\xbf \\xe0\\xa6\\xa4\\xe0\\xa6\\xbe\\xe0\\xa6\\xb0\\xe0\\xa7\\x87 \\xe0\\xa6\\x86\\xe0\\xa6\\xae\\xe0\\xa6\\xbf \\xe0\\xa6\\x86\\xe0\\xa6\\xaa\\xe0\\xa6\\xa8\\xe0\\xa6\\xbe\\xe0\\xa6\\xaf\\xe0\\xa6\\xbc\\\\n\\xe0\\xa6\\x86\\xe0\\xa6\\xae\\xe0\\xa6\\xbf \\xe0\\xa6\\xb6\\xe0\\xa7\\x81\\xe0\\xa6\\xa8\\xe0\\xa6\\xbf \\xe0\\xa6\\xaf\\xe0\\xa7\\x87\\xe0\\xa6\\xa8 \\xe0\\xa6\\xa4\\xe0\\xa6\\xbe\\xe0\\xa6\\xb0 \\xe0\\xa6\\x9a\\xe0\\xa6\\xb0\\xe0\\xa6\\xa3\\xe0\\xa7\\x87\\xe0\\xa6\\xb0 \\xe0\\xa6\\xa7\\xe0\\xa7\\x8d\\xe0\\xa6\\xac\\xe0\\xa6\\xa8\\xe0\\xa6\\xbf\\\\n\\xe0\\xa6\\x86\\xe0\\xa6\\xae\\xe0\\xa6\\xbe\\xe0\\xa6\\xb0\\xe0\\xa6\\xbf \\xe0\\xa6\\xaa\\xe0\\xa6\\xbf\\xe0\\xa6\\xaf\\xe0\\xa6\\xbc\\xe0\\xa6\\xbe\\xe0\\xa6\\xb8\\xe0\\xa7\\x80 \\xe0\\xa6\\xac\\xe0\\xa6\\xbe\\xe0\\xa6\\xb8\\xe0\\xa6\\xa8\\xe0\\xa6\\xbe\\xe0\\xa6\\xaf\\xe0\\xa6\\xbc\\xe0\\xa5\\xa4\\\\n\\xe0\\xa6\\x86\\xe0\\xa6\\xae\\xe0\\xa6\\xbe\\xe0\\xa6\\xb0 \\xe0\\xa6\\xae\\xe0\\xa6\\xa8\\xe0\\xa7\\x87\\xe0\\xa6\\xb0 \\xe0\\xa6\\xa4\\xe0\\xa7\\x83\\xe0\\xa6\\xb7\\xe0\\xa6\\xbf\\xe0\\xa6\\xa4 \\xe0\\xa6\\x86\\xe0\\xa6\\x95\\xe0\\xa6\\xbe\\xe0\\xa6\\xb6\\xe0\\xa7\\x87\\\\n\\xe0\\xa6\\x95\\xe0\\xa6\\xbe\\xe0\\xa6\\x81\\xe0\\xa6\\xa6\\xe0\\xa7\\x87 \\xe0\\xa6\\xb8\\xe0\\xa7\\x87 \\xe0\\xa6\\x9a\\xe0\\xa6\\xbe\\xe0\\xa6\\xa4\\xe0\\xa6\\x95 \\xe0\\xa6\\x86\\xe0\\xa6\\x95\\xe0\\xa7\\x81\\xe0\\xa6\\xb2 \\xe0\\xa6\\xaa\\xe0\\xa6\\xbf\\xe0\\xa6\\xaf\\xe0\\xa6\\xbc\\xe0\\xa6\\xbe\\xe0\\xa6\\xb8\\xe0\\xa7\\x87\\\\n\\xe0\\xa6\\x95\\xe0\\xa6\\xad\\xe0\\xa7\\x81 \\xe0\\xa6\\xb8\\xe0\\xa7\\x87 \\xe0\\xa6\\x9a\\xe0\\xa6\\x95\\xe0\\xa7\\x8b\\xe0\\xa6\\xb0 \\xe0\\xa6\\xb8\\xe0\\xa7\\x81\\xe0\\xa6\\xa7\\xe0\\xa6\\xbe\\xe0\\xa6\\x9a\\xe0\\xa7\\x8b\\xe0\\xa6\\xb0 \\xe0\\xa6\\x86\\xe0\\xa6\\xb8\\xe0\\xa7\\x87\\\\n\\xe0\\xa6\\xa8\\xe0\\xa6\\xbf\\xe0\\xa6\\xb6\\xe0\\xa7\\x80\\xe0\\xa6\\xa5\\xe0\\xa7\\x87 \\xe0\\xa6\\xb8\\xe0\\xa7\\x8d\\xe0\\xa6\\xac\\xe0\\xa6\\xaa\\xe0\\xa6\\xa8\\xe0\\xa7\\x87 \\xe0\\xa6\\x9c\\xe0\\xa7\\x8b\\xe0\\xa6\\x9b\\xe0\\xa6\\xa8\\xe0\\xa6\\xbe\\xe0\\xa6\\xaf\\xe0\\xa6\\xbc\\xe0\\xa5\\xa4\\\\n\\xe0\\xa6\\x86\\xe0\\xa6\\xae\\xe0\\xa6\\xbe\\xe0\\xa6\\xb0 \\xe0\\xa6\\xae\\xe0\\xa6\\xa8\\xe0\\xa7\\x87\\xe0\\xa6\\xb0 \\xe0\\xa6\\xaa\\xe0\\xa6\\xbf\\xe0\\xa6\\xaf\\xe0\\xa6\\xbc\\xe0\\xa6\\xbe\\xe0\\xa6\\xb2 \\xe0\\xa6\\xa4\\xe0\\xa6\\xae\\xe0\\xa6\\xbe\\xe0\\xa6\\xb2\\xe0\\xa7\\x87\\\\n\\xe0\\xa6\\xb9\\xe0\\xa7\\x87\\xe0\\xa6\\xb0\\xe0\\xa6\\xbf \\xe0\\xa6\\xa4\\xe0\\xa6\\xbe\\xe0\\xa6\\xb0\\xe0\\xa7\\x87 \\xe0\\xa6\\xb8\\xe0\\xa7\\x8d\\xe0\\xa6\\xa8\\xe0\\xa7\\x87\\xe0\\xa6\\xb9 \\xe0\\xa6\\xae\\xe0\\xa7\\x87\\xe0\\xa6\\x98\\xe0\\xa6\\xb6\\xe0\\xa7\\x8d\\xe0\\xa6\\xaf\\xe0\\xa6\\xbe\\xe0\\xa6\\xae\\\\n\\xe0\\xa6\\x85\\xe0\\xa6\\xb6\\xe0\\xa6\\xa8\\xe0\\xa6\\xbf \\xe0\\xa6\\x86\\xe0\\xa6\\xb2\\xe0\\xa7\\x8b\\xe0\\xa6\\xa4\\xe0\\xa7\\x87 \\xe0\\xa6\\xb9\\xe0\\xa7\\x87\\xe0\\xa6\\xb0\\xe0\\xa6\\xbf \\xe0\\xa6\\xa4\\xe0\\xa6\\xbe\\xe0\\xa6\\xb0\\xe0\\xa7\\x87 \\xe0\\xa6\\xa5\\xe0\\xa6\\xbf\\xe0\\xa6\\xb0\\\\n\\xe0\\xa6\\xac\\xe0\\xa6\\xbf\\xe0\\xa6\\x9c\\xe0\\xa6\\xb2\\xe0\\xa6\\xbf \\xe0\\xa6\\x89\\xe0\\xa6\\x9c\\xe0\\xa6\\xb2 \\xe0\\xa6\\x85\\xe0\\xa6\\xad\\xe0\\xa6\\xbf\\xe0\\xa6\\xb0\\xe0\\xa6\\xbe\\xe0\\xa6\\xae\\xe0\\xa5\\xa4\\\\n\\xe0\\xa6\\x86\\xe0\\xa6\\xae\\xe0\\xa6\\xbe\\xe0\\xa6\\xb0\\xe0\\xa6\\xbf \\xe0\\xa6\\xb0\\xe0\\xa6\\x9a\\xe0\\xa6\\xbf\\xe0\\xa6\\xa4 \\xe0\\xa6\\x95\\xe0\\xa6\\xbe\\xe0\\xa6\\xa8\\xe0\\xa6\\xa8\\xe0\\xa7\\x87 \\xe0\\xa6\\xac\\xe0\\xa6\\xb8\\xe0\\xa6\\xbf\\xe0\\xa6\\xaf\\xe0\\xa6\\xbc\\xe0\\xa6\\xbe\\\\n\\xe0\\xa6\\xaa\\xe0\\xa6\\xb0\\xe0\\xa6\\xbe\\xe0\\xa6\\xa3 \\xe0\\xa6\\xaa\\xe0\\xa7\\x8d\\xe0\\xa6\\xb0\\xe0\\xa6\\xbf\\xe0\\xa6\\xaf\\xe0\\xa6\\xbc\\xe0\\xa6\\xbe\\xe0\\xa6\\xb0\\xe0\\xa7\\x87 \\xe0\\xa6\\xae\\xe0\\xa6\\xbe\\xe0\\xa6\\xb2\\xe0\\xa6\\xbf\\xe0\\xa6\\x95\\xe0\\xa6\\xbe \\xe0\\xa6\\xb0\\xe0\\xa6\\x9a\\xe0\\xa6\\xbf\\xe0\\xa6\\xaf\\xe0\\xa6\\xbc\\xe0\\xa6\\xbe\\\\n\\xe0\\xa6\\xb8\\xe0\\xa7\\x87 \\xe0\\xa6\\xae\\xe0\\xa6\\xbe\\xe0\\xa6\\xb2\\xe0\\xa6\\xbe \\xe0\\xa6\\xb8\\xe0\\xa6\\xb9\\xe0\\xa6\\xb8\\xe0\\xa6\\xbe \\xe0\\xa6\\xa6\\xe0\\xa7\\x87\\xe0\\xa6\\x96\\xe0\\xa6\\xbf\\xe0\\xa6\\xa8\\xe0\\xa7\\x81 \\xe0\\xa6\\x9c\\xe0\\xa6\\xbe\\xe0\\xa6\\x97\\xe0\\xa6\\xbf\\xe0\\xa6\\xaf\\xe0\\xa6\\xbc\\xe0\\xa6\\xbe\\\\n\\xe0\\xa6\\x86\\xe0\\xa6\\xaa\\xe0\\xa6\\xa8\\xe0\\xa6\\xbe\\xe0\\xa6\\xb0\\xe0\\xa6\\x87 \\xe0\\xa6\\x97\\xe0\\xa6\\xb2\\xe0\\xa7\\x87 \\xe0\\xa6\\xa6\\xe0\\xa7\\x8b\\xe0\\xa6\\xb2\\xe0\\xa7\\x87 \\xe0\\xa6\\xb9\\xe0\\xa6\\xbe\\xe0\\xa6\\xaf\\xe0\\xa6\\xbc\\xe0\\xa5\\xa4\\xe0\\xa5\\xa4\",\\r\\n   \"Mood\": \"\\xe0\\xa6\\xaa\\xe0\\xa7\\x8d\\xe0\\xa6\\xb0\\xe0\\xa7\\x87\\xe0\\xa6\\xae\"\\r\\n },\\r\\n {\\r\\n   \"title\": \"\\xe0\\xa6\\x86\\xe0\\xa6\\xae\\xe0\\xa6\\xbe\\xe0\\xa6\\xb0 \\xe0\\xa6\\xad\\xe0\\xa6\\xbe\\xe0\\xa7\\x9f\\xe0\\xa7\\x87\\xe0\\xa6\\xb0 \\xe0\\xa6\\xb0\\xe0\\xa6\\x95\\xe0\\xa7\\x8d\\xe0\\xa6\\xa4\\xe0\\xa7\\x87 \\xe0\\xa6\\xb0\\xe0\\xa6\\xbe\\xe0\\xa6\\x99\\xe0\\xa6\\xbe\\xe0\\xa6\\xa8\\xe0\\xa7\\x8b\",\\r\\n   \"category\": \"\\xe0\\xa6\\xa6\\xe0\\xa7\\x87\\xe0\\xa6\\xb6\\xe0\\xa6\\xbe\\xe0\\xa6\\xa4\\xe0\\xa7\\x8d\\xe0\\xa6\\xae\\xe0\\xa6\\xac\\xe0\\xa7\\x8b\\xe0\\xa6\\xa7\\xe0\\xa6\\x95 \\xe0\\xa6\\x97\\xe0\\xa6\\xbe\\xe0\\xa6\\xa8\",\\r\\n   \"lyrics\": \"\\xe0\\xa6\\x86\\xe0\\xa6\\xae\\xe0\\xa6\\xbe\\xe0\\xa6\\xb0 \\xe0\\xa6\\xad\\xe0\\xa6\\xbe\\xe0\\xa7\\x9f\\xe0\\xa7\\x87\\xe0\\xa6\\xb0 \\xe0\\xa6\\xb0\\xe0\\xa6\\x95\\xe0\\xa7\\x8d\\xe0\\xa6\\xa4\\xe0\\xa7\\x87 \\xe0\\xa6\\xb0\\xe0\\xa6\\xbe\\xe0\\xa6\\x99\\xe0\\xa6\\xbe\\xe0\\xa6\\xa8\\xe0\\xa7\\x8b \\xe0\\xa6\\x8f\\xe0\\xa6\\x95\\xe0\\xa7\\x81\\xe0\\xa6\\xb6\\xe0\\xa7\\x87 \\xe0\\xa6\\xab\\xe0\\xa7\\x87\\xe0\\xa6\\xac\\xe0\\xa7\\x8d\\xe0\\xa6\\xb0\\xe0\\xa7\\x81\\xe0\\xa7\\x9f\\xe0\\xa6\\xbe\\xe0\\xa6\\xb0\\xe0\\xa6\\xbf\\\\n\\xe0\\xa6\\x86\\xe0\\xa6\\xae\\xe0\\xa6\\xbf \\xe0\\xa6\\x95\\xe0\\xa6\\xbf \\xe0\\xa6\\xad\\xe0\\xa7\\x81\\xe0\\xa6\\xb2\\xe0\\xa6\\xbf\\xe0\\xa6\\xa4\\xe0\\xa7\\x87 \\xe0\\xa6\\xaa\\xe0\\xa6\\xbe\\xe0\\xa6\\xb0\\xe0\\xa6\\xbf?\\xe0\\xa5\\xa4\\xe0\\xa5\\xa4\\\\n\\xe0\\xa6\\x9b\\xe0\\xa7\\x87\\xe0\\xa6\\xb2\\xe0\\xa7\\x87\\xe0\\xa6\\xb9\\xe0\\xa6\\xbe\\xe0\\xa6\\xb0\\xe0\\xa6\\xbe \\xe0\\xa6\\xb6\\xe0\\xa6\\xa4 \\xe0\\xa6\\xae\\xe0\\xa6\\xbe\\xe0\\xa7\\x9f\\xe0\\xa7\\x87\\xe0\\xa6\\xb0 \\xe0\\xa6\\x85\\xe0\\xa6\\xb6\\xe0\\xa7\\x8d\\xe0\\xa6\\xb0\\xe0\\xa7\\x81-\\xe0\\xa6\\x97\\xe0\\xa7\\x9c\\xe0\\xa6\\xbe \\xe0\\xa6\\x8f \\xe0\\xa6\\xab\\xe0\\xa7\\x87\\xe0\\xa6\\xac\\xe0\\xa7\\x8d\\xe0\\xa6\\xb0\\xe0\\xa7\\x81\\xe0\\xa7\\x9f\\xe0\\xa6\\xbe\\xe0\\xa6\\xb0\\xe0\\xa6\\xbf\\\\n\\xe0\\xa6\\x86\\xe0\\xa6\\xae\\xe0\\xa6\\xbf \\xe0\\xa6\\x95\\xe0\\xa6\\xbf \\xe0\\xa6\\xad\\xe0\\xa7\\x81\\xe0\\xa6\\xb2\\xe0\\xa6\\xbf\\xe0\\xa6\\xa4\\xe0\\xa7\\x87 \\xe0\\xa6\\xaa\\xe0\\xa6\\xbe\\xe0\\xa6\\xb0\\xe0\\xa6\\xbf?\\xe0\\xa5\\xa4\\xe0\\xa5\\xa4\\\\n\\xe0\\xa6\\x86\\xe0\\xa6\\xae\\xe0\\xa6\\xbe\\xe0\\xa6\\xb0 \\xe0\\xa6\\xb8\\xe0\\xa7\\x8b\\xe0\\xa6\\xa8\\xe0\\xa6\\xbe\\xe0\\xa6\\xb0 \\xe0\\xa6\\xa6\\xe0\\xa7\\x87\\xe0\\xa6\\xb6\\xe0\\xa7\\x87\\xe0\\xa6\\xb0 \\xe0\\xa6\\xb0\\xe0\\xa6\\x95\\xe0\\xa7\\x8d\\xe0\\xa6\\xa4\\xe0\\xa7\\x87 \\xe0\\xa6\\xb0\\xe0\\xa6\\xbe\\xe0\\xa6\\x99\\xe0\\xa6\\xbe\\xe0\\xa6\\xa8\\xe0\\xa7\\x8b \\xe0\\xa6\\xab\\xe0\\xa7\\x87\\xe0\\xa6\\xac\\xe0\\xa7\\x8d\\xe0\\xa6\\xb0\\xe0\\xa7\\x81\\xe0\\xa7\\x9f\\xe0\\xa6\\xbe\\xe0\\xa6\\xb0\\xe0\\xa6\\xbf\\\\n\\xe0\\xa6\\x86\\xe0\\xa6\\xae\\xe0\\xa6\\xbf \\xe0\\xa6\\x95\\xe0\\xa6\\xbf \\xe0\\xa6\\xad\\xe0\\xa7\\x81\\xe0\\xa6\\xb2\\xe0\\xa6\\xbf\\xe0\\xa6\\xa4\\xe0\\xa7\\x87 \\xe0\\xa6\\xaa\\xe0\\xa6\\xbe\\xe0\\xa6\\xb0\\xe0\\xa6\\xbf?\\xe0\\xa5\\xa4\\xe0\\xa5\\xa4\",\\r\\n   \"Mood\": \"\\xe0\\xa6\\xa6\\xe0\\xa7\\x87\\xe0\\xa6\\xb6\\xe0\\xa6\\xaa\\xe0\\xa7\\x8d\\xe0\\xa6\\xb0\\xe0\\xa7\\x87\\xe0\\xa6\\xae\"\\r\\n },\\r\\n {\\r\\n   \"title\": \"\\xe0\\xa6\\x95\\xe0\\xa6\\xbf\\xe0\\xa6\\x9b\\xe0\\xa7\\x81 \\xe0\\xa6\\xa6\\xe0\\xa7\\x81\\xe0\\xa6\\xb0\\xe0\\xa7\\x87 \\xe0\\xa6\\xa5\\xe0\\xa6\\xbe\\xe0\\xa6\\x95\\xe0\\xa6\\xbe \\xe0\\xa6\\x95\\xe0\\xa6\\xbf\\xe0\\xa6\\x9b\\xe0\\xa7\\x81 \\xe0\\xa6\\x95\\xe0\\xa6\\xbe\\xe0\\xa6\\x9b\\xe0\\xa7\\x87 \\xe0\\xa6\\x86\\xe0\\xa6\\xb8\\xe0\\xa6\\xbe\",\\r\\n   \"category\": \"\\xe0\\xa6\\x86\\xe0\\xa6\\xa7\\xe0\\xa7\\x81\\xe0\\xa6\\xa8\\xe0\\xa6\\xbf\\xe0\\xa6\\x95\",\\r\\n   \"lyrics\": \"\\xe0\\xa6\\x95\\xe0\\xa6\\xbf\\xe0\\xa6\\x9b\\xe0\\xa7\\x81 \\xe0\\xa6\\xa6\\xe0\\xa7\\x81\\xe0\\xa6\\xb0\\xe0\\xa7\\x87 \\xe0\\xa6\\xa5\\xe0\\xa6\\xbe\\xe0\\xa6\\x95\\xe0\\xa6\\xbe \\xe0\\xa6\\x95\\xe0\\xa6\\xbf\\xe0\\xa6\\x9b\\xe0\\xa7\\x81 \\xe0\\xa6\\x95\\xe0\\xa6\\xbe\\xe0\\xa6\\x9b\\xe0\\xa7\\x87 \\xe0\\xa6\\x86\\xe0\\xa6\\xb8\\xe0\\xa6\\xbe\\\\n\\xe0\\xa6\\x8f \\xe0\\xa6\\x86\\xe0\\xa6\\xb8\\xe0\\xa6\\xbe\\xe0\\xa6\\xb0 \\xe0\\xa6\\xaf\\xe0\\xa7\\x87\\xe0\\xa6\\xa8 \\xe0\\xa6\\xb6\\xe0\\xa7\\x87\\xe0\\xa6\\xb7 \\xe0\\xa6\\xa8\\xe0\\xa7\\x87\\xe0\\xa6\\x87\\\\n\\xe0\\xa6\\xa4\\xe0\\xa7\\x81\\xe0\\xa6\\xae\\xe0\\xa6\\xbf \\xe0\\xa6\\x8f\\xe0\\xa6\\xb2\\xe0\\xa7\\x87 \\xe0\\xa6\\x95\\xe0\\xa6\\xbe\\xe0\\xa6\\x9b\\xe0\\xa7\\x87 \\xe0\\xa6\\xb8\\xe0\\xa7\\x81\\xe0\\xa6\\xb0 \\xe0\\xa6\\x9c\\xe0\\xa6\\xbe\\xe0\\xa6\\x97\\xe0\\xa7\\x87 \\xe0\\xa6\\x97\\xe0\\xa6\\xbe\\xe0\\xa6\\xa8\\xe0\\xa7\\x87\\\\n\\xe0\\xa6\\xb8\\xe0\\xa7\\x81\\xe0\\xa6\\xb0\\xe0\\xa7\\x87\\xe0\\xa6\\xb0 \\xe0\\xa6\\xaf\\xe0\\xa7\\x87 \\xe0\\xa6\\x95\\xe0\\xa6\\xbf\\xe0\\xa6\\x9b\\xe0\\xa7\\x81 \\xe0\\xa6\\xb6\\xe0\\xa7\\x87\\xe0\\xa6\\xb7 \\xe0\\xa6\\xa8\\xe0\\xa7\\x87\\xe0\\xa6\\x87\\xe0\\xa5\\xa4\\\\n\\xe0\\xa6\\x8f\\xe0\\xa6\\x87 \\xe0\\xa6\\xb0\\xe0\\xa6\\xbe\\xe0\\xa6\\xa4 \\xe0\\xa6\\x8f\\xe0\\xa6\\xa4 \\xe0\\xa6\\xb8\\xe0\\xa7\\x81\\xe0\\xa6\\xa8\\xe0\\xa7\\x8d\\xe0\\xa6\\xa6\\xe0\\xa6\\xb0 \\xe0\\xa6\\xb9\\xe0\\xa6\\xb2 \\xe0\\xa6\\xa4\\xe0\\xa7\\x81\\xe0\\xa6\\xae\\xe0\\xa6\\xbf \\xe0\\xa6\\x86\\xe0\\xa6\\xb8\\xe0\\xa6\\xac\\xe0\\xa7\\x87 \\xe0\\xa6\\xac\\xe0\\xa6\\xb2\\xe0\\xa7\\x87\\\\n\\xe0\\xa6\\x8f\\xe0\\xa6\\x87 \\xe0\\xa6\\x9a\\xe0\\xa6\\xbe\\xe0\\xa6\\x81\\xe0\\xa6\\xa6 \\xe0\\xa6\\x8f\\xe0\\xa6\\xa4 \\xe0\\xa6\\xb8\\xe0\\xa6\\xaa\\xe0\\xa7\\x8d\\xe0\\xa6\\xa8\\xe0\\xa7\\x80\\xe0\\xa6\\xb2 \\xe0\\xa6\\xb9\\xe0\\xa6\\xb2 \\xe0\\xa6\\xad\\xe0\\xa6\\xbe\\xe0\\xa6\\xb2\\xe0\\xa6\\xac\\xe0\\xa6\\xbe\\xe0\\xa6\\xb8\\xe0\\xa6\\xac\\xe0\\xa7\\x87 \\xe0\\xa6\\xac\\xe0\\xa6\\xb2\\xe0\\xa7\\x87\\\\n\\xe0\\xa6\\xa6\\xe0\\xa7\\x81\\xe0\\xa6\\x9c\\xe0\\xa6\\xa8\\xe0\\xa7\\x87\\xe0\\xa6\\xb0 \\xe0\\xa6\\xae\\xe0\\xa6\\xa7\\xe0\\xa7\\x81\\xe0\\xa6\\xb8\\xe0\\xa7\\x8d\\xe0\\xa6\\xac\\xe0\\xa6\\xaa\\xe0\\xa7\\x8d\\xe0\\xa6\\xa8\\xe0\\xa7\\x87\\xe0\\xa6\\xb0 \\xe0\\xa6\\xae\\xe0\\xa6\\xa4\\xe0\\xa7\\x8b\\\\n\\xe0\\xa6\\xae\\xe0\\xa6\\xbe\\xe0\\xa6\\xaf\\xe0\\xa6\\xbc\\xe0\\xa6\\xbe\\xe0\\xa6\\xae\\xe0\\xa6\\xaf\\xe0\\xa6\\xbc \\xe0\\xa6\\x95\\xe0\\xa7\\x8b\\xe0\\xa6\\xa8 \\xe0\\xa6\\xa6\\xe0\\xa7\\x87\\xe0\\xa6\\xb6 \\xe0\\xa6\\xa8\\xe0\\xa7\\x87\\xe0\\xa6\\x87\\xe0\\xa5\\xa4\\\\n\\xe0\\xa6\\x8f\\xe0\\xa6\\x87 \\xe0\\xa6\\xae\\xe0\\xa6\\xa8 \\xe0\\xa6\\x8f\\xe0\\xa6\\xa4 \\xe0\\xa6\\x9a\\xe0\\xa6\\x9e\\xe0\\xa7\\x8d\\xe0\\xa6\\x9a\\xe0\\xa6\\xb2 \\xe0\\xa6\\xb9\\xe0\\xa6\\xb2 \\xe0\\xa6\\xa4\\xe0\\xa7\\x81\\xe0\\xa6\\xae\\xe0\\xa6\\xbf \\xe0\\xa6\\x86\\xe0\\xa6\\xb8\\xe0\\xa6\\xac\\xe0\\xa7\\x87 \\xe0\\xa6\\xac\\xe0\\xa6\\xb2\\xe0\\xa7\\x87\\\\n\\xe0\\xa6\\x8f\\xe0\\xa6\\x87 \\xe0\\xa6\\x95\\xe0\\xa7\\x8d\\xe0\\xa6\\xb7\\xe0\\xa6\\xa8 \\xe0\\xa6\\x8f\\xe0\\xa6\\xa4 \\xe0\\xa6\\x89\\xe0\\xa6\\x9c\\xe0\\xa7\\x8d\\xe0\\xa6\\x9c\\xe0\\xa7\\x8d\\xe0\\xa6\\xac\\xe0\\xa6\\xb2 \\xe0\\xa6\\xb9\\xe0\\xa6\\xb2 \\xe0\\xa6\\xa4\\xe0\\xa7\\x81\\xe0\\xa6\\xae\\xe0\\xa6\\xbf \\xe0\\xa6\\xb9\\xe0\\xa6\\xbe\\xe0\\xa6\\xb8\\xe0\\xa6\\xac\\xe0\\xa7\\x87 \\xe0\\xa6\\xac\\xe0\\xa6\\xb2\\xe0\\xa7\\x87\\\\n\\xe0\\xa6\\xb9\\xe0\\xa6\\xbe\\xe0\\xa6\\xb8\\xe0\\xa6\\xbf\\xe0\\xa6\\xb0 \\xe0\\xa6\\xae\\xe0\\xa6\\xbe\\xe0\\xa6\\xaf\\xe0\\xa6\\xbc\\xe0\\xa6\\xbe\\xe0\\xa6\\xaf\\xe0\\xa6\\xbc \\xe0\\xa6\\x95\\xe0\\xa7\\x87 \\xe0\\xa6\\xac\\xe0\\xa6\\xb2\\xe0\\xa7\\x87 \\xe0\\xa6\\x8f\\xe0\\xa6\\x96\\xe0\\xa6\\xa8\\\\n\\xe0\\xa6\\xad\\xe0\\xa6\\xbe\\xe0\\xa6\\xb2\\xe0\\xa7\\x8b\\xe0\\xa6\\xb2\\xe0\\xa6\\xbe\\xe0\\xa6\\x97\\xe0\\xa6\\xbe\\xe0\\xa6\\xb0 \\xe0\\xa6\\xb8\\xe0\\xa7\\x87 \\xe0\\xa6\\x86\\xe0\\xa6\\xac\\xe0\\xa7\\x87\\xe0\\xa6\\xb6 \\xe0\\xa6\\xa8\\xe0\\xa7\\x87\\xe0\\xa6\\x87\\xe0\\xa5\\xa4\",\\r\\n   \"Mood\": \"\\xe0\\xa6\\xaa\\xe0\\xa7\\x8d\\xe0\\xa6\\xb0\\xe0\\xa7\\x87\\xe0\\xa6\\xae\"\\r\\n },\\r\\n {\\r\\n   \"title\": \"\\xe0\\xa6\\x95\\xe0\\xa7\\x87\\xe0\\xa6\\xa8 \\xe0\\xa6\\x95\\xe0\\xa6\\xb0\\xe0\\xa7\\x81\\xe0\\xa6\\xa3 \\xe0\\xa6\\xb8\\xe0\\xa7\\x81\\xe0\\xa6\\xb0\\xe0\\xa7\\x87 \\xe0\\xa6\\xb9\\xe0\\xa7\\x83\\xe0\\xa6\\xa6\\xe0\\xa6\\xaf\\xe0\\xa6\\xbc-\\xe0\\xa6\\xaa\\xe0\\xa7\\x81\\xe0\\xa6\\xb0\\xe0\\xa7\\x87 \\xe0\\xa6\\xac\\xe0\\xa6\\xbe\\xe0\\xa6\\x9c\\xe0\\xa6\\xbf\\xe0\\xa6\\x9b\\xe0\\xa7\\x87 \\xe0\\xa6\\xac\\xe0\\xa6\\xbe\\xe0\\xa6\\x81\\xe0\\xa6\\xb6\\xe0\\xa6\\xb0\\xe0\\xa6\\xbf\",\\r\\n   \"category\": \"\\xe0\\xa6\\xa8\\xe0\\xa6\\x9c\\xe0\\xa6\\xb0\\xe0\\xa7\\x81\\xe0\\xa6\\xb2 \\xe0\\xa6\\x97\\xe0\\xa7\\x80\\xe0\\xa6\\xa4\\xe0\\xa6\\xbf\",\\r\\n   \"lyrics\": \"\\xe0\\xa6\\x95\\xe0\\xa7\\x87\\xe0\\xa6\\xa8 \\xe0\\xa6\\x95\\xe0\\xa6\\xb0\\xe0\\xa7\\x81\\xe0\\xa6\\xa3 \\xe0\\xa6\\xb8\\xe0\\xa7\\x81\\xe0\\xa6\\xb0\\xe0\\xa7\\x87 \\xe0\\xa6\\xb9\\xe0\\xa7\\x83\\xe0\\xa6\\xa6\\xe0\\xa6\\xaf\\xe0\\xa6\\xbc\\xe0\\xa6\\xaa\\xe0\\xa7\\x81\\xe0\\xa6\\xb0\\xe0\\xa7\\x87 \\xe0\\xa6\\xac\\xe0\\xa6\\xbe\\xe0\\xa6\\x9c\\xe0\\xa6\\xbf\\xe0\\xa6\\x9b\\xe0\\xa7\\x87 \\xe0\\xa6\\xac\\xe0\\xa6\\xbe\\xe0\\xa6\\x81\\xe0\\xa6\\xb6\\xe0\\xa6\\xb0\\xe0\\xa6\\xbf\\\\n\\xe0\\xa6\\x98\\xe0\\xa6\\xa8\\xe0\\xa6\\xbe\\xe0\\xa6\\xaf\\xe0\\xa6\\xbc \\xe0\\xa6\\x97\\xe0\\xa6\\xb9\\xe0\\xa6\\xa8 \\xe0\\xa6\\xa8\\xe0\\xa7\\x80\\xe0\\xa6\\xb0\\xe0\\xa6\\xa6 \\xe0\\xa6\\xb8\\xe0\\xa6\\x98\\xe0\\xa6\\xa8 \\xe0\\xa6\\xa8\\xe0\\xa6\\xaf\\xe0\\xa6\\xbc\\xe0\\xa6\\xa8 \\xe0\\xa6\\xae\\xe0\\xa6\\xa8 \\xe0\\xa6\\xad\\xe0\\xa6\\xb0\\xe0\\xa6\\xbf\\xe0\\xa5\\xa4\\xe0\\xa5\\xa4 \\\\n\\xe0\\xa6\\xac\\xe0\\xa6\\xbf\\xe0\\xa6\\x9c\\xe0\\xa6\\xb2\\xe0\\xa6\\xbf \\xe0\\xa6\\x9a\\xe0\\xa6\\xae\\xe0\\xa6\\x95\\xe0\\xa7\\x87 \\xe0\\xa6\\xaa\\xe0\\xa6\\xac\\xe0\\xa6\\xa8 \\xe0\\xa6\\xa6\\xe0\\xa6\\xae\\xe0\\xa6\\x95\\xe0\\xa7\\x87 \\xe0\\xa6\\xaa\\xe0\\xa6\\xb0\\xe0\\xa6\\xbe\\xe0\\xa6\\xa8 \\xe0\\xa6\\x95\\xe0\\xa6\\xbe\\xe0\\xa6\\x81\\xe0\\xa6\\xaa\\xe0\\xa7\\x87 \\xe0\\xa6\\xb0\\xe0\\xa7\\x87\\\\n\\xe0\\xa6\\xac\\xe0\\xa7\\x81\\xe0\\xa6\\x95\\xe0\\xa7\\x87\\xe0\\xa6\\xb0 \\xe0\\xa6\\xac\\xe0\\xa6\\x81\\xe0\\xa6\\xa7\\xe0\\xa7\\x81\\xe0\\xa6\\xb0\\xe0\\xa7\\x87 \\xe0\\xa6\\xac\\xe0\\xa7\\x81\\xe0\\xa6\\x95\\xe0\\xa7\\x87 \\xe0\\xa6\\xac\\xe0\\xa7\\x87\\xe0\\xa6\\x81\\xe0\\xa6\\xa7\\xe0\\xa7\\x87 \\xe0\\xa6\\x9d\\xe0\\xa7\\x81\\xe0\\xa6\\xb0\\xe0\\xa7\\x87 \\xe0\\xa6\\xac\\xe0\\xa6\\xbf\\xe0\\xa6\\xa7\\xe0\\xa7\\x81\\xe0\\xa6\\xb0\\xe0\\xa6\\xbe \\xe0\\xa6\\x95\\xe0\\xa6\\xbf\\xe0\\xa6\\xb6\\xe0\\xa7\\x8b\\xe0\\xa6\\xb0\\xe0\\xa7\\x80\\xe0\\xa5\\xa4\\xe0\\xa5\\xa4\",\\r\\n   \"Mood\": \"\\xe0\\xa6\\xac\\xe0\\xa7\\x87\\xe0\\xa6\\xa6\\xe0\\xa6\\xa8\\xe0\\xa6\\xbe\"\\r\\n },\\r\\n {\\r\\n   \"title\": \"\\xe0\\xa6\\x95\\xe0\\xa7\\x87\\xe0\\xa6\\xa8 \\xe0\\xa6\\x9a\\xe0\\xa6\\xbe\\xe0\\xa6\\x81\\xe0\\xa6\\xa6\\xe0\\xa6\\xbf\\xe0\\xa6\\xa8\\xe0\\xa7\\x80 \\xe0\\xa6\\xb0\\xe0\\xa6\\xbe\\xe0\\xa6\\xa4\\xe0\\xa7\\x87 \\xe0\\xa6\\xae\\xe0\\xa7\\x87\\xe0\\xa6\\x98 \\xe0\\xa6\\x86\\xe0\\xa6\\xb8\\xe0\\xa7\\x87 \\xe0\\xa6\\x9b\\xe0\\xa6\\xbe\\xe0\\xa6\\xaf\\xe0\\xa6\\xbc\\xe0\\xa6\\xbe \\xe0\\xa6\\x95\\xe2\\x80\\x99\\xe0\\xa6\\xb0\\xe0\\xa7\\x87\",\\r\\n   \"category\": \"\\xe0\\xa6\\xa8\\xe0\\xa6\\x9c\\xe0\\xa6\\xb0\\xe0\\xa7\\x81\\xe0\\xa6\\xb2 \\xe0\\xa6\\x97\\xe0\\xa7\\x80\\xe0\\xa6\\xa4\\xe0\\xa6\\xbf\",\\r\\n   \"lyrics\": \"\\xe0\\xa6\\x95\\xe0\\xa7\\x87\\xe0\\xa6\\xa8 \\xe0\\xa6\\x9a\\xe0\\xa6\\xbe\\xe0\\xa6\\x81\\xe0\\xa6\\xa6\\xe0\\xa6\\xbf\\xe0\\xa6\\xa8\\xe0\\xa7\\x80 \\xe0\\xa6\\xb0\\xe0\\xa6\\xbe\\xe0\\xa6\\xa4\\xe0\\xa7\\x87 \\xe0\\xa6\\xae\\xe0\\xa7\\x87\\xe0\\xa6\\x98 \\xe0\\xa6\\x86\\xe0\\xa6\\xb8\\xe0\\xa7\\x87 \\xe0\\xa6\\x9b\\xe0\\xa6\\xbe\\xe0\\xa6\\xaf\\xe0\\xa6\\xbc\\xe0\\xa6\\xbe \\xe0\\xa6\\x95\\xe2\\x80\\x99\\xe0\\xa6\\xb0\\xe0\\xa7\\x87\\xe0\\xa5\\xa4\\\\n\\xe0\\xa6\\xb8\\xe0\\xa7\\x81\\xe0\\xa6\\x96\\xe0\\xa7\\x87\\xe0\\xa6\\xb0 \\xe0\\xa6\\xac\\xe0\\xa6\\xbe\\xe0\\xa6\\xb8\\xe0\\xa6\\xb0\\xe0\\xa7\\x87 \\xe0\\xa6\\x95\\xe0\\xa7\\x87\\xe0\\xa6\\xa8, \\xe0\\xa6\\xaa\\xe0\\xa7\\x8d\\xe0\\xa6\\xb0\\xe0\\xa6\\xbe\\xe0\\xa6\\xa3 \\xe0\\xa6\\x93\\xe0\\xa6\\xa0\\xe0\\xa7\\x87 \\xe0\\xa6\\xac\\xe0\\xa6\\xbf\\xe0\\xa6\\xb7\\xe0\\xa6\\xbe\\xe0\\xa6\\xa6\\xe0\\xa7\\x87 \\xe0\\xa6\\xad\\xe2\\x80\\x99\\xe0\\xa6\\xb0\\xe0\\xa7\\x87\\xe0\\xa5\\xa4\\xe0\\xa5\\xa4\\\\n\\xe0\\xa6\\x95\\xe0\\xa7\\x87\\xe0\\xa6\\xa8 \\xe0\\xa6\\xae\\xe0\\xa6\\xbf\\xe0\\xa6\\xb2\\xe0\\xa6\\xa8 \\xe0\\xa6\\xb0\\xe0\\xa6\\xbe\\xe0\\xa6\\xa4\\xe0\\xa7\\x87, \\xe0\\xa6\\xb8\\xe0\\xa6\\xb2\\xe0\\xa6\\xbf\\xe0\\xa6\\xb2 \\xe0\\xa6\\x86\\xe0\\xa6\\x81\\xe0\\xa6\\x96\\xe0\\xa6\\xbf \\xe0\\xa6\\xaa\\xe0\\xa6\\xbe\\xe0\\xa6\\xa4\\xe0\\xa7\\x87,\\\\n\\xe0\\xa6\\x95\\xe0\\xa7\\x87\\xe0\\xa6\\xa8 \\xe0\\xa6\\xab\\xe0\\xa6\\xbe\\xe0\\xa6\\x97\\xe0\\xa7\\x81\\xe0\\xa6\\xa8 \\xe0\\xa6\\xaa\\xe0\\xa7\\x8d\\xe0\\xa6\\xb0\\xe0\\xa6\\xbe\\xe0\\xa6\\xa4\\xe0\\xa7\\x87, \\xe0\\xa6\\xb8\\xe0\\xa6\\xb9\\xe0\\xa6\\xb8\\xe0\\xa6\\xbe \\xe0\\xa6\\xac\\xe0\\xa6\\xbe\\xe0\\xa6\\xa6\\xe0\\xa6\\xb2 \\xe0\\xa6\\x9d\\xe0\\xa6\\xb0\\xe0\\xa7\\x87\\xe0\\xa5\\xa4\\xe0\\xa5\\xa4\\\\n\\xe0\\xa6\\xa1\\xe0\\xa6\\xbe\\xe0\\xa6\\x95\\xe0\\xa6\\xbf\\xe0\\xa6\\xaf\\xe0\\xa6\\xbc\\xe0\\xa6\\xbe \\xe0\\xa6\\xab\\xe0\\xa7\\x81\\xe0\\xa6\\xb2\\xe0\\xa6\\xac\\xe0\\xa6\\xa8\\xe0\\xa7\\x87, \\xe0\\xa6\\xa5\\xe0\\xa6\\xbe\\xe0\\xa6\\x95\\xe0\\xa7\\x87 \\xe0\\xa6\\xb8\\xe0\\xa7\\x87 \\xe0\\xa6\\x86\\xe0\\xa6\\xa8\\xe0\\xa6\\xae\\xe0\\xa6\\xa8\\xe0\\xa7\\x87,\\\\n\\xe0\\xa6\\x95\\xe0\\xa6\\xbe\\xe0\\xa6\\x81\\xe0\\xa6\\xa6\\xe0\\xa6\\xbe\\xe0\\xa6\\xaf\\xe0\\xa6\\xbc \\xe0\\xa6\\xa8\\xe0\\xa6\\xbf\\xe0\\xa6\\xb0\\xe0\\xa6\\x9c\\xe0\\xa6\\xa8\\xe0\\xa7\\x87, \\xe0\\xa6\\x95\\xe0\\xa6\\xbe\\xe0\\xa6\\x81\\xe0\\xa6\\xa6\\xe0\\xa7\\x87 \\xe0\\xa6\\x95\\xe0\\xa7\\x87 \\xe0\\xa6\\x95\\xe0\\xa6\\xbf\\xe0\\xa6\\xb8\\xe0\\xa7\\x87\\xe0\\xa6\\xb0 \\xe0\\xa6\\xa4\\xe0\\xa6\\xb0\\xe0\\xa7\\x87\\xe0\\xa5\\xa4\\xe0\\xa5\\xa4\",\\r\\n   \"Mood\": \"\\xe0\\xa6\\xac\\xe0\\xa7\\x87\\xe0\\xa6\\xa6\\xe0\\xa6\\xa8\\xe0\\xa6\\xbe\"\\r\\n },\\r\\n {\\r\\n   \"title\": \"\\xe0\\xa6\\x98\\xe0\\xa7\\x81\\xe0\\xa6\\xae\\xe0\\xa6\\xbf\\xe0\\xa6\\xaf\\xe0\\xa6\\xbc\\xe0\\xa7\\x87 \\xe0\\xa6\\x97\\xe0\\xa7\\x87\\xe0\\xa6\\x9b\\xe0\\xa7\\x87 \\xe0\\xa6\\xb6\\xe0\\xa7\\x8d\\xe0\\xa6\\xb0\\xe0\\xa6\\xbe\\xe0\\xa6\\xa8\\xe0\\xa7\\x8d\\xe0\\xa6\\xa4 \\xe0\\xa6\\xb9\\xe2\\x80\\x8b\\xe0\\xa6\\xaf\\xe0\\xa6\\xbc\\xe0\\xa7\\x87 \\xe0\\xa6\\x86\\xe0\\xa6\\xae\\xe0\\xa6\\xbe\\xe0\\xa6\\xb0 \\xe0\\xa6\\x97\\xe0\\xa6\\xbe\\xe0\\xa6\\xa8\\xe0\\xa7\\x87\\xe0\\xa6\\xb0 \\xe0\\xa6\\xac\\xe0\\xa7\\x81\\xe0\\xa6\\xb2\\xe0\\xa6\\xac\\xe0\\xa7\\x81\\xe0\\xa6\\xb2\\xe0\\xa6\\xbf\",\\r\\n   \"category\": \"\\xe0\\xa6\\xa8\\xe0\\xa6\\x9c\\xe0\\xa6\\xb0\\xe0\\xa7\\x81\\xe0\\xa6\\xb2 \\xe0\\xa6\\x97\\xe0\\xa7\\x80\\xe0\\xa6\\xa4\\xe0\\xa6\\xbf\",\\r\\n   \"lyrics\": \"\\xe0\\xa6\\x98\\xe0\\xa7\\x81\\xe0\\xa6\\xae\\xe0\\xa6\\xbf\\xe0\\xa6\\xaf\\xe0\\xa6\\xbc\\xe0\\xa7\\x87 \\xe0\\xa6\\x97\\xe0\\xa7\\x87\\xe0\\xa6\\x9b\\xe0\\xa7\\x87 \\xe0\\xa6\\xb6\\xe0\\xa7\\x8d\\xe0\\xa6\\xb0\\xe0\\xa6\\xbe\\xe0\\xa6\\xa8\\xe0\\xa7\\x8d\\xe0\\xa6\\xa4 \\xe0\\xa6\\xb9\\xe0\\xa6\\xaf\\xe0\\xa6\\xbc\\xe0\\xa7\\x87 \\xe0\\xa6\\x86\\xe0\\xa6\\xae\\xe0\\xa6\\xbe\\xe0\\xa6\\xb0 \\xe0\\xa6\\x97\\xe0\\xa6\\xbe\\xe0\\xa6\\xa8\\xe0\\xa7\\x87\\xe0\\xa6\\xb0 \\xe0\\xa6\\xac\\xe0\\xa7\\x81\\xe0\\xa6\\xb2\\xe0\\xa6\\xac\\xe0\\xa7\\x81\\xe0\\xa6\\xb2\\xe0\\xa6\\xbf\\xe0\\xa5\\xa4\\\\n\\xe0\\xa6\\x95\\xe0\\xa6\\xb0\\xe0\\xa7\\x81\\xe0\\xa6\\xa3 \\xe0\\xa6\\x9a\\xe0\\xa7\\x8b\\xe0\\xa6\\x96\\xe0\\xa7\\x87 \\xe0\\xa6\\x9a\\xe0\\xa7\\x87\\xe0\\xa6\\xaf\\xe0\\xa6\\xbc\\xe0\\xa7\\x87 \\xe0\\xa6\\x86\\xe0\\xa6\\x9b\\xe0\\xa7\\x87 \\xe0\\xa6\\xb8\\xe0\\xa6\\xbe\\xe0\\xa6\\x9d\\xe0\\xa7\\x87\\xe0\\xa6\\xb0 \\xe0\\xa6\\x9d\\xe0\\xa6\\xb0\\xe0\\xa6\\xbe \\xe0\\xa6\\xab\\xe0\\xa7\\x81\\xe0\\xa6\\xb2\\xe0\\xa6\\x97\\xe0\\xa7\\x81\\xe0\\xa6\\xb2\\xe0\\xa6\\xbf\\xe0\\xa5\\xa4\\xe0\\xa5\\xa4\\\\n\\xe0\\xa6\\xab\\xe0\\xa7\\x81\\xe0\\xa6\\xb2 \\xe0\\xa6\\xab\\xe0\\xa7\\x81\\xe0\\xa6\\x9f\\xe0\\xa6\\xbf\\xe0\\xa6\\xaf\\xe0\\xa6\\xbc\\xe0\\xa7\\x87 \\xe0\\xa6\\xad\\xe0\\xa7\\x8b\\xe0\\xa6\\xb0 \\xe0\\xa6\\xac\\xe0\\xa7\\x87\\xe0\\xa6\\xb2\\xe0\\xa6\\xbe \\xe0\\xa6\\x95\\xe0\\xa7\\x87 \\xe0\\xa6\\x97\\xe0\\xa6\\xbe\\xe0\\xa6\\xa8 \\xe0\\xa6\\x97\\xe0\\xa7\\x87\\xe0\\xa6\\xaf\\xe0\\xa6\\xbc\\xe0\\xa7\\x87\\\\n\\xe0\\xa6\\xa8\\xe0\\xa7\\x80\\xe0\\xa6\\xb0\\xe0\\xa6\\xac \\xe0\\xa6\\xb9\\xe2\\x80\\x99\\xe0\\xa6\\xb2 \\xe0\\xa6\\x95\\xe0\\xa7\\x8b\\xe0\\xa6\\xa8 \\xe0\\xa6\\xac\\xe0\\xa6\\xbf\\xe0\\xa6\\xb7\\xe0\\xa6\\xbe\\xe0\\xa6\\xa6\\xe0\\xa7\\x87\\xe0\\xa6\\xb0 \\xe0\\xa6\\xac\\xe0\\xa6\\xbe\\xe0\\xa6\\xa8 \\xe0\\xa6\\x96\\xe0\\xa7\\x87\\xe0\\xa6\\xaf\\xe0\\xa6\\xbc\\xe0\\xa7\\x87\\\\n\\xe0\\xa6\\xac\\xe0\\xa6\\xa8\\xe0\\xa7\\x87\\xe0\\xa6\\xb0 \\xe0\\xa6\\x95\\xe0\\xa7\\x8b\\xe0\\xa6\\xb2\\xe0\\xa7\\x87 \\xe0\\xa6\\xac\\xe0\\xa6\\xbf\\xe0\\xa6\\xb2\\xe0\\xa6\\xbe\\xe0\\xa6\\xaa \\xe0\\xa6\\x95\\xe0\\xa6\\xb0\\xe0\\xa7\\x87 \\xe0\\xa6\\xb8\\xe0\\xa6\\xa8\\xe0\\xa7\\x8d\\xe0\\xa6\\xa7\\xe0\\xa7\\x8d\\xe0\\xa6\\xaf\\xe0\\xa6\\xbe\\xe0\\xa6\\xb0\\xe0\\xa6\\xbe\\xe0\\xa6\\xa3\\xe0\\xa7\\x80 \\xe0\\xa6\\x9a\\xe0\\xa7\\x81\\xe0\\xa6\\xb2 \\xe0\\xa6\\x96\\xe0\\xa7\\x81\\xe0\\xa6\\xb2\\xe0\\xa6\\xbf\\xe0\\xa5\\xa4\\xe0\\xa5\\xa4\\\\n\\xe0\\xa6\\x95\\xe0\\xa6\\xbe\\xe0\\xa6\\xb2 \\xe0\\xa6\\xb9\\xe0\\xa6\\xa4\\xe0\\xa7\\x87 \\xe0\\xa6\\x86\\xe0\\xa6\\xb0 \\xe0\\xa6\\xab\\xe0\\xa7\\x81\\xe0\\xa6\\x9f\\xe0\\xa6\\xac\\xe0\\xa7\\x87 \\xe0\\xa6\\xa8\\xe0\\xa6\\xbe \\xe0\\xa6\\xb9\\xe0\\xa6\\xbe\\xe0\\xa6\\xaf\\xe0\\xa6\\xbc, \\xe0\\xa6\\xb2\\xe0\\xa6\\xa4\\xe0\\xa6\\xbe\\xe0\\xa6\\xb0 \\xe0\\xa6\\xac\\xe0\\xa7\\x81\\xe0\\xa6\\x95\\xe0\\xa7\\x87 \\xe0\\xa6\\xae\\xe0\\xa6\\x9e\\xe0\\xa7\\x8d\\xe0\\xa6\\x9c\\xe0\\xa6\\xb0\\xe0\\xa7\\x80\\\\n\\xe0\\xa6\\x89\\xe0\\xa6\\xa0\\xe0\\xa6\\x9b\\xe0\\xa7\\x87 \\xe0\\xa6\\xaa\\xe0\\xa6\\xbe\\xe0\\xa6\\xa4\\xe0\\xa6\\xbe\\xe0\\xa6\\xaf\\xe0\\xa6\\xbc \\xe0\\xa6\\xaa\\xe0\\xa6\\xbe\\xe0\\xa6\\xa4\\xe0\\xa6\\xbe\\xe0\\xa6\\xaf\\xe0\\xa6\\xbc \\xe0\\xa6\\x95\\xe0\\xa6\\xbe\\xe0\\xa6\\xb9\\xe0\\xa6\\xbe\\xe0\\xa6\\xb0 \\xe0\\xa6\\x95\\xe0\\xa6\\xb0\\xe0\\xa7\\x81\\xe0\\xa6\\xa3 \\xe0\\xa6\\xa8\\xe0\\xa6\\xbf\\xe0\\xa6\\xb6\\xe0\\xa6\\xbe\\xe0\\xa6\\xb8 \\xe0\\xa6\\xae\\xe0\\xa6\\xb0\\xe0\\xa7\\x8d\\xe0\\xa6\\xae\\xe0\\xa6\\xb0\\xe0\\xa7\\x80\\xe0\\xa5\\xa4\\\\n\\xe0\\xa6\\x97\\xe0\\xa6\\xbe\\xe0\\xa6\\xa8\\xe0\\xa7\\x87\\xe0\\xa6\\xb0 \\xe0\\xa6\\xaa\\xe0\\xa6\\xbe\\xe0\\xa6\\x96\\xe0\\xa6\\xbf \\xe0\\xa6\\x97\\xe0\\xa7\\x87\\xe0\\xa6\\x9b\\xe0\\xa7\\x87 \\xe0\\xa6\\x89\\xe0\\xa6\\xa1\\xe0\\xa6\\xbc\\xe0\\xa7\\x87 \\xe0\\xa6\\xb6\\xe0\\xa7\\x82\\xe0\\xa6\\xa3\\xe0\\xa7\\x8d\\xe0\\xa6\\xaf \\xe0\\xa6\\xa8\\xe0\\xa7\\x80\\xe0\\xa6\\xa1\\xe0\\xa6\\xbc\\\\n\\xe0\\xa6\\x95\\xe0\\xa6\\xa8\\xe0\\xa7\\x8d\\xe0\\xa6\\xa0\\xe0\\xa7\\x87 \\xe0\\xa6\\x86\\xe0\\xa6\\xae\\xe0\\xa6\\xbe\\xe0\\xa6\\xb0 \\xe0\\xa6\\xa8\\xe0\\xa6\\xbe\\xe0\\xa6\\x87 \\xe0\\xa6\\xb8\\xe0\\xa7\\x87 \\xe0\\xa6\\x86\\xe0\\xa6\\x97\\xe0\\xa7\\x87\\xe0\\xa6\\xb0 \\xe0\\xa6\\x95\\xe0\\xa6\\xa5\\xe0\\xa6\\xbe\\xe0\\xa6\\xb0 \\xe0\\xa6\\xad\\xe0\\xa6\\xbf\\xe0\\xa6\\xa1\\xe0\\xa6\\xbc\\\\n\\xe0\\xa6\\x86\\xe0\\xa6\\xb2\\xe0\\xa7\\x87\\xe0\\xa6\\xaf\\xe0\\xa6\\xbc\\xe0\\xa6\\xbe\\xe0\\xa6\\xb0 \\xe0\\xa6\\x8f \\xe0\\xa6\\x86\\xe0\\xa6\\xb2\\xe0\\xa7\\x8b\\xe0\\xa6\\xa4\\xe0\\xa7\\x87 \\xe0\\xa6\\x86\\xe0\\xa6\\xb0 \\xe0\\xa6\\x86\\xe0\\xa6\\xb8\\xe0\\xa6\\xac\\xe0\\xa7\\x87 \\xe0\\xa6\\xa8\\xe0\\xa6\\xbe \\xe0\\xa6\\x95\\xe0\\xa7\\x87\\xe0\\xa6\\x89 \\xe0\\xa6\\x95\\xe0\\xa7\\x81\\xe0\\xa6\\xb2 \\xe0\\xa6\\xad\\xe0\\xa7\\x81\\xe0\\xa6\\xb2\\xe0\\xa6\\xbf\\xe0\\xa5\\xa4\\xe0\\xa5\\xa4\",\\r\\n   \"Mood\": \"\\xe0\\xa6\\xac\\xe0\\xa7\\x87\\xe0\\xa6\\xa6\\xe0\\xa6\\xa8\\xe0\\xa6\\xbe\"\\r\\n },\\r\\n {\\r\\n   \"title\": \"\\xe0\\xa6\\x9c\\xe2\\x80\\x8b\\xe0\\xa6\\xa1\\xe0\\xa6\\xbc\\xe0\\xa7\\x8b\\xe0\\xa6\\xaf\\xe0\\xa6\\xbc\\xe0\\xa6\\xbe\\xe0\\xa6\\xb0 \\xe0\\xa6\\x9d\\xe0\\xa7\\x81\\xe0\\xa6\\xae\\xe0\\xa6\\x95\\xe0\\xa7\\x8b \\xe0\\xa6\\xa4\\xe0\\xa7\\x87 \\xe0\\xa6\\x95\\xe0\\xa6\\xbf \\xe0\\xa6\\xb0\\xe0\\xa7\\x82\\xe0\\xa6\\xaa \\xe0\\xa6\\x96\\xe0\\xa7\\x8b\\xe0\\xa6\\xb2\\xe0\\xa7\\x87\",\\r\\n   \"category\": \"\\xe0\\xa6\\x86\\xe0\\xa6\\xa7\\xe0\\xa7\\x81\\xe0\\xa6\\xa8\\xe0\\xa6\\xbf\\xe0\\xa6\\x95\",\\r\\n   \"lyrics\": \"\\xe0\\xa6\\x9c\\xe0\\xa6\\xa1\\xe0\\xa6\\xbc\\xe0\\xa7\\x8b\\xe0\\xa6\\xaf\\xe0\\xa6\\xbc\\xe0\\xa6\\xbe\\xe0\\xa6\\xb0 \\xe0\\xa6\\x9d\\xe0\\xa7\\x81\\xe0\\xa6\\xae\\xe0\\xa6\\x95\\xe0\\xa7\\x8b \\xe0\\xa6\\xa4\\xe0\\xa7\\x87 \\xe0\\xa6\\x95\\xe0\\xa6\\xbf \\xe0\\xa6\\xb0\\xe0\\xa7\\x81\\xe0\\xa6\\xaa \\xe0\\xa6\\x96\\xe0\\xa7\\x8b\\xe0\\xa6\\xb2\\xe0\\xa7\\x87 \\xe0\\xa6\\x97\\xe0\\xa7\\x8b\\\\n\\xe0\\xa6\\xb0\\xe0\\xa7\\x81\\xe0\\xa6\\xaa \\xe0\\xa6\\x96\\xe0\\xa7\\x8b\\xe0\\xa6\\xb2\\xe0\\xa7\\x87 \\xe0\\xa6\\x95\\xe0\\xa6\\xbf \\xe0\\xa6\\x95\\xe0\\xa6\\xbe\\xe0\\xa6\\x81\\xe0\\xa6\\x95\\xe0\\xa6\\xa8 \\xe0\\xa6\\x9a\\xe0\\xa7\\x81\\xe0\\xa6\\x81\\xe0\\xa6\\xa1\\xe0\\xa6\\xbc\\xe0\\xa6\\xbf\\xe0\\xa6\\xb0 \\xe0\\xa6\\x95\\xe0\\xa6\\xa8\\xe0\\xa7\\x8d\\xe0\\xa6\\xa0 \\xe0\\xa6\\xb9\\xe0\\xa6\\xbe\\xe0\\xa6\\xb0\\xe0\\xa7\\x87\\xe0\\xa5\\xa4\\\\n\\xe0\\xa6\\xac\\xe0\\xa6\\xb8\\xe0\\xa6\\xa8\\xe0\\xa7\\x8d\\xe0\\xa6\\xa4\\xe0\\xa6\\x95\\xe0\\xa7\\x87 \\xe0\\xa6\\x95\\xe0\\xa7\\x8b\\xe0\\xa6\\xa8 \\xe0\\xa6\\x9c\\xe0\\xa6\\xa1\\xe0\\xa6\\xbc\\xe0\\xa7\\x8b\\xe0\\xa6\\xaf\\xe0\\xa6\\xbc\\xe0\\xa6\\xbe\\xe0\\xa6\\xb0 \\xe0\\xa6\\x95\\xe0\\xa7\\x87 \\xe0\\xa6\\xb8\\xe0\\xa6\\xbe\\xe0\\xa6\\x9c\\xe0\\xa6\\xbe\\xe0\\xa6\\xac\\xe0\\xa7\\x87\\\\n\\xe0\\xa6\\xa8\\xe0\\xa6\\xa6\\xe0\\xa7\\x80\\xe0\\xa6\\xb0\\xe0\\xa7\\x87 \\xe0\\xa6\\x97\\xe0\\xa6\\xbe\\xe0\\xa6\\xa8 \\xe0\\xa6\\x95\\xe0\\xa7\\x8b\\xe0\\xa6\\xa8 \\xe0\\xa6\\xac\\xe0\\xa6\\xbe\\xe0\\xa6\\x81\\xe0\\xa6\\xb6\\xe0\\xa6\\xbf\\xe0\\xa6\\xa4\\xe0\\xa7\\x87 \\xe0\\xa6\\x95\\xe0\\xa7\\x87 \\xe0\\xa6\\xac\\xe0\\xa6\\xbe\\xe0\\xa6\\x9c\\xe0\\xa6\\xbe\\xe0\\xa6\\xac\\xe0\\xa7\\x87\\\\n\\xe0\\xa6\\x9a\\xe0\\xa6\\xa8\\xe0\\xa7\\x8d\\xe0\\xa6\\xa6\\xe0\\xa7\\x8d\\xe0\\xa6\\xb0\\xe0\\xa6\\xbf\\xe0\\xa6\\xae\\xe0\\xa6\\xbe\\xe0\\xa6\\xb0\\xe0\\xa7\\x87 \\xe0\\xa6\\x95\\xe0\\xa7\\x87 \\xe0\\xa6\\xaa\\xe0\\xa6\\xa1\\xe0\\xa6\\xbc\\xe0\\xa6\\xbe\\xe0\\xa6\\xac\\xe0\\xa7\\x87 \\xe0\\xa6\\x85\\xe0\\xa6\\xb2\\xe0\\xa6\\x82\\xe0\\xa6\\x95\\xe0\\xa6\\xbe\\xe0\\xa6\\xb0\\xe0\\xa7\\x87\\xe0\\xa5\\xa4\\\\n\\xe0\\xa6\\xa8\\xe0\\xa6\\xbf\\xe0\\xa6\\x9c\\xe0\\xa7\\x87\\xe0\\xa6\\xb0 \\xe0\\xa6\\x95\\xe0\\xa6\\xbe\\xe0\\xa6\\x9b\\xe0\\xa7\\x87 \\xe0\\xa6\\xa8\\xe0\\xa6\\xbf\\xe0\\xa6\\x9c\\xe0\\xa7\\x87\\xe0\\xa6\\x87 \\xe0\\xa6\\xa4\\xe0\\xa7\\x81\\xe0\\xa6\\xae\\xe0\\xa6\\xbf \\xe0\\xa6\\xaa\\xe0\\xa7\\x8d\\xe0\\xa6\\xb0\\xe0\\xa6\\xb6\\xe0\\xa7\\x8d\\xe0\\xa6\\xa8 \\xe0\\xa6\\x95\\xe0\\xa6\\xb0\\xe0\\xa7\\x8b\\\\n\\xe0\\xa6\\xb9\\xe0\\xa7\\x8d\\xe0\\xa6\\xb0\\xe0\\xa6\\xbf\\xe0\\xa6\\xa6\\xe0\\xa6\\xaf\\xe0\\xa6\\xbc \\xe0\\xa6\\xa4\\xe0\\xa7\\x8b\\xe0\\xa6\\xae\\xe0\\xa6\\xbe\\xe0\\xa6\\xb0 \\xe0\\xa6\\x95\\xe0\\xa7\\x8b\\xe0\\xa6\\xa8 \\xe0\\xa6\\x95\\xe0\\xa6\\xbe\\xe0\\xa6\\xae\\xe0\\xa6\\xa8\\xe0\\xa6\\xbe\\xe0\\xa6\\xaf\\xe0\\xa6\\xbc \\xe0\\xa6\\xa5\\xe0\\xa6\\xb0\\xe0\\xa6\\xa5\\xe0\\xa6\\xb0\\\\n\\xe0\\xa6\\x86\\xe0\\xa6\\x95\\xe0\\xa7\\x81\\xe0\\xa6\\xb2 \\xe0\\xa6\\xa4\\xe0\\xa7\\x8b\\xe0\\xa6\\xae\\xe0\\xa6\\xbe\\xe0\\xa6\\xb0 \\xe0\\xa6\\xa4\\xe0\\xa7\\x83\\xe0\\xa6\\xb7\\xe0\\xa7\\x8d\\xe0\\xa6\\xa3\\xe0\\xa6\\xbe \\xe0\\xa6\\xa1\\xe0\\xa6\\xbe\\xe0\\xa6\\x95\\xe0\\xa7\\x87 \\xe0\\xa6\\x95\\xe0\\xa7\\x8b\\xe0\\xa6\\xa8 \\xe0\\xa6\\x86\\xe0\\xa6\\xae\\xe0\\xa6\\xbe\\xe0\\xa6\\xb0\\xe0\\xa7\\x87\\xe0\\xa5\\xa4\\xe0\\xa5\\xa4\",\\r\\n   \"Mood\": \"\\xe0\\xa6\\xac\\xe0\\xa7\\x87\\xe0\\xa6\\xa6\\xe0\\xa6\\xa8\\xe0\\xa6\\xbe\"\\r\\n },\\r\\n {\\r\\n   \"title\": \"\\xe0\\xa6\\xa4\\xe0\\xa7\\x8b\\xe0\\xa6\\xae\\xe0\\xa6\\xbe\\xe0\\xa6\\xb0 \\xe0\\xa6\\xae\\xe0\\xa6\\xa8\\xe0\\xa7\\x87 \\xe0\\xa6\\xab\\xe0\\xa7\\x81\\xe0\\xa6\\x9f\\xe0\\xa6\\xac\\xe0\\xa7\\x87 \\xe0\\xa6\\xaf\\xe0\\xa6\\xac\\xe0\\xa7\\x87\",\\r\\n   \"category\": \"\\xe0\\xa6\\xa8\\xe0\\xa6\\x9c\\xe0\\xa6\\xb0\\xe0\\xa7\\x81\\xe0\\xa6\\xb2 \\xe0\\xa6\\x97\\xe0\\xa7\\x80\\xe0\\xa6\\xa4\\xe0\\xa6\\xbf\",\\r\\n   \"lyrics\": \"\\xe0\\xa6\\xa4\\xe0\\xa7\\x8b\\xe0\\xa6\\xae\\xe0\\xa6\\xbe\\xe0\\xa6\\xb0 \\xe0\\xa6\\xae\\xe0\\xa6\\xa8\\xe0\\xa7\\x87 \\xe0\\xa6\\xab\\xe0\\xa7\\x81\\xe0\\xa6\\x9f\\xe0\\xa6\\xac\\xe0\\xa7\\x87 \\xe0\\xa6\\xaf\\xe0\\xa6\\xac\\xe0\\xa7\\x87 \\xe0\\xa6\\xaa\\xe0\\xa7\\x8d\\xe0\\xa6\\xb0\\xe0\\xa6\\xa5\\xe0\\xa6\\xae \\xe0\\xa6\\xae\\xe0\\xa7\\x81\\xe0\\xa6\\x95\\xe0\\xa7\\x81\\xe0\\xa6\\xb2\\xe0\\xa5\\xa4\\\\n\\xe0\\xa6\\xaa\\xe0\\xa7\\x8d\\xe0\\xa6\\xb0\\xe0\\xa6\\xbf\\xe0\\xa6\\xaf\\xe0\\xa6\\xbc \\xe0\\xa6\\xb9\\xe0\\xa7\\x87 \\xe0\\xa6\\xaa\\xe0\\xa7\\x8d\\xe0\\xa6\\xb0\\xe0\\xa6\\xbf\\xe0\\xa6\\xaf\\xe0\\xa6\\xbc \\xe0\\xa6\\x86\\xe0\\xa6\\xae\\xe0\\xa6\\xbe\\xe0\\xa6\\xb0\\xe0\\xa7\\x87 \\xe0\\xa6\\xa6\\xe0\\xa6\\xbf\\xe0\\xa6\\x93 \\xe0\\xa6\\xb8\\xe0\\xa7\\x87 \\xe0\\xa6\\xaa\\xe0\\xa7\\x8d\\xe0\\xa6\\xb0\\xe0\\xa7\\x87\\xe0\\xa6\\xae\\xe0\\xa7\\x87\\xe0\\xa6\\xb0 \\xe0\\xa6\\xae\\xe0\\xa7\\x81\\xe0\\xa6\\x95\\xe0\\xa7\\x81\\xe0\\xa6\\xb2\\xe0\\xa5\\xa4\\xe0\\xa5\\xa4\\\\n\\xe0\\xa6\\xa6\\xe0\\xa7\\x80\\xe0\\xa6\\xb0\\xe0\\xa6\\x98 \\xe0\\xa6\\xac\\xe0\\xa6\\xb0\\xe0\\xa6\\xb7 \\xe0\\xa6\\xae\\xe0\\xa6\\xbe\\xe0\\xa6\\xb8 \\xe0\\xa6\\xa4\\xe0\\xa6\\xbe\\xe0\\xa6\\xb9\\xe0\\xa6\\xbe\\xe0\\xa6\\xb0\\xe0\\xa6\\xbf \\xe0\\xa6\\x86\\xe0\\xa6\\xb6\\xe0\\xa7\\x87\\\\n\\xe0\\xa6\\x9c\\xe0\\xa6\\xbe\\xe0\\xa6\\x97\\xe0\\xa6\\xbf\\xe0\\xa6\\xaf\\xe0\\xa6\\xbc\\xe0\\xa6\\xbe \\xe0\\xa6\\xb0\\xe0\\xa6\\xac \\xe0\\xa6\\xa4\\xe0\\xa6\\xac \\xe0\\xa6\\xa6\\xe0\\xa7\\x81\\xe0\\xa6\\xaf\\xe0\\xa6\\xbc\\xe0\\xa6\\xbe\\xe0\\xa6\\xb0-\\xe0\\xa6\\xaa\\xe0\\xa6\\xbe\\xe0\\xa6\\xb6\\xe0\\xa7\\x87,\\\\n\\xe0\\xa6\\xac\\xe0\\xa6\\xb9\\xe0\\xa6\\xbf\\xe0\\xa6\\xac\\xe0\\xa7\\x87 \\xe0\\xa6\\x95\\xe0\\xa6\\xac\\xe0\\xa7\\x87 \\xe0\\xa6\\xab\\xe0\\xa7\\x81\\xe0\\xa6\\xb2-\\xe0\\xa6\\xab\\xe0\\xa7\\x81\\xe0\\xa6\\x9f\\xe0\\xa6\\xbe\\xe0\\xa6\\xa8\\xe0\\xa7\\x8b\\\\n\\xe0\\xa6\\xa6\\xe0\\xa6\\x96\\xe0\\xa6\\xbf\\xe0\\xa6\\xa8\\xe0\\xa6\\xbe \\xe0\\xa6\\xac\\xe0\\xa6\\xbe\\xe0\\xa6\\xa4\\xe0\\xa6\\xbe\\xe0\\xa6\\xb8 \\xe0\\xa6\\x85\\xe0\\xa6\\xa8\\xe0\\xa7\\x81\\xe0\\xa6\\x95\\xe0\\xa7\\x82\\xe0\\xa6\\xb2\\xe0\\xa5\\xa4\\xe0\\xa5\\xa4\\\\n\\xe0\\xa6\\x86\\xe0\\xa6\\xb0 \\xe0\\xa6\\x95\\xe0\\xa6\\xbe\\xe0\\xa6\\xb0\\xe0\\xa7\\x87 \\xe0\\xa6\\xa6\\xe0\\xa6\\xbe\\xe0\\xa6\\x93 \\xe0\\xa6\\xaf\\xe0\\xa6\\xa6\\xe0\\xa6\\xbf \\xe0\\xa6\\x86\\xe0\\xa6\\xae\\xe0\\xa6\\xbe\\xe0\\xa6\\xb0 \\xe0\\xa6\\xb8\\xe0\\xa7\\x87 \\xe0\\xa6\\xa7\\xe0\\xa7\\x8d\\xe0\\xa6\\xaf\\xe0\\xa6\\xbe\\xe0\\xa6\\xa8\\xe0\\xa7\\x87\\xe0\\xa6\\xb0 \\xe0\\xa6\\x95\\xe0\\xa7\\x81\\xe0\\xa6\\xb8\\xe0\\xa7\\x81\\xe0\\xa6\\xae\\\\n\\xe0\\xa6\\x95\\xe0\\xa7\\x8d\\xe0\\xa6\\xb7\\xe0\\xa6\\xa4\\xe0\\xa6\\xbf \\xe0\\xa6\\xa8\\xe0\\xa6\\xbe\\xe0\\xa6\\x87 \\xe0\\xa6\\x93\\xe0\\xa6\\x97\\xe0\\xa7\\x8b \\xe0\\xa6\\xaa\\xe0\\xa7\\x8d\\xe0\\xa6\\xb0\\xe0\\xa6\\xbf\\xe0\\xa6\\xaf\\xe0\\xa6\\xbc \\xe0\\xa6\\xad\\xe0\\xa6\\xbe\\xe0\\xa6\\x99\\xe0\\xa7\\x81\\xe0\\xa6\\x95 \\xe0\\xa6\\x8f \\xe0\\xa6\\x85\\xe0\\xa6\\x95\\xe0\\xa6\\xb0\\xe0\\xa7\\x81\\xe0\\xa6\\xa3 \\xe0\\xa6\\x98\\xe0\\xa7\\x81\\xe0\\xa6\\xae\\xe0\\xa5\\xa4\\\\n\\xe0\\xa6\\x97\\xe0\\xa7\\x81\\xe0\\xa6\\x9e\\xe0\\xa7\\x8d\\xe0\\xa6\\x9c\\xe0\\xa6\\xb0\\xe0\\xa6\\xbf\\xe2\\x80\\x99 \\xe0\\xa6\\x97\\xe0\\xa7\\x81\\xe0\\xa6\\x9e\\xe0\\xa7\\x8d\\xe0\\xa6\\x9c\\xe0\\xa6\\xb0\\xe0\\xa6\\xbf\\xe2\\x80\\x99 \\xe0\\xa6\\xad\\xe0\\xa7\\x8d\\xe0\\xa6\\xb0\\xe0\\xa6\\xae\\xe0\\xa6\\xb0 \\xe0\\xa6\\xb8\\xe0\\xa6\\xae\\\\n\\xe0\\xa6\\x95\\xe0\\xa6\\xbe\\xe0\\xa6\\x81\\xe0\\xa6\\xa6\\xe0\\xa6\\xbf\\xe0\\xa6\\xac \\xe0\\xa6\\xa4\\xe0\\xa7\\x8b\\xe0\\xa6\\xae\\xe0\\xa6\\xbe\\xe0\\xa6\\xb0\\xe0\\xa7\\x87 \\xe0\\xa6\\x98\\xe0\\xa6\\xbf\\xe0\\xa6\\xb0\\xe0\\xa6\\xbf\\xe2\\x80\\x99 \\xe0\\xa6\\xaa\\xe0\\xa7\\x8d\\xe0\\xa6\\xb0\\xe0\\xa6\\xbf\\xe0\\xa6\\xaf\\xe0\\xa6\\xbc\\xe0\\xa6\\xa4\\xe0\\xa6\\xae\\\\n\\xe0\\xa6\\xb9\\xe0\\xa7\\x81\\xe0\\xa6\\xa4\\xe0\\xa6\\xbe\\xe0\\xa6\\xb8 \\xe0\\xa6\\xac\\xe0\\xa6\\xbe\\xe0\\xa6\\xa4\\xe0\\xa6\\xbe\\xe0\\xa6\\xb8 \\xe0\\xa6\\xb8\\xe0\\xa6\\xae \\xe0\\xa6\\x95\\xe0\\xa7\\x81\\xe0\\xa6\\xb8\\xe0\\xa7\\x81\\xe0\\xa6\\xae \\xe0\\xa6\\xab\\xe0\\xa7\\x81\\xe0\\xa6\\x9f\\xe0\\xa6\\xbe\\xe0\\xa6\\xaf\\xe0\\xa6\\xbc\\xe0\\xa7\\x87\\\\n\\xe0\\xa6\\x9a\\xe0\\xa6\\xb2\\xe0\\xa7\\x87 \\xe0\\xa6\\xaf\\xe0\\xa6\\xbe\\xe0\\xa6\\xac \\xe0\\xa6\\xa6\\xe0\\xa7\\x82\\xe0\\xa6\\xb0\\xe0\\xa7\\x87 \\xe0\\xa6\\xac\\xe0\\xa7\\x87\\xe0\\xa6\\xad\\xe0\\xa7\\x81\\xe0\\xa6\\xb2\\xe0\\xa5\\xa4\\xe0\\xa5\\xa4\",\\r\\n   \"Mood\": \"\\xe0\\xa6\\xaa\\xe0\\xa7\\x8d\\xe0\\xa6\\xb0\\xe0\\xa7\\x87\\xe0\\xa6\\xae\"\\r\\n },\\r\\n {\\r\\n   \"title\": \"\\xe0\\xa6\\xa6\\xe0\\xa7\\x9f\\xe0\\xa6\\xbe\\xe0\\xa6\\xb2 \\xe0\\xa6\\x9a\\xe0\\xa6\\xbe\\xe0\\xa6\\xa8\\xe0\\xa7\\x8d\\xe0\\xa6\\xa6\\xe0\\xa7\\x87\\xe0\\xa6\\xb0 \\xe0\\xa6\\xaa\\xe0\\xa6\\xbe\\xe0\\xa7\\x9f\\xe0\\xa7\\x87\\xe0\\xa6\\xb0 \\xe0\\xa6\\xa6\\xe0\\xa7\\x81\\xe0\\xa6\\xb2\\xe0\\xa6\\xbe \\xe0\\xa6\\x86\\xe0\\xa6\\xae\\xe0\\xa6\\xbf \\xe0\\xa6\\xaf\\xe0\\xa7\\x87\\xe0\\xa6\\xa8 \\xe0\\xa6\\xb9\\xe0\\xa6\\x87\\xe0\\xa6\\xa4\\xe0\\xa7\\x87 \\xe0\\xa6\\xaa\\xe0\\xa6\\xbe\\xe0\\xa6\\xb0\\xe0\\xa6\\xbf\",\\r\\n   \"category\": \"\\xe0\\xa6\\xac\\xe0\\xa6\\xbe\\xe0\\xa6\\x89\\xe0\\xa6\\xb2\",\\r\\n   \"lyrics\": \"\\xe0\\xa6\\x86\\xe0\\xa6\\xae\\xe0\\xa6\\xbf \\xe0\\xa6\\x95\\xe0\\xa7\\x81\\xe0\\xa6\\x95\\xe0\\xa7\\x81\\xe0\\xa6\\xb0 \\xe0\\xa6\\xb9\\xe0\\xa6\\x87\\xe0\\xa7\\x9f\\xe0\\xa6\\xbe \\xe0\\xa6\\xa6\\xe0\\xa7\\x87\\xe0\\xa6\\x87 \\xe0\\xa6\\xaa\\xe0\\xa6\\xbe\\xe0\\xa6\\xb9\\xe0\\xa6\\xbe\\xe0\\xa7\\x9c\\xe0\\xa6\\xbe\\\\n\\xe0\\xa6\\xa6\\xe0\\xa7\\x9f\\xe0\\xa6\\xbe\\xe0\\xa6\\xb2 \\xe0\\xa6\\x9a\\xe0\\xa6\\xbe\\xe0\\xa6\\xa8\\xe0\\xa7\\x8d\\xe0\\xa6\\xa6\\xe0\\xa7\\x87\\xe0\\xa6\\xb0 \\xe0\\xa6\\x98\\xe0\\xa7\\x9c \\xe0\\xa6\\xac\\xe0\\xa6\\xbe\\xe0\\xa7\\x9c\\xe0\\xa6\\xbf\\\\n\\xe0\\xa6\\x86\\xe0\\xa6\\xae\\xe0\\xa6\\xbf \\xe0\\xa6\\xaf\\xe0\\xa7\\x87\\xe0\\xa6\\xa8 \\xe0\\xa6\\xb9\\xe0\\xa6\\x87\\xe0\\xa6\\xa4\\xe0\\xa7\\x87 \\xe0\\xa6\\xaa\\xe0\\xa6\\xbe\\xe0\\xa6\\xb0\\xe0\\xa6\\xbf\\xe2\\x80\\xa6\\xe2\\x80\\xa6.\\\\n\\xe0\\xa6\\xa6\\xe0\\xa7\\x9f\\xe0\\xa6\\xbe\\xe0\\xa6\\xb2 \\xe0\\xa6\\x86\\xe0\\xa6\\xae\\xe0\\xa6\\xbe\\xe0\\xa6\\xb0 \\xe0\\xa6\\x85\\xe0\\xa6\\xaf\\xe0\\xa7\\x81 \\xe0\\xa6\\x95\\xe0\\xa6\\xb0\\xe0\\xa7\\x87 \\xe0\\xa6\\xaf\\xe0\\xa7\\x87\\xe0\\xa6\\x87 \\xe0\\xa6\\x98\\xe0\\xa6\\x9f\\xe0\\xa6\\xbf \\xe0\\xa6\\xa6\\xe0\\xa6\\xbf\\xe0\\xa7\\x9f\\xe0\\xa6\\xbe\\xe0\\xa6\\xbf\\\\n\\xe0\\xa6\\x86\\xe0\\xa6\\xae\\xe0\\xa6\\xbf \\xe0\\xa6\\xaf\\xe0\\xa7\\x87\\xe0\\xa6\\xa8 \\xe0\\xa6\\xa5\\xe0\\xa6\\xbe\\xe0\\xa6\\x95\\xe0\\xa6\\xa4\\xe0\\xa7\\x87 \\xe0\\xa6\\xaa\\xe0\\xa6\\xbe\\xe0\\xa6\\xb0\\xe0\\xa6\\xbf \\xe0\\xa6\\xb8\\xe0\\xa7\\x87\\xe0\\xa6\\x87 \\xe0\\xa6\\x98\\xe0\\xa6\\x9f\\xe0\\xa6\\xbf \\xe0\\xa6\\xb9\\xe0\\xa6\\x87\\xe0\\xa7\\x9f\\xe0\\xa6\\xbe\\\\n\\xe0\\xa6\\xa6\\xe0\\xa7\\x9f\\xe0\\xa6\\xbe\\xe0\\xa6\\xb2 \\xe0\\xa6\\x9a\\xe0\\xa6\\xbe\\xe0\\xa6\\xa8\\xe0\\xa7\\x8d\\xe0\\xa6\\xa6\\xe0\\xa7\\x87\\xe0\\xa6\\xb0 \\xe0\\xa6\\xac\\xe0\\xa6\\xbe\\xe0\\xa7\\x9c\\xe0\\xa6\\xbf\\xe0\\xa6\\xb0 \\xe0\\xa6\\x9d\\xe0\\xa6\\xbe\\xe0\\xa6\\xb0\\xe0\\xa7\\x81 \\xe0\\xa6\\x86\\xe0\\xa6\\xae\\xe0\\xa6\\xbf \\xe0\\xa6\\xaf\\xe0\\xa7\\x87\\xe0\\xa6\\xa8 \\xe0\\xa6\\xb9\\xe0\\xa6\\x87\\xe0\\xa6\\xa4\\xe0\\xa7\\x87 \\xe0\\xa6\\xaa\\xe0\\xa6\\xbe\\xe0\\xa6\\xb0\\xe0\\xa6\\xbf\\\\n\\xe0\\xa6\\xa6\\xe0\\xa7\\x9f\\xe0\\xa6\\xbe\\xe0\\xa6\\xb2 \\xe0\\xa6\\x93 \\xe0\\xa6\\xa6\\xe0\\xa7\\x9f\\xe0\\xa6\\xbe\\xe0\\xa6\\xb2 \\xe0\\xa6\\x86\\xe0\\xa6\\xae\\xe0\\xa6\\xbe\\xe0\\xa6\\xb0 \\xe0\\xa6\\x96\\xe0\\xa6\\xbe\\xe0\\xa6\\x9f\\xe0\\xa7\\x87 \\xe0\\xa6\\x98\\xe0\\xa7\\x81\\xe0\\xa6\\xae\\xe0\\xa6\\xbe\\xe0\\xa7\\x9f\\\\n\\xe0\\xa6\\xaf\\xe0\\xa7\\x87\\xe0\\xa6\\x87 \\xe0\\xa6\\xac\\xe0\\xa6\\xbf\\xe0\\xa6\\xb8\\xe0\\xa6\\xbe\\xe0\\xa6\\xa8\\xe0\\xa6\\xbe\\xe0\\xa6\\xb0 \\xe0\\xa6\\xaa\\xe0\\xa6\\xb0 \\xe0\\xa6\\x86\\xe0\\xa6\\xae\\xe0\\xa6\\xbf \\xe0\\xa6\\xaf\\xe0\\xa7\\x87\\xe0\\xa6\\xa8 \\xe0\\xa6\\xa5\\xe0\\xa6\\xbe\\xe0\\xa6\\x95\\xe0\\xa6\\xa4\\xe0\\xa7\\x87 \\xe0\\xa6\\xaa\\xe0\\xa6\\xbe\\xe0\\xa6\\xb0\\xe0\\xa6\\xbf \\xe0\\xa6\\xb8\\xe0\\xa7\\x87\\xe0\\xa6\\x87 \\xe0\\xa6\\xac\\xe0\\xa6\\xb0\\xe0\\xa6\\xbe\\xe0\\xa6\\xac\\xe0\\xa6\\xb0\\\\n\\xe0\\xa6\\xa6\\xe0\\xa7\\x87\\xe0\\xa6\\x93\\xe0\\xa7\\x9f\\xe0\\xa6\\xbe\\xe0\\xa6\\xa8 \\xe0\\xa6\\x86\\xe0\\xa6\\x95\\xe0\\xa7\\x8d\\xe0\\xa6\\x95\\xe0\\xa6\\xbe\\xe0\\xa6\\xb8\\xe0\\xa7\\x87\\xe0\\xa6\\xb0 \\xe0\\xa6\\x8f\\xe0\\xa6\\x87 \\xe0\\xa6\\xae\\xe0\\xa6\\xb0 \\xe0\\xa6\\xac\\xe0\\xa7\\x87\\xe0\\xa6\\xb2\\xe0\\xa6\\xbe\\xe0\\xa7\\x9f \\xe0\\xa6\\xae\\xe0\\xa7\\x81\\xe0\\xa6\\xb0\\xe0\\xa6\\xb6\\xe0\\xa6\\xbf\\xe0\\xa6\\xa6\\\\n\\xe0\\xa6\\xb0\\xe0\\xa7\\x81\\xe0\\xa6\\xaa \\xe0\\xa6\\xa6\\xe0\\xa7\\x87\\xe0\\xa6\\x96\\xe0\\xa6\\xa4\\xe0\\xa7\\x87 \\xe0\\xa6\\xaa\\xe0\\xa6\\xbe\\xe0\\xa6\\x87\\xe2\\x80\\xa6\\\\n\\xe0\\xa6\\x86\\xe0\\xa6\\xae\\xe0\\xa6\\xbf \\xe0\\xa6\\xaf\\xe0\\xa7\\x87\\xe0\\xa6\\xa8 \\xe0\\xa6\\xb9\\xe0\\xa6\\x87\\xe0\\xa6\\xa4\\xe0\\xa7\\x87 \\xe0\\xa6\\xaa\\xe0\\xa6\\xbe\\xe0\\xa6\\xb0\\xe0\\xa6\\xbf\",\\r\\n   \"Mood\": \"\\xe0\\xa6\\xa7\\xe0\\xa6\\xbe\\xe0\\xa6\\xb0\\xe0\\xa7\\x8d\\xe0\\xa6\\xae\\xe0\\xa6\\xbf\\xe0\\xa6\\x95\"\\r\\n },\\r\\n {\\r\\n   \"title\": \"\\xe0\\xa6\\xac\\xe0\\xa7\\x8b\\xe0\\xa6\\xb2\\xe0\\xa7\\x8b \\xe0\\xa6\\xa8\\xe0\\xa6\\xbe \\xe0\\xa6\\xac\\xe0\\xa7\\x8b\\xe0\\xa6\\xb2\\xe0\\xa7\\x8b \\xe0\\xa6\\xa8\\xe0\\xa6\\xbe \\xe0\\xa6\\x93\\xe0\\xa6\\xb2\\xe0\\xa7\\x8b \\xe0\\xa6\\xb8\\xe0\\xa6\\x87\",\\r\\n   \"category\": \"\\xe0\\xa6\\xa8\\xe0\\xa6\\x9c\\xe0\\xa6\\xb0\\xe0\\xa7\\x81\\xe0\\xa6\\xb2 \\xe0\\xa6\\x97\\xe0\\xa7\\x80\\xe0\\xa6\\xa4\\xe0\\xa6\\xbf\",\\r\\n   \"lyrics\": \"\\xe0\\xa6\\xac\\xe0\\xa7\\x8b\\xe0\\xa6\\xb2\\xe0\\xa7\\x8b \\xe0\\xa6\\xa8\\xe0\\xa6\\xbe \\xe0\\xa6\\xac\\xe0\\xa7\\x8b\\xe0\\xa6\\xb2\\xe0\\xa7\\x8b \\xe0\\xa6\\xa8\\xe0\\xa6\\xbe \\xe0\\xa6\\x93\\xe0\\xa6\\xb2\\xe0\\xa7\\x8b \\xe0\\xa6\\xb8\\xe0\\xa6\\x87\\\\n\\xe0\\xa6\\x86\\xe0\\xa6\\xb0 \\xe0\\xa6\\xb8\\xe0\\xa7\\x87 \\xe0\\xa6\\x95\\xe0\\xa6\\xa5\\xe0\\xa6\\xbe\\xe0\\xa5\\xa4\\xe0\\xa5\\xa4\\\\n\\xe0\\xa6\\xa4\\xe0\\xa6\\xb0\\xe0\\xa7\\x81 \\xe0\\xa6\\x95\\xe0\\xa6\\xbf \\xe0\\xa6\\xb2\\xe0\\xa6\\xa4\\xe0\\xa6\\xbe\\xe0\\xa6\\xb0 \\xe0\\xa6\\x95\\xe0\\xa6\\xbe\\xe0\\xa6\\x9b\\xe0\\xa7\\x87\\\\n\\xe0\\xa6\\x8f\\xe0\\xa6\\xb8\\xe0\\xa7\\x87 \\xe0\\xa6\\x95\\xe0\\xa6\\xad\\xe0\\xa7\\x81 \\xe0\\xa6\\xaa\\xe0\\xa7\\x8d\\xe0\\xa6\\xb0\\xe0\\xa7\\x87\\xe0\\xa6\\xae \\xe0\\xa6\\xaf\\xe0\\xa6\\xbe\\xe0\\xa6\\x9a\\xe0\\xa7\\x87\\\\n\\xe0\\xa6\\xa4\\xe0\\xa6\\xb0\\xe0\\xa7\\x81 \\xe0\\xa6\\xac\\xe0\\xa6\\xbf\\xe0\\xa6\\xa8\\xe0\\xa6\\xbe \\xe0\\xa6\\xa8\\xe0\\xa6\\xbe\\xe0\\xa6\\xb9\\xe0\\xa6\\xbf \\xe0\\xa6\\xac\\xe0\\xa6\\xbe\\xe0\\xa6\\x81\\xe0\\xa6\\x9a\\xe0\\xa7\\x87\\\\n\\xe0\\xa6\\x85\\xe0\\xa6\\xb8\\xe0\\xa6\\xb9\\xe0\\xa6\\xbe\\xe0\\xa6\\xaf\\xe0\\xa6\\xbc \\xe0\\xa6\\xb2\\xe0\\xa6\\xa4\\xe0\\xa6\\xbe\\xe0\\xa5\\xa4\\xe0\\xa5\\xa4\\\\n\\xe0\\xa6\\xad\\xe0\\xa7\\x81\\xe0\\xa6\\xb2\\xe0\\xa6\\xbf\\xe0\\xa6\\xa4\\xe0\\xa7\\x87 \\xe0\\xa6\\xaf\\xe0\\xa6\\xbe\\xe0\\xa6\\xb0 \\xe0\\xa6\\xa8\\xe0\\xa6\\xbe\\xe0\\xa6\\x87 \\xe0\\xa6\\xa4\\xe0\\xa7\\x81\\xe0\\xa6\\xb2\\xe0\\xa6\\xa8\\xe0\\xa6\\xbe\\\\n\\xe0\\xa6\\xb8\\xe0\\xa6\\x96\\xe0\\xa6\\xbf \\xe0\\xa6\\xa4\\xe0\\xa6\\xbe\\xe0\\xa6\\xb0 \\xe0\\xa6\\x95\\xe0\\xa6\\xa5\\xe0\\xa6\\xbe \\xe0\\xa6\\xa4\\xe0\\xa7\\x81\\xe0\\xa6\\xb2\\xe0\\xa7\\x8b \\xe0\\xa6\\xa8\\xe0\\xa6\\xbe\\\\n\\xe0\\xa6\\xaa\\xe0\\xa7\\x8d\\xe0\\xa6\\xb0\\xe0\\xa6\\xbe\\xe0\\xa6\\xa3\\xe0\\xa6\\xb9\\xe0\\xa7\\x80\\xe0\\xa6\\xa8 \\xe0\\xa6\\xaa\\xe0\\xa6\\xbe\\xe0\\xa6\\xb7\\xe0\\xa6\\xbe\\xe0\\xa6\\xa3\\xe0\\xa7\\x87 \\xe0\\xa6\\x97\\xe0\\xa6\\xa1\\xe0\\xa6\\xbc\\xe0\\xa6\\xbe\\\\n\\xe0\\xa6\\xb8\\xe0\\xa7\\x87 \\xe0\\xa6\\xaf\\xe0\\xa7\\x87 \\xe0\\xa6\\xa6\\xe0\\xa7\\x87\\xe0\\xa6\\xac\\xe0\\xa6\\xa4\\xe0\\xa6\\xbe\\xe0\\xa5\\xa4\\xe0\\xa5\\xa4\",\\r\\n   \"Mood\": \"\\xe0\\xa6\\xa7\\xe0\\xa6\\xbe\\xe0\\xa6\\xb0\\xe0\\xa7\\x8d\\xe0\\xa6\\xae\\xe0\\xa6\\xbf\\xe0\\xa6\\x95\"\\r\\n },\\r\\n {\\r\\n   \"title\": \"\\xe0\\xa6\\xae\\xe0\\xa6\\xbe\\xe0\\xa6\\x93\\xe0\\xa6\\xb2\\xe0\\xa6\\xbe\\xe0\\xa6\\xa8\\xe0\\xa6\\xbe\",\\r\\n   \"category\": \"\\xe0\\xa6\\xac\\xe0\\xa6\\xbe\\xe0\\xa6\\x89\\xe0\\xa6\\xb2\",\\r\\n   \"lyrics\": \"\\xe0\\xa6\\xa4\\xe0\\xa7\\x81\\xe0\\xa6\\xae\\xe0\\xa6\\xbf \\xe0\\xa6\\x8f\\xe0\\xa6\\xb8\\xe0\\xa6\\xae\\xe0\\xa7\\x87 \\xe0\\xa6\\x86\\xe0\\xa6\\x9c \\xe0\\xa6\\xaf\\xe0\\xa6\\xa4 \\xe0\\xa6\\xa4\\xe0\\xa6\\xb0\\xe0\\xa6\\xbe\\xe0\\xa6\\xa8\\xe0\\xa7\\x87 \\xe0\\xa6\\x93\\xe0\\xa6\\xb2\\xe0\\xa6\\xbe\\\\n\\xe0\\xa6\\x97\\xe0\\xa6\\xbe\\xe0\\xa6\\x89\\xe0\\xa6\\x9b\\xe0\\xa7\\x87\\xe0\\xa6\\xb2\\xe0\\xa6\\xbe\\xe0\\xa6\\xae \\xe0\\xa6\\xac\\xe0\\xa6\\xbe\\xe0\\xa6\\xac\\xe0\\xa6\\xbe \\xe0\\xa6\\xa8\\xe0\\xa7\\x81\\xe0\\xa6\\xb0\\xe0\\xa7\\x87 \\xe0\\xa6\\xae\\xe0\\xa6\\xbe\\xe0\\xa6\\x93\\xe0\\xa6\\xb2\\xe0\\xa6\\xbe \\xe0\\xa6\\xa4\\xe0\\xa7\\x81\\xe0\\xa6\\xae\\xe0\\xa6\\xbf \\xe0\\xa6\\x8f\\xe0\\xa6\\xb8\\xe0\\xa6\\xae\\xe0\\xa7\\x87\\\\n\\xe0\\xa6\\x86\\xe0\\xa6\\xaf\\xe0\\xa6\\xae \\xe0\\xa6\\xaf\\xe0\\xa6\\xa4 \\xe0\\xa6\\xa4\\xe0\\xa6\\xb0\\xe0\\xa6\\xbe\\xe0\\xa6\\xa8\\xe0\\xa7\\x87 \\xe0\\xa6\\x93\\xe0\\xa6\\xb2\\xe0\\xa6\\xbe\\xe2\\x80\\xa6..\\\\n\\xe0\\xa6\\x86\\xe0\\xa6\\xb2\\xe0\\xa7\\x80\\xe0\\xa6\\xab\\xe0\\xa7\\x87\\xe0\\xa6\\xa4\\xe0\\xa7\\x87 \\xe0\\xa6\\x93\\xe0\\xa6\\xb9\\xe0\\xa7\\x87 \\xe0\\xa6\\xa6\\xe0\\xa6\\xbe\\xe0\\xa6\\xb2\\xe0\\xa7\\x8d\\xe0\\xa6\\xb2\\xe0\\xa6\\xbe \\xe0\\xa6\\xb0\\xe0\\xa6\\xbe\\xe0\\xa6\\x96\\xe0\\xa6\\xbe\\xe0\\xa6\\xb2\\xe0\\xa6\\xbf\\xe0\\xa6\\xa4\\xe0\\xa7\\x87 \\xe0\\xa6\\x96\\xe0\\xa6\\xbe\\xe0\\xa6\\xb2\\xe0\\xa6\\xbf\\xe0\\xa6\\x95\\xe0\\xa7\\x81\\xe0\\xa6\\xb2\\xe0\\xa7\\x8d\\xe0\\xa6\\xb2\\xe0\\xa6\\xbe\\\\n\\xe0\\xa6\\xa8\\xe0\\xa7\\x81\\xe0\\xa6\\xb0 \\xe0\\xa6\\xae\\xe0\\xa7\\x81\\xe0\\xa6\\xb9\\xe0\\xa6\\xbe\\xe0\\xa6\\xae\\xe0\\xa7\\x8d\\xe0\\xa6\\xae\\xe0\\xa6\\xa6 \\xe0\\xa6\\xb8\\xe0\\xa6\\xbe\\xe0\\xa6\\xb2\\xe0\\xa7\\x8d\\xe0\\xa6\\xb2\\xe0\\xa6\\xbf \\xe0\\xa6\\x93\\xe0\\xa6\\xb2\\xe0\\xa6\\xbe..\\\\n\\xe0\\xa6\\x86\\xe0\\xa6\\xae\\xe0\\xa6\\xbe\\xe0\\xa6\\xb0 \\xe0\\xa6\\xac\\xe0\\xa6\\xbe\\xe0\\xa6\\xac\\xe0\\xa6\\xbe \\xe0\\xa6\\xae\\xe0\\xa6\\xbe\\xe0\\xa6\\x93\\xe0\\xa6\\xb2\\xe0\\xa6\\xbe\\xe0\\xa6\\xa8\\xe0\\xa6\\xbe\\\\n\\xe0\\xa6\\x86\\xe0\\xa6\\x93\\xe0\\xa6\\xb2\\xe0\\xa6\\xbe\\xe0\\xa6\\xa6\\xe0\\xa7\\x87 \\xe0\\xa6\\xb0\\xe0\\xa6\\xbe\\xe0\\xa6\\xb8\\xe0\\xa7\\x81\\xe0\\xa6\\xb2 \\xe0\\xa6\\xae\\xe0\\xa6\\xa6\\xe0\\xa6\\xbf\\xe0\\xa6\\xa8\\xe0\\xa6\\xbe\\xe0\\xa6\\xb0 \\xe0\\xa6\\xab\\xe0\\xa7\\x81\\xe0\\xa6\\xb2 \\xe0\\xa6\\x86\\xe0\\xa6\\xae\\xe0\\xa6\\xbe\\xe0\\xa6\\xb0 \\xe0\\xa6\\xac\\xe0\\xa6\\xbe\\xe0\\xa6\\xac\\xe0\\xa6\\xbe \\xe0\\xa6\\xae\\xe0\\xa6\\xbe\\xe0\\xa6\\x93\\xe0\\xa6\\xb2\\xe0\\xa6\\xbe\\xe0\\xa6\\xa8\\xe0\\xa6\\xbe\\\\n\\xe0\\xa6\\x86\\xe0\\xa6\\xb2\\xe0\\xa6\\xbf\\xe0\\xa6\\xab\\xe0\\xa7\\x87\\xe0\\xa6\\xa4\\xe0\\xa7\\x87 \\xe0\\xa6\\x86\\xe0\\xa6\\x9b\\xe0\\xa7\\x8b \\xe0\\xa6\\xa4\\xe0\\xa7\\x81\\xe0\\xa6\\xae\\xe0\\xa6\\xbf \\xe0\\xa6\\xb2\\xe0\\xa6\\xbe\\xe0\\xa6\\xae\\xe0\\xa7\\x87\\xe0\\xa6\\xb0 \\xe0\\xa6\\xae\\xe0\\xa6\\xbe\\xe0\\xa6\\x9d\\xe0\\xa7\\x87 \\xe0\\xa6\\xa5\\xe0\\xa6\\xbe\\xe0\\xa6\\x95\\xe0\\xa6\\xbf \\xe0\\xa6\\x86\\xe0\\xa6\\xae\\xe0\\xa6\\xbf\\\\n\\xe0\\xa6\\xae\\xe0\\xa6\\xbf\\xe0\\xa6\\xae\\xe0\\xa7\\x87\\xe0\\xa6\\xa4\\xe0\\xa7\\x87 \\xe0\\xa6\\xae\\xe0\\xa7\\x8b\\xe0\\xa6\\xb9\\xe0\\xa6\\xbe\\xe0\\xa6\\xae\\xe0\\xa7\\x8d\\xe0\\xa6\\xae\\xe0\\xa6\\xbe\\xe0\\xa6\\xae \\xe0\\xa6\\xb8\\xe0\\xa7\\x87\\xe0\\xa6\\x9c\\xe0\\xa7\\x87 \\xe0\\xa6\\x95\\xe0\\xa6\\xb0\\xe0\\xa6\\xa4\\xe0\\xa7\\x87\\xe0\\xa6\\x9b\\xe0\\xa7\\x8b \\xe0\\xa6\\x95\\xe0\\xa6\\xa4 \\xe0\\xa6\\xac\\xe0\\xa6\\xbe\\xe0\\xa6\\xb9\\xe0\\xa6\\xbe\\xe0\\xa6\\xa8\\xe0\\xa6\\xbe\\xe2\\x80\\xa6\\\\n\\xe0\\xa6\\x86\\xe0\\xa6\\x93\\xe0\\xa6\\xb2\\xe0\\xa6\\xbe\\xe0\\xa6\\xa6\\xe0\\xa7\\x87 \\xe0\\xa6\\xb0\\xe0\\xa6\\xbe\\xe0\\xa6\\xb8\\xe0\\xa7\\x82\\xe0\\xa6\\xb2 \\xe0\\xa6\\xae\\xe0\\xa6\\xa6\\xe0\\xa6\\xbf\\xe0\\xa6\\xa8\\xe0\\xa6\\xbe\\xe0\\xa6\\xb0 \\xe2\\x80\\xa6\\xe2\\x80\\xa6\\xe2\\x80\\xa6..\\xe0\\xa6\\x90\\\\n\\xe0\\xa6\\x86\\xe0\\xa6\\xac\\xe0\\xa7\\x8d\\xe0\\xa6\\xa6\\xe0\\xa7\\x81\\xe0\\xa6\\xb2\\xe0\\xa7\\x8d\\xe0\\xa6\\xb2\\xe0\\xa6\\xbe\\xe0\\xa6\\xb0 \\xe0\\xa6\\xb9\\xe0\\xa6\\x87 \\xe0\\xa6\\x9a\\xe0\\xa6\\x96\\xe0\\xa7\\x8b \\xe0\\xa6\\x95\\xe0\\xa6\\xbe\\xe0\\xa6\\xa8\\xe0\\xa6\\xbe \\xe0\\xa6\\x9a\\xe0\\xa6\\xbf\\xe0\\xa6\\xa8\\xe0\\xa7\\x87 \\xe0\\xa6\\xa8\\xe0\\xa6\\xbe \\xe0\\xa6\\xb8\\xe0\\xa7\\x87 \\xe0\\xa6\\xaa\\xe0\\xa6\\xb0 \\xe0\\xa6\\x86\\xe0\\xa6\\xaa\\xe0\\xa6\\xa8\\xe0\\xa6\\xbe\\\\n\\xe0\\xa6\\x8f\\xe0\\xa6\\x87 \\xe0\\xa6\\xa6\\xe0\\xa7\\x81\\xe0\\xa6\\xa8\\xe0\\xa6\\xbf\\xe0\\xa7\\x9f\\xe0\\xa6\\xbe \\xe0\\xa6\\xb9\\xe0\\xa6\\xac\\xe0\\xa7\\x87 \\xe0\\xa6\\xab\\xe0\\xa6\\xbe\\xe0\\xa6\\xa8\\xe0\\xa6\\xbe\\\\n\\xe0\\xa6\\x86\\xe0\\xa6\\xae\\xe0\\xa6\\xbe\\xe0\\xa6\\xb0 \\xe0\\xa6\\xac\\xe0\\xa6\\xbe\\xe0\\xa6\\xac\\xe0\\xa6\\xbe \\xe0\\xa6\\xae\\xe0\\xa6\\xbe\\xe0\\xa6\\x93\\xe0\\xa6\\xb2\\xe0\\xa6\\xbe\\xe0\\xa6\\xa8\\xe0\\xa6\\xbe\\\\n\\xe0\\xa6\\x86\\xe0\\xa6\\x93\\xe0\\xa6\\xb2\\xe0\\xa6\\xbe\\xe0\\xa6\\xa6\\xe0\\xa7\\x87 \\xe0\\xa6\\xb0\\xe0\\xa6\\xbe\\xe0\\xa6\\xb8\\xe0\\xa7\\x82\\xe0\\xa6\\xb2 \\xe0\\xa6\\xae\\xe0\\xa6\\xa6\\xe0\\xa6\\xbf\\xe0\\xa6\\xa8\\xe0\\xa6\\xbe\\xe0\\xa6\\xb0 \\xe2\\x80\\xa6\\xe2\\x80\\xa6\\xe2\\x80\\xa6..\\xe0\\xa6\\x90\",\\r\\n   \"Mood\": \"\\xe0\\xa6\\xa7\\xe0\\xa6\\xbe\\xe0\\xa6\\xb0\\xe0\\xa7\\x8d\\xe0\\xa6\\xae\\xe0\\xa6\\xbf\\xe0\\xa6\\x95\"\\r\\n },\\r\\n {\\r\\n   \"title\": \"\\xe0\\xa6\\xae\\xe0\\xa7\\x83\\xe0\\xa6\\xa6\\xe0\\xa7\\x81\\xe0\\xa6\\xb2 \\xe0\\xa6\\xac\\xe0\\xa6\\xbe\\xe0\\xa6\\xaf\\xe0\\xa6\\xbc\\xe0\\xa7\\x87 \\xe0\\xa6\\xac\\xe0\\xa6\\x95\\xe0\\xa7\\x81\\xe0\\xa6\\xb2 \\xe0\\xa6\\x9b\\xe0\\xa6\\xbe\\xe0\\xa6\\xaf\\xe0\\xa6\\xbc\\xe0\\xa7\\x87\",\\r\\n   \"category\": \"\\xe0\\xa6\\xa8\\xe0\\xa6\\x9c\\xe0\\xa6\\xb0\\xe0\\xa7\\x81\\xe0\\xa6\\xb2 \\xe0\\xa6\\x97\\xe0\\xa7\\x80\\xe0\\xa6\\xa4\\xe0\\xa6\\xbf\",\\r\\n   \"lyrics\": \"\\xe0\\xa6\\xae\\xe0\\xa7\\x83\\xe0\\xa6\\xa6\\xe0\\xa7\\x81\\xe0\\xa6\\xb2 \\xe0\\xa6\\xac\\xe0\\xa6\\xbe\\xe0\\xa6\\xaf\\xe0\\xa6\\xbc\\xe0\\xa7\\x87 \\xe0\\xa6\\xac\\xe0\\xa6\\x95\\xe0\\xa7\\x81\\xe0\\xa6\\xb2 \\xe0\\xa6\\x9b\\xe0\\xa6\\xbe\\xe0\\xa6\\xaf\\xe0\\xa6\\xbc\\xe0\\xa7\\x87\\\\n\\xe0\\xa6\\x97\\xe0\\xa7\\x8b\\xe0\\xa6\\xaa\\xe0\\xa6\\xa8 \\xe0\\xa6\\xaa\\xe0\\xa6\\xbe\\xe0\\xa6\\xaf\\xe0\\xa6\\xbc\\xe0\\xa7\\x87 \\xe0\\xa6\\x95\\xe0\\xa7\\x87 \\xe0\\xa6\\x93\\xe0\\xa6\\x87 \\xe0\\xa6\\x86\\xe0\\xa6\\xb8\\xe0\\xa7\\x87\\xe0\\xa5\\xa4\\\\n\\xe0\\xa6\\x86\\xe0\\xa6\\x95\\xe0\\xa6\\xbe\\xe0\\xa6\\xb6-\\xe0\\xa6\\x9b\\xe0\\xa6\\xbe\\xe0\\xa6\\x93\\xe0\\xa6\\xaf\\xe0\\xa6\\xbc\\xe0\\xa6\\xbe \\xe0\\xa6\\x9a\\xe0\\xa7\\x8b\\xe0\\xa6\\x96\\xe0\\xa7\\x87\\xe0\\xa6\\xb0 \\xe0\\xa6\\x9a\\xe0\\xa6\\xbe\\xe0\\xa6\\x93\\xe0\\xa6\\xaf\\xe0\\xa6\\xbc\\xe0\\xa6\\xbe\\\\n\\xe0\\xa6\\x89\\xe0\\xa6\\xa4\\xe0\\xa6\\xb2 \\xe0\\xa6\\xb9\\xe0\\xa6\\xbe\\xe0\\xa6\\x93\\xe0\\xa6\\xaf\\xe0\\xa6\\xbc\\xe0\\xa6\\xbe  \\xe0\\xa6\\x95\\xe0\\xa7\\x87\\xe0\\xa6\\xb6\\xe0\\xa7\\x87\\xe0\\xa6\\xb0 \\xe0\\xa6\\xac\\xe0\\xa6\\xbe\\xe0\\xa6\\xb8\\xe0\\xa7\\x87\\xe0\\xa5\\xa5\\\\n\\xe0\\xa6\\x89\\xe0\\xa6\\xb7\\xe0\\xa6\\xbe\\xe0\\xa6\\xb0 \\xe0\\xa6\\xb0\\xe0\\xa6\\xbe\\xe0\\xa6\\x97\\xe0\\xa7\\x87 \\xe0\\xa6\\xb8\\xe0\\xa6\\xbe\\xe0\\xa6\\x81\\xe0\\xa6\\x9d\\xe0\\xa7\\x87\\xe0\\xa6\\xb0 \\xe0\\xa6\\xab\\xe0\\xa6\\xbe\\xe0\\xa6\\x97\\xe0\\xa7\\x87\\\\n\\xe0\\xa6\\xaf\\xe0\\xa7\\x81\\xe0\\xa6\\x97\\xe0\\xa6\\xb2 \\xe0\\xa6\\xa4\\xe0\\xa6\\xbe\\xe0\\xa6\\xb9\\xe0\\xa6\\xbe\\xe0\\xa6\\xb0 \\xe0\\xa6\\x95\\xe0\\xa6\\xaa\\xe0\\xa7\\x8b\\xe0\\xa6\\xb2 \\xe0\\xa6\\xb0\\xe0\\xa6\\xbe\\xe0\\xa6\\x99\\xe0\\xa7\\x87,\\\\n\\xe0\\xa6\\x95\\xe0\\xa6\\xae\\xe0\\xa6\\xb2 \\xe0\\xa6\\xa6\\xe0\\xa7\\x81\\xe0\\xa6\\xb2\\xe0\\xa7\\x87 \\xe0\\xa6\\xb8\\xe0\\xa7\\x81\\xe0\\xa6\\xb0\\xe0\\xa7\\x8d\\xe0\\xa6\\xaf\\xe0\\xa7\\x8d\\xe0\\xa6\\xaf \\xe0\\xa6\\xb6\\xe0\\xa6\\xb6\\xe0\\xa7\\x80\\\\n\\xe0\\xa6\\xa8\\xe0\\xa6\\xbf\\xe0\\xa6\\xb6\\xe0\\xa7\\x80\\xe0\\xa6\\xa5-\\xe0\\xa6\\x9a\\xe0\\xa7\\x81\\xe0\\xa6\\xb2\\xe0\\xa7\\x87 \\xe0\\xa6\\x86\\xe0\\xa6\\x81\\xe0\\xa6\\xa7\\xe0\\xa6\\xbe\\xe0\\xa6\\xb0-\\xe0\\xa6\\xb0\\xe0\\xa6\\xbe\\xe0\\xa6\\xb6\\xe0\\xa7\\x87\\xe0\\xa5\\xa5\\\\n\\xe0\\xa6\\x9a\\xe0\\xa6\\xb0\\xe0\\xa6\\xa3-\\xe0\\xa6\\x9b\\xe0\\xa7\\x8b\\xe0\\xa6\\x81\\xe0\\xa6\\xaf\\xe0\\xa6\\xbc\\xe0\\xa6\\xbe\\xe0\\xa6\\xaf\\xe0\\xa6\\xbc \\xe0\\xa6\\xaa\\xe0\\xa6\\xbe\\xe0\\xa6\\xa4\\xe0\\xa6\\xbe\\xe0\\xa6\\xb0 \\xe0\\xa6\\xa0\\xe0\\xa7\\x8b\\xe0\\xa6\\x81\\xe0\\xa6\\x9f\\xe0\\xa7\\x87\\\\n\\xe0\\xa6\\xae\\xe0\\xa7\\x81\\xe0\\xa6\\x95\\xe0\\xa7\\x81\\xe0\\xa6\\xb2 \\xe0\\xa6\\x95\\xe0\\xa6\\xbe\\xe0\\xa6\\x81\\xe0\\xa6\\xaa\\xe0\\xa7\\x87 \\xe0\\xa6\\x95\\xe0\\xa7\\x81\\xe0\\xa6\\xb8\\xe0\\xa7\\x81\\xe0\\xa6\\xae \\xe0\\xa6\\xab\\xe0\\xa7\\x8b\\xe0\\xa6\\x9f\\xe0\\xa7\\x87,\\\\n\\xe0\\xa6\\x86\\xe0\\xa6\\x81\\xe0\\xa6\\x96\\xe0\\xa6\\xbf\\xe0\\xa6\\xb0 \\xe0\\xa6\\xaa\\xe0\\xa6\\xb2\\xe0\\xa6\\x95- \\xe0\\xa6\\xaa\\xe0\\xa6\\xa4\\xe0\\xa6\\xa8-\\xe0\\xa6\\x9b\\xe0\\xa6\\xbe\\xe0\\xa6\\x81\\xe0\\xa6\\xa6\\xe0\\xa7\\x87\\\\n\\xe0\\xa6\\xa8\\xe0\\xa6\\xbf\\xe0\\xa6\\xb6\\xe0\\xa7\\x80\\xe0\\xa6\\xa5 \\xe0\\xa6\\x95\\xe0\\xa6\\xbe\\xe0\\xa6\\x81\\xe0\\xa6\\xa6\\xe0\\xa7\\x87 \\xe0\\xa6\\xa6\\xe0\\xa6\\xbf\\xe0\\xa6\\xac\\xe0\\xa6\\xb8 \\xe0\\xa6\\xb9\\xe0\\xa6\\xbe\\xe0\\xa6\\xb8\\xe0\\xa7\\x87\\xe0\\xa5\\xa5\\\\n\\xe0\\xa6\\x97\\xe0\\xa7\\x8d\\xe0\\xa6\\xb0\\xe0\\xa6\\xb9\\xe0\\xa7\\x87\\xe0\\xa6\\xb0 \\xe0\\xa6\\xae\\xe0\\xa6\\xbe\\xe0\\xa6\\xb2\\xe0\\xa6\\xbe \\xe0\\xa6\\x85\\xe0\\xa6\\xb2\\xe0\\xa6\\x96-\\xe0\\xa6\\x96\\xe0\\xa7\\x8b\\xe0\\xa6\\x81\\xe0\\xa6\\xaa\\xe0\\xa6\\xbe\\xe0\\xa6\\xaf\\xe0\\xa6\\xbc,\\\\n\\xe0\\xa6\\x95\\xe0\\xa6\\xaa\\xe0\\xa7\\x8b\\xe0\\xa6\\xb2 \\xe0\\xa6\\xb6\\xe0\\xa7\\x8b\\xe0\\xa6\\xad\\xe0\\xa7\\x87 \\xe0\\xa6\\xa4\\xe0\\xa6\\xbe\\xe0\\xa6\\xb0\\xe0\\xa6\\xbe\\xe0\\xa6\\xb0 \\xe0\\xa6\\x9f\\xe0\\xa7\\x8b\\xe0\\xa6\\xaa\\xe0\\xa6\\xbe\\xe0\\xa6\\xaf\\xe0\\xa6\\xbc,\\\\n\\xe0\\xa6\\x95\\xe0\\xa7\\x81\\xe0\\xa6\\xb8\\xe0\\xa7\\x81\\xe0\\xa6\\xae-\\xe0\\xa6\\x95\\xe0\\xa6\\xbe\\xe0\\xa6\\x81\\xe0\\xa6\\x9f\\xe0\\xa6\\xbe\\xe0\\xa6\\xaf\\xe0\\xa6\\xbc \\xe0\\xa6\\x86\\xe0\\xa6\\x81\\xe0\\xa6\\x9a\\xe0\\xa6\\xb2 \\xe0\\xa6\\xac\\xe0\\xa6\\xbe\\xe0\\xa6\\xa7\\xe0\\xa7\\x87\\\\n\\xe0\\xa6\\xb0\\xe0\\xa7\\x81\\xe0\\xa6\\xae\\xe0\\xa6\\xbe\\xe0\\xa6\\xb2 \\xe0\\xa6\\xb2\\xe0\\xa7\\x81\\xe0\\xa6\\x9f\\xe0\\xa6\\xbe\\xe0\\xa6\\xaf\\xe0\\xa6\\xbc \\xe0\\xa6\\xb8\\xe0\\xa6\\xac\\xe0\\xa7\\x81\\xe0\\xa6\\x9c \\xe0\\xa6\\x98\\xe0\\xa6\\xbe\\xe0\\xa6\\xb8\\xe0\\xa7\\x87\\xe0\\xa5\\xa5\\\\n\\xe0\\xa6\\xa4\\xe0\\xa7\\x8b\\xe0\\xa6\\xae\\xe0\\xa6\\xbe\\xe0\\xa6\\xb0 \\xe0\\xa6\\xb2\\xe0\\xa7\\x80\\xe0\\xa6\\xb2\\xe0\\xa6\\xbe- \\xe0\\xa6\\x95\\xe0\\xa6\\xae\\xe0\\xa6\\xb2 \\xe0\\xa6\\x95\\xe0\\xa6\\xb0\\xe0\\xa7\\x87\\\\n\\xe0\\xa6\\xa8\\xe0\\xa6\\xbf\\xe0\\xa6\\x96\\xe0\\xa6\\xbf\\xe0\\xa6\\xb2-\\xe0\\xa6\\xb0\\xe0\\xa6\\xbe\\xe0\\xa6\\xa8\\xe0\\xa6\\xbf! \\xe0\\xa6\\xa6\\xe0\\xa7\\x81\\xe0\\xa6\\xb2\\xe0\\xa6\\xbe\\xe0\\xa6\\x93 \\xe0\\xa6\\xae\\xe0\\xa7\\x8b\\xe0\\xa6\\xb0\\xe0\\xa7\\x87\\xe0\\xa5\\xa4\\\\n\\xe0\\xa6\\xa2\\xe0\\xa7\\x81\\xe0\\xa6\\xb2\\xe0\\xa6\\xbe\\xe0\\xa6\\x93 \\xe0\\xa6\\x86\\xe0\\xa6\\xae\\xe0\\xa6\\xbe\\xe0\\xa6\\xb0 \\xe0\\xa6\\xb8\\xe0\\xa7\\x81\\xe0\\xa6\\xac\\xe0\\xa6\\xbe\\xe0\\xa6\\xb8\\xe0\\xa6\\x96\\xe0\\xa6\\xbe\\xe0\\xa6\\xa8\\xe0\\xa6\\xbf\\\\n\\xe0\\xa6\\xa4\\xe0\\xa7\\x8b\\xe0\\xa6\\xae\\xe0\\xa6\\xbe\\xe0\\xa6\\xb0 \\xe0\\xa6\\xae\\xe0\\xa7\\x81\\xe0\\xa6\\x96\\xe0\\xa7\\x87\\xe0\\xa6\\xb0 \\xe0\\xa6\\xae\\xe0\\xa6\\xa6\\xe0\\xa6\\xbf\\xe0\\xa6\\xb0-\\xe0\\xa6\\xb6\\xe0\\xa7\\x8d\\xe0\\xa6\\xac\\xe0\\xa6\\xbe\\xe0\\xa6\\xb8\\xe0\\xa7\\x87\\xe0\\xa5\\xa5\",\\r\\n   \"Mood\": \"\\xe0\\xa6\\xaa\\xe0\\xa7\\x8d\\xe0\\xa6\\xb0\\xe0\\xa7\\x87\\xe0\\xa6\\xae\"\\r\\n }\\r\\n]'}"
            ]
          },
          "metadata": {
            "tags": []
          },
          "execution_count": 17
        }
      ]
    },
    {
      "cell_type": "code",
      "metadata": {
        "id": "D8bhJRPWlEPs"
      },
      "source": [
        ""
      ],
      "execution_count": null,
      "outputs": []
    },
    {
      "cell_type": "code",
      "metadata": {
        "id": "9TRGMXnfyvow"
      },
      "source": [
        "import json\r\n",
        "with open('BanglaSongs.json', encoding='utf-8') as f:\r\n",
        "    datastore = json.load(f)\r\n",
        "\r\n",
        "sentences = []\r\n",
        "labels = []\r\n",
        "\r\n",
        "\r\n",
        "for item in datastore:\r\n",
        "    sentences.append(item['lyrics'])\r\n",
        "    labels.append(item['Mood'])"
      ],
      "execution_count": 1,
      "outputs": []
    },
    {
      "cell_type": "code",
      "metadata": {
        "colab": {
          "base_uri": "https://localhost:8080/"
        },
        "id": "6og9Hkvg0s-W",
        "outputId": "dfc826bd-6a29-4610-8928-0a8421356535"
      },
      "source": [
        "\r\n",
        "set (labels)"
      ],
      "execution_count": 3,
      "outputs": [
        {
          "output_type": "execute_result",
          "data": {
            "text/plain": [
              "{'',\n",
              " ' প্রেম',\n",
              " ' বেদনা',\n",
              " 'আনন্দ',\n",
              " 'দেশপ্রেম',\n",
              " 'দেশপ্রেম ',\n",
              " 'ধার্মিক',\n",
              " 'প্রেম',\n",
              " 'বেদনা'}"
            ]
          },
          "metadata": {
            "tags": []
          },
          "execution_count": 3
        }
      ]
    },
    {
      "cell_type": "code",
      "metadata": {
        "id": "XheaIyWnLDzj"
      },
      "source": [
        "categories = list (set (labels))"
      ],
      "execution_count": 4,
      "outputs": []
    },
    {
      "cell_type": "code",
      "metadata": {
        "colab": {
          "base_uri": "https://localhost:8080/"
        },
        "id": "FZJlaYBBLKsR",
        "outputId": "2b9da892-fafe-4b88-cfce-2407f4037566"
      },
      "source": [
        "categories"
      ],
      "execution_count": 5,
      "outputs": [
        {
          "output_type": "execute_result",
          "data": {
            "text/plain": [
              "['',\n",
              " 'ধার্মিক',\n",
              " 'আনন্দ',\n",
              " 'বেদনা',\n",
              " 'দেশপ্রেম ',\n",
              " ' বেদনা',\n",
              " 'দেশপ্রেম',\n",
              " ' প্রেম',\n",
              " 'প্রেম']"
            ]
          },
          "metadata": {
            "tags": []
          },
          "execution_count": 5
        }
      ]
    },
    {
      "cell_type": "code",
      "metadata": {
        "id": "44xS6Ri_LPgN"
      },
      "source": [
        "from sklearn.model_selection import train_test_split\r\n",
        "\r\n",
        "X_train, X_test, y_train, y_test = train_test_split(\r\n",
        "  sentences, labels, test_size=0.2, random_state=42)"
      ],
      "execution_count": 6,
      "outputs": []
    },
    {
      "cell_type": "code",
      "metadata": {
        "colab": {
          "base_uri": "https://localhost:8080/"
        },
        "id": "HcfwjnYLI-4O",
        "outputId": "be4b163f-9e76-4dfb-fe62-8ac7b56e72e7"
      },
      "source": [
        "!pip install ktrain"
      ],
      "execution_count": 7,
      "outputs": [
        {
          "output_type": "stream",
          "text": [
            "Requirement already satisfied: ktrain in /usr/local/lib/python3.6/dist-packages (0.25.3)\n",
            "Requirement already satisfied: keras-bert>=0.86.0 in /usr/local/lib/python3.6/dist-packages (from ktrain) (0.86.0)\n",
            "Requirement already satisfied: jieba in /usr/local/lib/python3.6/dist-packages (from ktrain) (0.42.1)\n",
            "Requirement already satisfied: requests in /usr/local/lib/python3.6/dist-packages (from ktrain) (2.23.0)\n",
            "Requirement already satisfied: cchardet in /usr/local/lib/python3.6/dist-packages (from ktrain) (2.1.7)\n",
            "Requirement already satisfied: matplotlib>=3.0.0 in /usr/local/lib/python3.6/dist-packages (from ktrain) (3.2.2)\n",
            "Requirement already satisfied: langdetect in /usr/local/lib/python3.6/dist-packages (from ktrain) (1.0.8)\n",
            "Requirement already satisfied: syntok in /usr/local/lib/python3.6/dist-packages (from ktrain) (1.3.1)\n",
            "Requirement already satisfied: seqeval==0.0.19 in /usr/local/lib/python3.6/dist-packages (from ktrain) (0.0.19)\n",
            "Requirement already satisfied: fastprogress>=0.1.21 in /usr/local/lib/python3.6/dist-packages (from ktrain) (1.0.0)\n",
            "Requirement already satisfied: sentencepiece in /usr/local/lib/python3.6/dist-packages (from ktrain) (0.1.95)\n",
            "Requirement already satisfied: pandas>=1.0.1 in /usr/local/lib/python3.6/dist-packages (from ktrain) (1.1.5)\n",
            "Requirement already satisfied: networkx>=2.3 in /usr/local/lib/python3.6/dist-packages (from ktrain) (2.5)\n",
            "Requirement already satisfied: transformers<4.0,>=3.1.0 in /usr/local/lib/python3.6/dist-packages (from ktrain) (3.5.1)\n",
            "Requirement already satisfied: joblib in /usr/local/lib/python3.6/dist-packages (from ktrain) (1.0.0)\n",
            "Requirement already satisfied: scikit-learn==0.23.2 in /usr/local/lib/python3.6/dist-packages (from ktrain) (0.23.2)\n",
            "Requirement already satisfied: ipython in /usr/local/lib/python3.6/dist-packages (from ktrain) (5.5.0)\n",
            "Requirement already satisfied: whoosh in /usr/local/lib/python3.6/dist-packages (from ktrain) (2.7.4)\n",
            "Requirement already satisfied: packaging in /usr/local/lib/python3.6/dist-packages (from ktrain) (20.8)\n",
            "Requirement already satisfied: numpy in /usr/local/lib/python3.6/dist-packages (from keras-bert>=0.86.0->ktrain) (1.19.5)\n",
            "Requirement already satisfied: keras-transformer>=0.38.0 in /usr/local/lib/python3.6/dist-packages (from keras-bert>=0.86.0->ktrain) (0.38.0)\n",
            "Requirement already satisfied: Keras>=2.4.3 in /usr/local/lib/python3.6/dist-packages (from keras-bert>=0.86.0->ktrain) (2.4.3)\n",
            "Requirement already satisfied: idna<3,>=2.5 in /usr/local/lib/python3.6/dist-packages (from requests->ktrain) (2.10)\n",
            "Requirement already satisfied: urllib3!=1.25.0,!=1.25.1,<1.26,>=1.21.1 in /usr/local/lib/python3.6/dist-packages (from requests->ktrain) (1.24.3)\n",
            "Requirement already satisfied: certifi>=2017.4.17 in /usr/local/lib/python3.6/dist-packages (from requests->ktrain) (2020.12.5)\n",
            "Requirement already satisfied: chardet<4,>=3.0.2 in /usr/local/lib/python3.6/dist-packages (from requests->ktrain) (3.0.4)\n",
            "Requirement already satisfied: python-dateutil>=2.1 in /usr/local/lib/python3.6/dist-packages (from matplotlib>=3.0.0->ktrain) (2.8.1)\n",
            "Requirement already satisfied: cycler>=0.10 in /usr/local/lib/python3.6/dist-packages (from matplotlib>=3.0.0->ktrain) (0.10.0)\n",
            "Requirement already satisfied: pyparsing!=2.0.4,!=2.1.2,!=2.1.6,>=2.0.1 in /usr/local/lib/python3.6/dist-packages (from matplotlib>=3.0.0->ktrain) (2.4.7)\n",
            "Requirement already satisfied: kiwisolver>=1.0.1 in /usr/local/lib/python3.6/dist-packages (from matplotlib>=3.0.0->ktrain) (1.3.1)\n",
            "Requirement already satisfied: six in /usr/local/lib/python3.6/dist-packages (from langdetect->ktrain) (1.15.0)\n",
            "Requirement already satisfied: regex in /usr/local/lib/python3.6/dist-packages (from syntok->ktrain) (2019.12.20)\n",
            "Requirement already satisfied: pytz>=2017.2 in /usr/local/lib/python3.6/dist-packages (from pandas>=1.0.1->ktrain) (2018.9)\n",
            "Requirement already satisfied: decorator>=4.3.0 in /usr/local/lib/python3.6/dist-packages (from networkx>=2.3->ktrain) (4.4.2)\n",
            "Requirement already satisfied: protobuf in /usr/local/lib/python3.6/dist-packages (from transformers<4.0,>=3.1.0->ktrain) (3.12.4)\n",
            "Requirement already satisfied: tqdm>=4.27 in /usr/local/lib/python3.6/dist-packages (from transformers<4.0,>=3.1.0->ktrain) (4.41.1)\n",
            "Requirement already satisfied: sacremoses in /usr/local/lib/python3.6/dist-packages (from transformers<4.0,>=3.1.0->ktrain) (0.0.43)\n",
            "Requirement already satisfied: tokenizers==0.9.3 in /usr/local/lib/python3.6/dist-packages (from transformers<4.0,>=3.1.0->ktrain) (0.9.3)\n",
            "Requirement already satisfied: filelock in /usr/local/lib/python3.6/dist-packages (from transformers<4.0,>=3.1.0->ktrain) (3.0.12)\n",
            "Requirement already satisfied: dataclasses; python_version < \"3.7\" in /usr/local/lib/python3.6/dist-packages (from transformers<4.0,>=3.1.0->ktrain) (0.8)\n",
            "Requirement already satisfied: scipy>=0.19.1 in /usr/local/lib/python3.6/dist-packages (from scikit-learn==0.23.2->ktrain) (1.4.1)\n",
            "Requirement already satisfied: threadpoolctl>=2.0.0 in /usr/local/lib/python3.6/dist-packages (from scikit-learn==0.23.2->ktrain) (2.1.0)\n",
            "Requirement already satisfied: pygments in /usr/local/lib/python3.6/dist-packages (from ipython->ktrain) (2.6.1)\n",
            "Requirement already satisfied: pickleshare in /usr/local/lib/python3.6/dist-packages (from ipython->ktrain) (0.7.5)\n",
            "Requirement already satisfied: traitlets>=4.2 in /usr/local/lib/python3.6/dist-packages (from ipython->ktrain) (4.3.3)\n",
            "Requirement already satisfied: simplegeneric>0.8 in /usr/local/lib/python3.6/dist-packages (from ipython->ktrain) (0.8.1)\n",
            "Requirement already satisfied: setuptools>=18.5 in /usr/local/lib/python3.6/dist-packages (from ipython->ktrain) (51.3.3)\n",
            "Requirement already satisfied: prompt-toolkit<2.0.0,>=1.0.4 in /usr/local/lib/python3.6/dist-packages (from ipython->ktrain) (1.0.18)\n",
            "Requirement already satisfied: pexpect; sys_platform != \"win32\" in /usr/local/lib/python3.6/dist-packages (from ipython->ktrain) (4.8.0)\n",
            "Requirement already satisfied: keras-multi-head>=0.27.0 in /usr/local/lib/python3.6/dist-packages (from keras-transformer>=0.38.0->keras-bert>=0.86.0->ktrain) (0.27.0)\n",
            "Requirement already satisfied: keras-pos-embd>=0.11.0 in /usr/local/lib/python3.6/dist-packages (from keras-transformer>=0.38.0->keras-bert>=0.86.0->ktrain) (0.11.0)\n",
            "Requirement already satisfied: keras-embed-sim>=0.8.0 in /usr/local/lib/python3.6/dist-packages (from keras-transformer>=0.38.0->keras-bert>=0.86.0->ktrain) (0.8.0)\n",
            "Requirement already satisfied: keras-position-wise-feed-forward>=0.6.0 in /usr/local/lib/python3.6/dist-packages (from keras-transformer>=0.38.0->keras-bert>=0.86.0->ktrain) (0.6.0)\n",
            "Requirement already satisfied: keras-layer-normalization>=0.14.0 in /usr/local/lib/python3.6/dist-packages (from keras-transformer>=0.38.0->keras-bert>=0.86.0->ktrain) (0.14.0)\n",
            "Requirement already satisfied: pyyaml in /usr/local/lib/python3.6/dist-packages (from Keras>=2.4.3->keras-bert>=0.86.0->ktrain) (3.13)\n",
            "Requirement already satisfied: h5py in /usr/local/lib/python3.6/dist-packages (from Keras>=2.4.3->keras-bert>=0.86.0->ktrain) (2.10.0)\n",
            "Requirement already satisfied: click in /usr/local/lib/python3.6/dist-packages (from sacremoses->transformers<4.0,>=3.1.0->ktrain) (7.1.2)\n",
            "Requirement already satisfied: ipython-genutils in /usr/local/lib/python3.6/dist-packages (from traitlets>=4.2->ipython->ktrain) (0.2.0)\n",
            "Requirement already satisfied: wcwidth in /usr/local/lib/python3.6/dist-packages (from prompt-toolkit<2.0.0,>=1.0.4->ipython->ktrain) (0.2.5)\n",
            "Requirement already satisfied: ptyprocess>=0.5 in /usr/local/lib/python3.6/dist-packages (from pexpect; sys_platform != \"win32\"->ipython->ktrain) (0.7.0)\n",
            "Requirement already satisfied: keras-self-attention==0.46.0 in /usr/local/lib/python3.6/dist-packages (from keras-multi-head>=0.27.0->keras-transformer>=0.38.0->keras-bert>=0.86.0->ktrain) (0.46.0)\n"
          ],
          "name": "stdout"
        }
      ]
    },
    {
      "cell_type": "code",
      "metadata": {
        "colab": {
          "base_uri": "https://localhost:8080/"
        },
        "id": "_7VIC-O6JIJ6",
        "outputId": "82b298b9-ae68-4a91-9f17-40a964c95f26"
      },
      "source": [
        "!pip install git+https://github.com/amaiya/eli5@tfkeras_0_10_1"
      ],
      "execution_count": 8,
      "outputs": [
        {
          "output_type": "stream",
          "text": [
            "Collecting git+https://github.com/amaiya/eli5@tfkeras_0_10_1\n",
            "  Cloning https://github.com/amaiya/eli5 (to revision tfkeras_0_10_1) to /tmp/pip-req-build-90meuoev\n",
            "  Running command git clone -q https://github.com/amaiya/eli5 /tmp/pip-req-build-90meuoev\n",
            "  Running command git checkout -b tfkeras_0_10_1 --track origin/tfkeras_0_10_1\n",
            "  Switched to a new branch 'tfkeras_0_10_1'\n",
            "  Branch 'tfkeras_0_10_1' set up to track remote branch 'tfkeras_0_10_1' from 'origin'.\n",
            "Requirement already satisfied (use --upgrade to upgrade): eli5==0.10.1 from git+https://github.com/amaiya/eli5@tfkeras_0_10_1 in /usr/local/lib/python3.6/dist-packages\n",
            "Requirement already satisfied: attrs>16.0.0 in /usr/local/lib/python3.6/dist-packages (from eli5==0.10.1) (20.3.0)\n",
            "Requirement already satisfied: jinja2 in /usr/local/lib/python3.6/dist-packages (from eli5==0.10.1) (2.11.2)\n",
            "Requirement already satisfied: numpy>=1.9.0 in /usr/local/lib/python3.6/dist-packages (from eli5==0.10.1) (1.19.5)\n",
            "Requirement already satisfied: scipy in /usr/local/lib/python3.6/dist-packages (from eli5==0.10.1) (1.4.1)\n",
            "Requirement already satisfied: six in /usr/local/lib/python3.6/dist-packages (from eli5==0.10.1) (1.15.0)\n",
            "Requirement already satisfied: scikit-learn>=0.18 in /usr/local/lib/python3.6/dist-packages (from eli5==0.10.1) (0.23.2)\n",
            "Requirement already satisfied: graphviz in /usr/local/lib/python3.6/dist-packages (from eli5==0.10.1) (0.10.1)\n",
            "Requirement already satisfied: tabulate>=0.7.7 in /usr/local/lib/python3.6/dist-packages (from eli5==0.10.1) (0.8.7)\n",
            "Requirement already satisfied: MarkupSafe>=0.23 in /usr/local/lib/python3.6/dist-packages (from jinja2->eli5==0.10.1) (1.1.1)\n",
            "Requirement already satisfied: joblib>=0.11 in /usr/local/lib/python3.6/dist-packages (from scikit-learn>=0.18->eli5==0.10.1) (1.0.0)\n",
            "Requirement already satisfied: threadpoolctl>=2.0.0 in /usr/local/lib/python3.6/dist-packages (from scikit-learn>=0.18->eli5==0.10.1) (2.1.0)\n",
            "Building wheels for collected packages: eli5\n",
            "  Building wheel for eli5 (setup.py) ... \u001b[?25l\u001b[?25hdone\n",
            "  Created wheel for eli5: filename=eli5-0.10.1-py2.py3-none-any.whl size=106832 sha256=619e2bc6a42a349db7da7a365c06a9c5e12d761ff06ef0ea90377068980dfde1\n",
            "  Stored in directory: /tmp/pip-ephem-wheel-cache-dojpbl4k/wheels/51/59/0a/0f48442b8d209583a4453580938d7ba2270aca40edacee6d45\n",
            "Successfully built eli5\n"
          ],
          "name": "stdout"
        }
      ]
    },
    {
      "cell_type": "code",
      "metadata": {
        "colab": {
          "base_uri": "https://localhost:8080/"
        },
        "id": "v4yKC3_TJxph",
        "outputId": "d20bf4d7-6d6f-441a-9c62-dd607b0370ae"
      },
      "source": [
        "!pip install -U sklearn"
      ],
      "execution_count": null,
      "outputs": [
        {
          "output_type": "stream",
          "text": [
            "Requirement already up-to-date: sklearn in /usr/local/lib/python3.6/dist-packages (0.0)\n",
            "Requirement already satisfied, skipping upgrade: scikit-learn in /usr/local/lib/python3.6/dist-packages (from sklearn) (0.23.2)\n",
            "Requirement already satisfied, skipping upgrade: joblib>=0.11 in /usr/local/lib/python3.6/dist-packages (from scikit-learn->sklearn) (1.0.0)\n",
            "Requirement already satisfied, skipping upgrade: scipy>=0.19.1 in /usr/local/lib/python3.6/dist-packages (from scikit-learn->sklearn) (1.4.1)\n",
            "Requirement already satisfied, skipping upgrade: threadpoolctl>=2.0.0 in /usr/local/lib/python3.6/dist-packages (from scikit-learn->sklearn) (2.1.0)\n",
            "Requirement already satisfied, skipping upgrade: numpy>=1.13.3 in /usr/local/lib/python3.6/dist-packages (from scikit-learn->sklearn) (1.19.5)\n"
          ],
          "name": "stdout"
        }
      ]
    },
    {
      "cell_type": "code",
      "metadata": {
        "id": "3aQ6EJVtJPUa"
      },
      "source": [
        "import ktrain\r\n",
        "from ktrain import text"
      ],
      "execution_count": 9,
      "outputs": []
    },
    {
      "cell_type": "code",
      "metadata": {
        "colab": {
          "base_uri": "https://localhost:8080/"
        },
        "id": "6fc-Yc5RvNIw",
        "outputId": "af889f7a-6c5e-43af-89fd-9122edcfbe88"
      },
      "source": [
        "!pip uninstall ktrain"
      ],
      "execution_count": null,
      "outputs": [
        {
          "output_type": "stream",
          "text": [
            "Uninstalling ktrain-0.25.3:\n",
            "  Would remove:\n",
            "    /usr/local/lib/python3.6/dist-packages/ktrain-0.25.3.dist-info/*\n",
            "    /usr/local/lib/python3.6/dist-packages/ktrain/*\n",
            "Proceed (y/n)? y\n",
            "  Successfully uninstalled ktrain-0.25.3\n"
          ],
          "name": "stdout"
        }
      ]
    },
    {
      "cell_type": "code",
      "metadata": {
        "id": "1UVZG3CSwyS_"
      },
      "source": [
        "MODEL_NAME = 'sagorsarker/bangla-bert-base'\r\n",
        "t = text.Transformer(MODEL_NAME, maxlen=500)"
      ],
      "execution_count": 10,
      "outputs": []
    },
    {
      "cell_type": "code",
      "metadata": {
        "colab": {
          "base_uri": "https://localhost:8080/",
          "height": 238
        },
        "id": "c-RKT5ZGL4cU",
        "outputId": "86d3a8df-a6f9-4d0c-f7a5-4f555f2e6efd"
      },
      "source": [
        "\r\n",
        "trn = t.preprocess_train(X_train, y_train)\r\n",
        "val = t.preprocess_test(X_test, y_test)"
      ],
      "execution_count": 11,
      "outputs": [
        {
          "output_type": "stream",
          "text": [
            "preprocessing train...\n",
            "language: bn\n",
            "train sequence lengths:\n",
            "\tmean : 107\n",
            "\t95percentile : 200\n",
            "\t99percentile : 256\n"
          ],
          "name": "stdout"
        },
        {
          "output_type": "display_data",
          "data": {
            "text/html": [
              ""
            ],
            "text/plain": [
              "<IPython.core.display.HTML object>"
            ]
          },
          "metadata": {
            "tags": []
          }
        },
        {
          "output_type": "stream",
          "text": [
            "Is Multi-Label? False\n",
            "preprocessing test...\n",
            "language: bn\n",
            "test sequence lengths:\n",
            "\tmean : 117\n",
            "\t95percentile : 198\n",
            "\t99percentile : 211\n"
          ],
          "name": "stdout"
        },
        {
          "output_type": "display_data",
          "data": {
            "text/html": [
              ""
            ],
            "text/plain": [
              "<IPython.core.display.HTML object>"
            ]
          },
          "metadata": {
            "tags": []
          }
        }
      ]
    },
    {
      "cell_type": "code",
      "metadata": {
        "id": "6n8Te9NoNUQS"
      },
      "source": [
        "model = t.get_classifier()"
      ],
      "execution_count": 13,
      "outputs": []
    },
    {
      "cell_type": "code",
      "metadata": {
        "id": "4DrjO3eINrY2"
      },
      "source": [
        "learner = ktrain.get_learner(model, train_data=trn, val_data=val, batch_size=6)"
      ],
      "execution_count": 14,
      "outputs": []
    },
    {
      "cell_type": "code",
      "metadata": {
        "colab": {
          "base_uri": "https://localhost:8080/"
        },
        "id": "Lw_4fW4nN4By",
        "outputId": "49e3f21a-2a2f-4a0a-ebd2-02c11fb3d87d"
      },
      "source": [
        "%matplotlib inline\r\n",
        "learner.lr_find(show_plot=True, max_epochs=4)"
      ],
      "execution_count": null,
      "outputs": [
        {
          "output_type": "stream",
          "text": [
            "simulating training for different learning rates... this may take a few moments...\n",
            "Epoch 1/4\n"
          ],
          "name": "stdout"
        }
      ]
    },
    {
      "cell_type": "code",
      "metadata": {
        "colab": {
          "base_uri": "https://localhost:8080/"
        },
        "id": "MkYD1MjKOXj-",
        "outputId": "2f15ede6-2fe1-460e-bc35-fe39a2495f9e"
      },
      "source": [
        "learner.fit_onecycle(8e-5, 6)"
      ],
      "execution_count": 24,
      "outputs": [
        {
          "output_type": "stream",
          "text": [
            "\n",
            "\n",
            "begin training using onecycle policy with max lr of 8e-05...\n",
            "Epoch 1/6\n",
            "41/41 [==============================] - 1000s 24s/step - loss: 0.5077 - accuracy: 0.9004 - val_loss: 1.5563 - val_accuracy: 0.4098\n",
            "Epoch 2/6\n",
            "41/41 [==============================] - 1018s 25s/step - loss: 0.3637 - accuracy: 0.8880 - val_loss: 1.8113 - val_accuracy: 0.4262\n",
            "Epoch 3/6\n",
            "41/41 [==============================] - 932s 23s/step - loss: 0.1214 - accuracy: 0.9834 - val_loss: 2.6771 - val_accuracy: 0.3279\n",
            "Epoch 4/6\n",
            "41/41 [==============================] - 900s 22s/step - loss: 0.1535 - accuracy: 0.9627 - val_loss: 2.5142 - val_accuracy: 0.4426\n",
            "Epoch 5/6\n",
            "41/41 [==============================] - 892s 22s/step - loss: 0.1525 - accuracy: 0.9668 - val_loss: 2.1719 - val_accuracy: 0.3770\n",
            "Epoch 6/6\n",
            "41/41 [==============================] - 871s 21s/step - loss: 0.0722 - accuracy: 0.9834 - val_loss: 2.0591 - val_accuracy: 0.4754\n"
          ],
          "name": "stdout"
        },
        {
          "output_type": "execute_result",
          "data": {
            "text/plain": [
              "<tensorflow.python.keras.callbacks.History at 0x7ff3f19245f8>"
            ]
          },
          "metadata": {
            "tags": []
          },
          "execution_count": 24
        }
      ]
    },
    {
      "cell_type": "code",
      "metadata": {
        "id": "wbxEaLNwO5B3"
      },
      "source": [
        "\r\n",
        "learner.validate(class_names=t.get_classes())"
      ],
      "execution_count": null,
      "outputs": []
    },
    {
      "cell_type": "code",
      "metadata": {
        "colab": {
          "base_uri": "https://localhost:8080/"
        },
        "id": "nmBPShlJRtZc",
        "outputId": "0c70e71c-fbcd-40e5-bf29-ab1468f5ac29"
      },
      "source": [
        "learner.view_top_losses(n=1, preproc=t)"
      ],
      "execution_count": 17,
      "outputs": [
        {
          "output_type": "stream",
          "text": [
            "----------\n",
            "id:51 | loss:3.54 | true: | pred:বেদনা)\n",
            "\n"
          ],
          "name": "stdout"
        }
      ]
    },
    {
      "cell_type": "code",
      "metadata": {
        "id": "Sv9OL4rpSK_S"
      },
      "source": [
        "predictor = ktrain.get_predictor(learner.model, preproc=t)"
      ],
      "execution_count": 18,
      "outputs": []
    },
    {
      "cell_type": "code",
      "metadata": {
        "colab": {
          "base_uri": "https://localhost:8080/"
        },
        "id": "o7OHUuZ0SXfJ",
        "outputId": "ac64270c-c2f9-4e08-ef15-9dc4ec756d47"
      },
      "source": [
        "from google.colab import drive\r\n",
        "drive.mount('/content/drive')"
      ],
      "execution_count": 25,
      "outputs": [
        {
          "output_type": "stream",
          "text": [
            "Mounted at /content/drive\n"
          ],
          "name": "stdout"
        }
      ]
    },
    {
      "cell_type": "code",
      "metadata": {
        "id": "3iKfYDIoSlcc"
      },
      "source": [
        "# কেট্রেইন দিয়ে সেভ করা\r\n",
        "predictor.save('/content/drive/MyDrive/Colab Notebooks/saved_model/bangla_songs_lyrics_kt')\r\n",
        "# ট্রান্সফরমার্স এপিআই দিয়ে সেভ করি\r\n",
        "learner.model.save_pretrained('/content/drive/MyDrive/Colab Notebooks/saved_model/bangla_songs_lyrics_predictor')"
      ],
      "execution_count": 26,
      "outputs": []
    },
    {
      "cell_type": "code",
      "metadata": {
        "colab": {
          "base_uri": "https://localhost:8080/"
        },
        "id": "KNn1IbeQSrbk",
        "outputId": "e3e0259f-1530-4978-f662-edbc70504b9c"
      },
      "source": [
        "!ls -alh '/content/drive/MyDrive/Colab Notebooks/saved_model/bangla_songs_lyrics_predictor_kt'"
      ],
      "execution_count": 27,
      "outputs": [
        {
          "output_type": "stream",
          "text": [
            "ls: cannot access '/content/drive/MyDrive/Colab Notebooks/saved_model/bangla_songs_lyrics_predictor_kt': No such file or directory\n"
          ],
          "name": "stdout"
        }
      ]
    },
    {
      "cell_type": "code",
      "metadata": {
        "colab": {
          "base_uri": "https://localhost:8080/"
        },
        "id": "WPhHk_nDSxVC",
        "outputId": "09b13ce5-5fee-4b2b-ab64-506c66716f19"
      },
      "source": [
        "!ls -ahl '/content/drive/MyDrive/Colab Notebooks/saved_model/bangla_songs_lyrics_predictor'"
      ],
      "execution_count": 28,
      "outputs": [
        {
          "output_type": "stream",
          "text": [
            "total 628M\n",
            "-rw------- 1 root root  902 Jan 22 22:55 config.json\n",
            "-rw------- 1 root root 628M Jan 22 22:56 tf_model.h5\n"
          ],
          "name": "stdout"
        }
      ]
    },
    {
      "cell_type": "code",
      "metadata": {
        "colab": {
          "base_uri": "https://localhost:8080/"
        },
        "id": "LtNdNWGwS2Af",
        "outputId": "a7a9f614-fff1-4320-bd03-43cfeb75bdc2"
      },
      "source": [
        "learner.model.summary()"
      ],
      "execution_count": 29,
      "outputs": [
        {
          "output_type": "stream",
          "text": [
            "Model: \"tf_bert_for_sequence_classification\"\n",
            "_________________________________________________________________\n",
            "Layer (type)                 Output Shape              Param #   \n",
            "=================================================================\n",
            "bert (TFBertMainLayer)       multiple                  164396544 \n",
            "_________________________________________________________________\n",
            "dropout_37 (Dropout)         multiple                  0         \n",
            "_________________________________________________________________\n",
            "classifier (Dense)           multiple                  6921      \n",
            "=================================================================\n",
            "Total params: 164,403,465\n",
            "Trainable params: 164,403,465\n",
            "Non-trainable params: 0\n",
            "_________________________________________________________________\n"
          ],
          "name": "stdout"
        }
      ]
    },
    {
      "cell_type": "code",
      "metadata": {
        "colab": {
          "base_uri": "https://localhost:8080/",
          "height": 35
        },
        "id": "yAM2FClQS9Af",
        "outputId": "afc620f3-fe6c-47ad-c92a-69de5f54f767"
      },
      "source": [
        "predictor.predict('মোরে ডেকে লও সেই দেশে প্রিয় যে দেশে তুমি থাক। মোর কি কাজ জীবনে বঁধূ যদি তুমি কাছে নাহি ডাক।। এই পৃথিবীর হাসি গান বঁধূ সব হয়ে যায় ম্লান,')"
      ],
      "execution_count": 19,
      "outputs": [
        {
          "output_type": "execute_result",
          "data": {
            "application/vnd.google.colaboratory.intrinsic+json": {
              "type": "string"
            },
            "text/plain": [
              "'বেদনা'"
            ]
          },
          "metadata": {
            "tags": []
          },
          "execution_count": 19
        }
      ]
    },
    {
      "cell_type": "code",
      "metadata": {
        "colab": {
          "base_uri": "https://localhost:8080/",
          "height": 35
        },
        "id": "DhcIhs4uTmQa",
        "outputId": "767d0ef8-be28-48ad-b067-ceced7441114"
      },
      "source": [
        "predictor.predict('তোমার মনে ফুটবে যবে প্রথম মুকুল। প্রিয় হে প্রিয় আমারে দিও সে প্রেমের মুকুল।।')"
      ],
      "execution_count": 20,
      "outputs": [
        {
          "output_type": "execute_result",
          "data": {
            "application/vnd.google.colaboratory.intrinsic+json": {
              "type": "string"
            },
            "text/plain": [
              "'প্রেম'"
            ]
          },
          "metadata": {
            "tags": []
          },
          "execution_count": 20
        }
      ]
    },
    {
      "cell_type": "code",
      "metadata": {
        "colab": {
          "base_uri": "https://localhost:8080/",
          "height": 35
        },
        "id": "yl5tG_Cc8iKl",
        "outputId": "0549302d-6943-4ae1-819d-9440c2617f8e"
      },
      "source": [
        "predictor.predict('আজি  আকুল ফুলসাজে জাগ’  মৃদুকম্পিত লাজে, মম  হৃদয়শয়নমাঝে, শুন  মধুর মুরলী বাজে মম   অন্তরে থাকি থাকি– সখি, জাগ’ জাগ’ ॥')"
      ],
      "execution_count": 22,
      "outputs": [
        {
          "output_type": "execute_result",
          "data": {
            "application/vnd.google.colaboratory.intrinsic+json": {
              "type": "string"
            },
            "text/plain": [
              "'বেদনা'"
            ]
          },
          "metadata": {
            "tags": []
          },
          "execution_count": 22
        }
      ]
    },
    {
      "cell_type": "code",
      "metadata": {
        "colab": {
          "base_uri": "https://localhost:8080/",
          "height": 35
        },
        "id": "IqslfUOo9dWD",
        "outputId": "3b0511ed-fff5-439a-ecf4-c2c72db58897"
      },
      "source": [
        "predictor.predict('আলোকের এই ঝর্নাধারায় ধুইয়ে দাও। আপনাকে এই লুকিয়ে-রাখা ধুলার ঢাকা ধুইয়ে দাও॥ যে জন   আমার মাঝে জড়িয়ে আছে ঘুমের জালে')"
      ],
      "execution_count": 23,
      "outputs": [
        {
          "output_type": "execute_result",
          "data": {
            "application/vnd.google.colaboratory.intrinsic+json": {
              "type": "string"
            },
            "text/plain": [
              "'আনন্দ'"
            ]
          },
          "metadata": {
            "tags": []
          },
          "execution_count": 23
        }
      ]
    },
    {
      "cell_type": "code",
      "metadata": {
        "colab": {
          "base_uri": "https://localhost:8080/"
        },
        "id": "BKcy3uvcU2Wk",
        "outputId": "0456ee95-7151-43a0-a0ac-707774cf4a52"
      },
      "source": [
        "from transformers import *\r\n",
        "import tensorflow as tf\r\n",
        "tokenizer = AutoTokenizer.from_pretrained(MODEL_NAME)\r\n",
        "model = TFAutoModel.from_pretrained('/content/drive/MyDrive/Colab Notebooks/saved_model/bangla_songs_lyrics_predictor')\r\n",
        "input_ids = tf.constant(tokenizer.encode(\"আমরা বাংলায় কথা বলি\"))[None, :]  \r\n",
        "outputs = model(input_ids)\r\n",
        "last_hidden_states = outputs[0] \r\n",
        "print(last_hidden_states.numpy().shape)"
      ],
      "execution_count": 30,
      "outputs": [
        {
          "output_type": "stream",
          "text": [
            "(1, 7, 768)\n"
          ],
          "name": "stdout"
        }
      ]
    },
    {
      "cell_type": "code",
      "metadata": {
        "colab": {
          "base_uri": "https://localhost:8080/"
        },
        "id": "J2FtYezwU9Xc",
        "outputId": "658888d0-8b4b-4800-89b5-3be6e6efef7b"
      },
      "source": [
        "last_hidden_states"
      ],
      "execution_count": 31,
      "outputs": [
        {
          "output_type": "execute_result",
          "data": {
            "text/plain": [
              "<tf.Tensor: shape=(1, 7, 768), dtype=float32, numpy=\n",
              "array([[[ 1.791471  , -0.7490264 , -1.6816239 , ..., -0.5195073 ,\n",
              "         -0.73764026, -1.0236716 ],\n",
              "        [ 0.81594545, -0.8927433 , -2.1332033 , ...,  0.6667134 ,\n",
              "          0.52838117,  0.9586132 ],\n",
              "        [ 0.3132732 , -0.86122334,  0.19442031, ...,  0.64588726,\n",
              "          1.7279029 ,  0.39998233],\n",
              "        ...,\n",
              "        [ 1.8507001 , -1.2910967 , -1.6973629 , ..., -1.0770029 ,\n",
              "         -0.00792767,  0.7532913 ],\n",
              "        [ 0.32781732,  0.02771547,  0.1652026 , ..., -0.3544465 ,\n",
              "          1.4773356 ,  0.93419725],\n",
              "        [ 2.059452  , -0.3562409 , -1.4578389 , ..., -0.3897972 ,\n",
              "          0.040133  , -0.35489112]]], dtype=float32)>"
            ]
          },
          "metadata": {
            "tags": []
          },
          "execution_count": 31
        }
      ]
    },
    {
      "cell_type": "code",
      "metadata": {
        "colab": {
          "base_uri": "https://localhost:8080/"
        },
        "id": "6j4EV8OCVCH-",
        "outputId": "35e2d120-ae9a-443c-87ee-c56d86f9a1b6"
      },
      "source": [
        "outputs"
      ],
      "execution_count": 32,
      "outputs": [
        {
          "output_type": "execute_result",
          "data": {
            "text/plain": [
              "(<tf.Tensor: shape=(1, 7, 768), dtype=float32, numpy=\n",
              " array([[[ 1.791471  , -0.7490264 , -1.6816239 , ..., -0.5195073 ,\n",
              "          -0.73764026, -1.0236716 ],\n",
              "         [ 0.81594545, -0.8927433 , -2.1332033 , ...,  0.6667134 ,\n",
              "           0.52838117,  0.9586132 ],\n",
              "         [ 0.3132732 , -0.86122334,  0.19442031, ...,  0.64588726,\n",
              "           1.7279029 ,  0.39998233],\n",
              "         ...,\n",
              "         [ 1.8507001 , -1.2910967 , -1.6973629 , ..., -1.0770029 ,\n",
              "          -0.00792767,  0.7532913 ],\n",
              "         [ 0.32781732,  0.02771547,  0.1652026 , ..., -0.3544465 ,\n",
              "           1.4773356 ,  0.93419725],\n",
              "         [ 2.059452  , -0.3562409 , -1.4578389 , ..., -0.3897972 ,\n",
              "           0.040133  , -0.35489112]]], dtype=float32)>,\n",
              " <tf.Tensor: shape=(1, 768), dtype=float32, numpy=\n",
              " array([[ 5.77195227e-01,  2.67647982e-01, -2.76279390e-01,\n",
              "          3.90082449e-01, -5.03878772e-01, -5.54211497e-01,\n",
              "          4.87963527e-01,  5.46492152e-02, -7.57601857e-01,\n",
              "         -1.11064985e-01,  8.34820196e-02,  8.39536250e-01,\n",
              "         -2.41713166e-01,  6.51616812e-01,  7.17515886e-01,\n",
              "          6.36960864e-01,  1.66422889e-01,  5.03150821e-01,\n",
              "         -1.80125788e-01,  1.15452357e-01, -6.22765899e-01,\n",
              "         -6.39737189e-01,  3.19305539e-01, -9.96312141e-01,\n",
              "          1.24422051e-01, -8.86494756e-01,  8.46636117e-01,\n",
              "         -2.96420187e-01, -9.97193515e-01, -6.54106081e-01,\n",
              "         -5.46811581e-01,  5.16688645e-01,  8.50252151e-01,\n",
              "         -4.72855449e-01,  5.63390672e-01,  7.51511455e-01,\n",
              "          7.18078613e-01,  7.17358589e-01, -5.88730693e-01,\n",
              "          9.33108807e-01,  8.40862930e-01,  9.30931807e-01,\n",
              "          3.61918807e-02, -1.95039585e-01, -6.54599965e-01,\n",
              "         -1.33123532e-01,  3.89089912e-01, -3.23166922e-02,\n",
              "          4.72650707e-01,  3.38604033e-01,  4.89269644e-01,\n",
              "          2.05642536e-01, -7.10484326e-01,  7.32108533e-01,\n",
              "         -2.63086945e-01, -4.86835539e-01, -5.43709219e-01,\n",
              "         -6.94669545e-01, -5.81544377e-02,  7.07090676e-01,\n",
              "          6.47850215e-01, -2.73299158e-01, -9.90352333e-01,\n",
              "          6.46545291e-02, -1.95024282e-01,  1.48753405e-01,\n",
              "         -9.73873794e-01,  9.43586826e-01,  2.31003031e-01,\n",
              "          6.15905106e-01, -9.31291938e-01, -7.04703853e-02,\n",
              "         -2.32639015e-01,  9.34841633e-01,  4.21075344e-01,\n",
              "         -9.30084109e-01, -9.31640863e-01,  6.02825284e-01,\n",
              "          2.56415844e-01, -2.21319020e-01,  1.13161512e-01,\n",
              "          2.73354977e-01, -7.81058371e-01, -9.52029750e-02,\n",
              "          5.17683268e-01, -1.00134507e-01, -2.41461352e-01,\n",
              "          7.86195338e-01, -9.34825182e-01, -1.56213433e-01,\n",
              "         -4.49104041e-01, -2.30582759e-01, -4.54937696e-01,\n",
              "          6.75236106e-01, -5.30280709e-01, -6.48161629e-03,\n",
              "         -9.85301316e-01, -1.01486646e-01,  8.30226064e-01,\n",
              "         -2.35064268e-01,  5.98927975e-01, -4.90271859e-02,\n",
              "          1.82715729e-02,  7.92497516e-01,  2.57131875e-01,\n",
              "          4.89448428e-01, -1.74001113e-01,  4.71786231e-01,\n",
              "         -9.64504480e-01, -4.73016500e-01,  4.67655286e-02,\n",
              "         -2.34302618e-02, -8.96155179e-01, -1.38394728e-01,\n",
              "         -9.20876622e-01,  1.20778456e-01,  9.92143571e-01,\n",
              "          4.20479417e-01, -7.41682649e-02, -9.66930270e-01,\n",
              "         -6.56277776e-01,  1.91897452e-02,  6.43599927e-01,\n",
              "          5.53110719e-01,  5.52113712e-01,  6.15217805e-01,\n",
              "         -9.70909894e-01,  1.40098691e-01,  1.99410111e-01,\n",
              "          9.33084667e-01,  9.73833025e-01,  1.38394624e-01,\n",
              "          1.40737787e-01,  3.76605749e-01, -3.08646291e-01,\n",
              "          4.77832615e-01,  8.39210451e-01,  8.11217070e-01,\n",
              "         -9.78831351e-01,  3.30252759e-02, -9.20560777e-01,\n",
              "          2.93457896e-01,  7.16689408e-01,  1.19881876e-01,\n",
              "         -9.76067968e-03, -1.64106086e-01,  6.75944924e-01,\n",
              "          9.56627488e-01, -6.20947741e-02, -2.12564558e-01,\n",
              "         -2.62428343e-01,  9.29197490e-01,  5.27203023e-01,\n",
              "          9.56392825e-01, -1.40959084e-01,  3.20218921e-01,\n",
              "         -2.27261201e-01,  1.52856827e-01, -8.98622751e-01,\n",
              "         -2.71634698e-01, -9.86708522e-01, -3.59538454e-03,\n",
              "         -4.48273301e-01, -8.08057070e-01, -7.29916431e-03,\n",
              "          9.79885995e-01, -4.32807952e-01, -3.65949683e-02,\n",
              "         -3.49222124e-01, -1.32870674e-01,  2.81416744e-01,\n",
              "         -6.18330896e-01, -1.21133074e-01,  7.33165294e-02,\n",
              "          5.43344736e-01,  1.55171141e-01, -4.15522546e-01,\n",
              "         -1.74449757e-01,  4.82412130e-01,  4.78069931e-01,\n",
              "          7.95672953e-01,  3.45289946e-01, -3.77304703e-01,\n",
              "          9.37410474e-01,  9.80521023e-01, -9.78950262e-01,\n",
              "          2.83832610e-01, -8.41249466e-01,  3.59912246e-01,\n",
              "         -8.33374113e-02,  9.84379768e-01, -9.56305683e-01,\n",
              "         -6.53403103e-01,  8.70713294e-01,  4.85453516e-01,\n",
              "          9.96554554e-01, -3.82096380e-01, -3.56219232e-01,\n",
              "          1.22077428e-01,  6.62319288e-02,  7.98644185e-01,\n",
              "         -7.65141323e-02,  9.90750849e-01, -3.57928067e-01,\n",
              "          3.14880870e-02, -4.19667274e-01, -7.24064410e-02,\n",
              "          8.39698613e-01, -5.84462285e-01,  2.61280030e-01,\n",
              "          3.06181520e-01, -6.59508467e-01, -3.07216793e-01,\n",
              "         -2.20347896e-01, -3.00573520e-02, -2.51853555e-01,\n",
              "          2.14682072e-01,  3.21714848e-01, -1.81268662e-01,\n",
              "         -9.13786948e-01, -8.59566629e-01,  6.32199228e-01,\n",
              "          1.57216847e-01,  9.61764276e-01,  3.80069822e-01,\n",
              "         -4.34159756e-01, -6.47822917e-01, -4.02278066e-01,\n",
              "          7.66507462e-02,  7.91577637e-01,  2.54205823e-01,\n",
              "          2.40848675e-01, -9.10250723e-01,  8.69064093e-01,\n",
              "          5.58711708e-01, -3.02283227e-01, -7.31848538e-01,\n",
              "          4.15359795e-01,  2.86778361e-01,  7.40104318e-01,\n",
              "         -3.51905912e-01, -7.17837214e-01,  2.00130165e-01,\n",
              "          3.96194816e-01, -4.46096241e-01,  2.06599519e-01,\n",
              "          9.40355420e-01, -1.50852352e-01,  3.02810788e-01,\n",
              "          9.16454017e-01, -5.39939329e-02,  2.58989275e-01,\n",
              "          4.75887284e-02,  3.92130256e-01,  5.79263568e-01,\n",
              "          4.03140426e-01,  3.50168020e-01, -8.00386727e-01,\n",
              "         -7.80257359e-02, -6.42938435e-01,  5.70163012e-01,\n",
              "          2.61103898e-01,  1.61456481e-01,  8.89407575e-01,\n",
              "         -1.50153577e-01,  2.65208066e-01,  9.51861501e-01,\n",
              "          4.74467784e-01, -5.93065023e-01, -2.86013365e-01,\n",
              "          2.77830154e-01,  2.54260629e-01,  5.17406642e-01,\n",
              "          3.54608864e-01,  1.63419977e-01, -8.05717766e-01,\n",
              "          8.48616242e-01, -6.90683484e-01,  7.70935714e-01,\n",
              "          3.80609632e-01,  4.36088145e-01,  9.13713813e-01,\n",
              "         -9.83354509e-01,  7.95765162e-01, -4.79161739e-01,\n",
              "         -1.28915071e-01,  2.70776823e-02,  9.68318403e-01,\n",
              "          7.56584227e-01,  1.79618612e-01, -4.66413856e-01,\n",
              "          2.46893376e-01,  3.09365004e-01, -1.76299307e-02,\n",
              "          4.23611641e-01, -3.43223691e-01,  9.93148685e-01,\n",
              "          9.85208333e-01,  8.24091494e-01,  8.14348638e-01,\n",
              "         -3.81516576e-01,  1.79742813e-01, -1.26971528e-01,\n",
              "          2.23232314e-01,  3.99942249e-01,  9.69544232e-01,\n",
              "          6.62961602e-01, -6.50994301e-01, -4.56797570e-01,\n",
              "          5.47566473e-01, -3.95505466e-02, -6.74901366e-01,\n",
              "         -1.24879032e-01, -3.87391418e-01, -2.19747245e-01,\n",
              "         -9.79977369e-01,  3.06063592e-01,  2.88857162e-01,\n",
              "          8.00468266e-01,  3.30457926e-01,  2.75726527e-01,\n",
              "         -7.60612786e-01,  9.04835999e-01,  1.18842416e-01,\n",
              "          3.32502387e-02, -9.87897277e-01,  4.10962850e-01,\n",
              "         -7.64779985e-01, -7.63338923e-01, -1.89129025e-01,\n",
              "          8.72235596e-01, -5.42202711e-01, -3.59299868e-01,\n",
              "          6.38089120e-01,  8.93771350e-01,  5.62002301e-01,\n",
              "          3.01740706e-01, -9.87675011e-01,  5.48485434e-03,\n",
              "          9.17080879e-01, -6.14856839e-01,  7.38526762e-01,\n",
              "          7.72135198e-01, -9.92696285e-01,  3.71095061e-01,\n",
              "         -3.78483534e-01,  3.90596002e-01,  9.97827351e-01,\n",
              "         -3.78356099e-01,  4.59898055e-01, -4.86837933e-03,\n",
              "          3.76228243e-01, -3.12033683e-01,  9.67397749e-01,\n",
              "         -2.27684319e-01,  3.80199701e-01,  4.79576051e-01,\n",
              "          5.02525151e-01, -4.36664373e-01,  9.45454359e-01,\n",
              "          1.62395433e-01,  1.91561848e-01,  8.57183635e-01,\n",
              "          8.69884431e-01,  7.47615278e-01, -2.38604605e-01,\n",
              "          5.45188248e-01,  2.71452010e-01,  1.74757376e-01,\n",
              "         -4.64646786e-01,  7.95127332e-01,  5.99899352e-01,\n",
              "         -4.73603874e-01,  9.59892988e-01,  7.91287422e-01,\n",
              "         -2.48439983e-01, -8.25349450e-01,  2.01954827e-01,\n",
              "          2.70756096e-01,  2.20893081e-02,  4.22385663e-01,\n",
              "          2.38310322e-01, -1.37972981e-01,  2.29277462e-02,\n",
              "         -2.14981273e-01,  4.36124146e-01, -1.56054005e-01,\n",
              "         -9.14733231e-01, -4.30687338e-01, -2.80471534e-01,\n",
              "         -4.63086277e-01, -5.51142514e-01,  2.41205126e-01,\n",
              "         -2.03580901e-01, -8.67207766e-01,  5.36392629e-01,\n",
              "          9.01102349e-02, -2.24493235e-01,  1.91941261e-01,\n",
              "          9.28171217e-01, -1.58491433e-01, -8.93149495e-01,\n",
              "         -2.04329506e-01, -2.63848990e-01, -7.76530445e-01,\n",
              "         -5.98038793e-01,  4.30528820e-02,  6.55251920e-01,\n",
              "         -9.21510309e-02, -9.28708017e-01,  7.66397178e-01,\n",
              "         -8.43833983e-01, -6.70159459e-01, -3.74101192e-01,\n",
              "          9.50767756e-01,  2.47521445e-01,  8.25996161e-01,\n",
              "         -3.01646352e-01,  6.00860715e-01,  3.46231103e-01,\n",
              "         -7.52930939e-01, -9.89968717e-01,  9.59913526e-03,\n",
              "         -1.59484997e-01,  9.08415169e-02, -4.28638071e-01,\n",
              "         -6.22341819e-02, -9.89864349e-01, -1.93224922e-01,\n",
              "         -3.14683467e-01, -7.50932634e-01,  4.09131736e-01,\n",
              "          9.67116117e-01, -2.75033176e-01, -3.57013315e-01,\n",
              "          2.58106261e-01, -1.12256832e-01,  5.05677700e-01,\n",
              "         -9.74703610e-01,  7.75014997e-01, -7.83070564e-01,\n",
              "          8.45514357e-01, -9.32856798e-01, -4.47929889e-01,\n",
              "          6.04420416e-02, -9.36868966e-01, -4.29911613e-01,\n",
              "          9.92692292e-01, -5.20245254e-01, -1.49527639e-01,\n",
              "         -9.92825627e-01,  8.92928779e-01, -9.11479350e-03,\n",
              "         -2.18833938e-01, -4.37226951e-01, -3.43301326e-01,\n",
              "         -1.35186151e-01, -2.93203831e-01,  2.72271872e-01,\n",
              "         -5.87214053e-01,  9.79547918e-01,  5.29617667e-01,\n",
              "          3.01085114e-01,  9.97225165e-01, -1.67412043e-01,\n",
              "         -4.11796868e-01, -6.89634442e-01, -4.51951683e-01,\n",
              "         -2.59877980e-01, -7.71412849e-01, -1.57018661e-01,\n",
              "          1.99409351e-01, -8.14792573e-01,  2.14573011e-01,\n",
              "          6.15784526e-01, -4.58609998e-01, -3.20406169e-01,\n",
              "         -8.39036405e-01, -3.82207394e-01,  7.64966905e-01,\n",
              "          9.68372762e-01, -8.09516609e-01, -9.73177791e-01,\n",
              "          8.03149581e-01,  7.93262839e-01,  6.48905575e-01,\n",
              "         -8.31809103e-01,  4.12731767e-01,  7.17159986e-01,\n",
              "          2.24966079e-01,  5.42631634e-02, -2.52614707e-01,\n",
              "         -2.79341906e-01,  8.43548357e-01, -2.97307938e-01,\n",
              "          9.72804427e-01,  5.21181941e-01,  2.96398133e-01,\n",
              "          9.51806903e-01,  1.72330379e-01,  8.58772993e-01,\n",
              "         -2.67534524e-01,  5.25885165e-01, -7.11435199e-01,\n",
              "          2.51217615e-02, -1.52987972e-01, -3.18225920e-02,\n",
              "         -8.15174937e-01,  4.92430747e-01, -7.55376041e-01,\n",
              "         -7.16254294e-01,  9.47027683e-01,  2.43924573e-01,\n",
              "          5.05895674e-01,  2.41880402e-01,  9.68874454e-01,\n",
              "         -9.18943882e-01,  8.29912897e-04, -3.63588452e-01,\n",
              "         -6.11809731e-01,  8.95795405e-01, -1.56011879e-01,\n",
              "         -2.97153533e-01, -3.98775369e-01, -9.87162471e-01,\n",
              "         -4.70354587e-01,  1.61372811e-01, -9.83076692e-01,\n",
              "          7.19312876e-02,  9.57040250e-01,  4.78610903e-01,\n",
              "          3.98767650e-01, -6.39775038e-01, -1.18323587e-01,\n",
              "          3.69966179e-01, -2.06429288e-01,  7.84474075e-01,\n",
              "          5.21527350e-01, -7.55811110e-02, -6.14431977e-01,\n",
              "          9.90700185e-01,  9.34792459e-01,  7.95490682e-01,\n",
              "         -9.94752347e-01,  3.57052356e-01, -7.57481635e-01,\n",
              "         -6.00677073e-01,  9.86044049e-01, -1.84788406e-01,\n",
              "          4.51835692e-01, -2.89992243e-01,  4.70682830e-01,\n",
              "         -6.97387397e-01,  6.30488694e-01, -9.84624982e-01,\n",
              "          3.61181736e-01,  1.29214197e-01, -2.14965399e-02,\n",
              "          8.56784225e-01,  8.87538254e-01, -2.93119371e-01,\n",
              "         -5.24721026e-01,  9.92234349e-01, -3.76177609e-01,\n",
              "         -1.93035454e-01,  3.91843379e-01,  6.44271433e-01,\n",
              "          8.33607316e-01,  5.85496426e-01, -5.77755034e-01,\n",
              "         -5.47158003e-01,  8.69737804e-01, -5.47346234e-01,\n",
              "          2.91472748e-02,  6.40463293e-01,  9.63028297e-02,\n",
              "         -9.04209733e-01, -8.77278090e-01, -3.63873057e-02,\n",
              "         -5.98687112e-01,  1.75258189e-01, -2.47217551e-01,\n",
              "         -5.49958766e-01, -7.85919011e-01, -6.40022457e-01,\n",
              "         -2.42915452e-01,  8.01729620e-01, -7.99918175e-03,\n",
              "          8.62023413e-01, -9.35087502e-01, -6.32748306e-01,\n",
              "         -3.73144001e-01,  9.63884532e-01, -5.82575262e-01,\n",
              "         -3.23223710e-01,  9.84400570e-01, -6.66386783e-01,\n",
              "         -6.14257097e-01,  3.20618749e-01,  3.13310653e-01,\n",
              "         -8.88795555e-01,  5.61661005e-01, -1.21711813e-01,\n",
              "          9.85887289e-01,  9.58120227e-01, -9.97165978e-01,\n",
              "         -5.80539644e-01, -6.85211658e-01,  1.25967160e-01,\n",
              "         -7.98668802e-01, -3.76392305e-01, -6.08585253e-02,\n",
              "         -1.61940008e-01,  5.04015863e-01, -3.86560321e-01,\n",
              "         -9.57005322e-01,  2.69538671e-01,  3.16302925e-01,\n",
              "         -3.81517351e-01, -5.97568810e-01,  6.81215525e-01,\n",
              "         -6.63327217e-01,  9.90111768e-01,  4.45195705e-01,\n",
              "          3.03708315e-01,  9.66986477e-01, -1.51179627e-01,\n",
              "         -2.80389607e-01,  7.91517138e-01, -9.22792137e-01,\n",
              "          7.41336197e-02, -5.81234157e-01,  9.30606723e-01,\n",
              "         -9.10964310e-01,  1.16955616e-01, -8.82913709e-01,\n",
              "          2.50348836e-01, -6.80531025e-01,  3.35495770e-01,\n",
              "          6.40558243e-01,  8.57333839e-01,  9.89554465e-01,\n",
              "          2.28296712e-01,  8.62046242e-01, -3.39153320e-01,\n",
              "          7.85728872e-01,  8.93989205e-01,  4.72755522e-01,\n",
              "         -1.14908658e-01, -1.39633358e-01, -6.26352787e-01,\n",
              "          6.98742092e-01,  9.94091630e-01,  4.21432436e-01,\n",
              "          5.40912271e-01,  9.45202053e-01, -5.08554220e-01,\n",
              "         -4.96611923e-01,  4.55737531e-01, -1.28193215e-01,\n",
              "          9.97371554e-01,  5.63709065e-02, -9.57737446e-01,\n",
              "         -9.49424922e-01, -4.97066349e-01,  3.34067374e-01,\n",
              "         -3.85055249e-03, -3.35817151e-02, -3.20606828e-01,\n",
              "         -1.59042418e-01, -1.27369329e-01, -6.24154150e-01,\n",
              "         -8.24373662e-01,  5.03060877e-01, -6.09353781e-01,\n",
              "          1.01700284e-01, -1.90030430e-02,  9.56080496e-01,\n",
              "          9.75943327e-01, -9.84093130e-01,  9.41878021e-01,\n",
              "         -1.71965603e-02,  3.08682799e-01, -9.73376691e-01,\n",
              "          1.00667318e-02, -9.95234728e-01, -2.56728739e-01,\n",
              "         -3.61684471e-01, -8.10291648e-01,  9.50134277e-01,\n",
              "         -2.95491874e-01, -9.40998793e-01, -7.99276412e-01,\n",
              "          5.41151047e-01,  9.71635163e-01, -2.44830608e-01,\n",
              "          4.71310437e-01, -5.99970520e-01, -9.18511152e-01,\n",
              "          6.09188318e-01,  4.46081787e-01,  8.96083713e-01,\n",
              "         -9.51280445e-02,  6.11722529e-01,  5.99561855e-02,\n",
              "          3.95678520e-01, -4.28779632e-01,  8.93381476e-01,\n",
              "          9.93694842e-01, -6.06949747e-01, -3.43859226e-01,\n",
              "         -6.56633735e-01,  5.65179527e-01, -2.54730880e-01,\n",
              "          6.40749693e-01, -3.11750501e-01,  9.13632214e-01,\n",
              "         -8.31234992e-01,  9.20912921e-01,  8.96725953e-02,\n",
              "         -6.03357293e-02, -9.72071528e-01,  7.24094689e-01,\n",
              "          5.82347333e-01,  2.38237157e-01,  3.72525752e-02,\n",
              "         -3.19610745e-01,  4.99859601e-01, -6.64105862e-02,\n",
              "          7.12397516e-01, -1.60979599e-01, -1.77390113e-01,\n",
              "          1.32817298e-01, -3.28518271e-01, -9.91830170e-01,\n",
              "          9.57282543e-01,  5.96701682e-01, -2.75853068e-01,\n",
              "          7.63058722e-01,  1.98270872e-01,  9.86146748e-01,\n",
              "          8.00651133e-01, -1.88440122e-02, -5.19938707e-01,\n",
              "         -1.54853106e-01,  4.72165346e-01,  5.15411854e-01,\n",
              "         -2.45594651e-01,  6.66979253e-01,  6.67149425e-01,\n",
              "         -1.25212133e-01,  1.15550727e-01,  7.54113019e-01,\n",
              "          2.37973526e-01, -9.04164493e-01, -3.82336825e-01,\n",
              "         -3.58246118e-01, -3.90865415e-01, -8.71401906e-01,\n",
              "          6.68906450e-01, -7.09517002e-01, -3.01512539e-01,\n",
              "          9.92195964e-01, -3.49096268e-01, -7.79295564e-01,\n",
              "          1.48693785e-01,  2.50467032e-01,  8.26601803e-01]], dtype=float32)>)"
            ]
          },
          "metadata": {
            "tags": []
          },
          "execution_count": 32
        }
      ]
    },
    {
      "cell_type": "code",
      "metadata": {
        "id": "si9OBszbVOMu"
      },
      "source": [
        ""
      ],
      "execution_count": null,
      "outputs": []
    }
  ]
}